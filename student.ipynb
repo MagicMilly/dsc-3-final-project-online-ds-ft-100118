{
 "cells": [
  {
   "cell_type": "markdown",
   "metadata": {},
   "source": [
    "## Module 3 Final Project Submission - Predicting Water Pump Functionality in Tanzania\n",
    "* Student name: Emily J. Cain\n",
    "* Student pace: full time\n",
    "* Scheduled project review date/time: January 14, 2019\n",
    "* Instructor name: Rafael Carrasco\n",
    "* Blog post URL:"
   ]
  },
  {
   "cell_type": "markdown",
   "metadata": {},
   "source": [
    "### Sources \n",
    "* DrivenData - Data Science Competitions with a Social Impact\n",
    " * https://www.drivendata.org/competitions/7/pump-it-up-data-mining-the-water-table/\n",
    "* Taarifa - an open source platform that helps citizens engage with their local government\n",
    " * http://taarifa.org/\n",
    "* Tanzanian Ministry of Water\n",
    " * http://maji.go.tz/"
   ]
  },
  {
   "cell_type": "markdown",
   "metadata": {},
   "source": [
    "### Data Features\n",
    "* amount_tsh - total static head - amount of water available to waterpoint\n",
    "* date_recorded\n",
    "* funder - who funded the well\n",
    "* gps_height - altitude of the well\n",
    "* installer - organization that installed the well\n",
    "* longitude\n",
    "* latitude\n",
    "* wpt_name - name of waterpoint\n",
    "* num_private\n",
    "* basin \n",
    "* subvillage\n",
    "* region\n",
    "* region_code\n",
    "* district_code\n",
    "* lga - geographic location\n",
    "* ward - geographic location\n",
    "* population\n",
    "* public_meeting\n",
    "* recorded_by - group that collected the data for this well\n",
    "* scheme_management - who operates the waterpoint\n",
    "* scheme_name\n",
    "* permit\n",
    "* construction_year\n",
    "* extraction_type\n",
    "* extraction_type_group\n",
    "* extraction_type_class\n",
    "* management\n",
    "* payment - what the water costs\n",
    "* payment_type\n",
    "* water_quality\n",
    "* quality_group\n",
    "* quantity\n",
    "* quantity_group\n",
    "* source - source of the water\n",
    "* source_type\n",
    "* source_class\n",
    "* waterpoint_type\n",
    "* waterpoint_type_group"
   ]
  },
  {
   "cell_type": "markdown",
   "metadata": {},
   "source": [
    "### Targets for Water Pump Functionality\n",
    "* Functioning\n",
    "* Functioning, in need of repair\n",
    "* Non-functioning"
   ]
  }
 ],
 "metadata": {
  "kernelspec": {
   "display_name": "Python [default]",
   "language": "python",
   "name": "python3"
  },
  "language_info": {
   "codemirror_mode": {
    "name": "ipython",
    "version": 3
   },
   "file_extension": ".py",
   "mimetype": "text/x-python",
   "name": "python",
   "nbconvert_exporter": "python",
   "pygments_lexer": "ipython3",
   "version": "3.6.6"
  }
 },
 "nbformat": 4,
 "nbformat_minor": 2
}
