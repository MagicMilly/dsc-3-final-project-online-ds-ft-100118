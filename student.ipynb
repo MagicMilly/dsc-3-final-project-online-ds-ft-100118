{
 "cells": [
  {
   "cell_type": "markdown",
   "metadata": {},
   "source": [
    "## Module 3 Final Project Submission - Predicting Water Pump Functionality in Tanzania\n",
    "* Student name: Emily J. Cain\n",
    "* Student pace: Full Time\n",
    "* Scheduled project review date/time: January 14, 2019\n",
    "* Instructor name: Rafael Carrasco\n",
    "* Blog post URL:"
   ]
  },
  {
   "cell_type": "code",
   "execution_count": 1,
   "metadata": {},
   "outputs": [],
   "source": [
    "# Notes\n",
    "# create functions / loops when necessary for DRY code\n",
    "# consistent header sizes, viz colors\n",
    "# violin plots"
   ]
  },
  {
   "cell_type": "markdown",
   "metadata": {},
   "source": [
    "### Sources \n",
    "* DrivenData - Data Science Competitions with Social Impact\n",
    " * https://www.drivendata.org/competitions/7/pump-it-up-data-mining-the-water-table/\n",
    "* Taarifa - an open source platform that helps citizens engage with their local government\n",
    " * http://taarifa.org/\n",
    "* Tanzanian Ministry of Water\n",
    " * http://maji.go.tz/"
   ]
  },
  {
   "cell_type": "markdown",
   "metadata": {},
   "source": [
    "## <a href='#section_1'>I. Load & Inspect the Data</a><a id='top'></a>\n",
    "* <a href=#class_variables>Class Variables</a>\n",
    "\n",
    "## <a href='#section_2'>II. Data Cleaning & Exploratory Data Analysis</a>\n",
    "* <a href='#null_values'>Null & Placeholder Values</a>\n",
    "\n",
    "## <a href='#section_3'>III. Preprocessing</a>\n",
    "## <a href='#section_4'>IV. Modeling</a>\n",
    "* <a href='#feature_importance'>Feature Importance Visualization</a>\n",
    "* <a href='#grid_search'>Grid Search</a>\n",
    " * <a href='#random_forest'>Random Forest</a>\n",
    " * <a href='#ada_boost'>AdaBoost Classifier</a>\n",
    " * <a href='#decision_tree'>Decision Tree</a>\n",
    "* <a href='#compare_models'>Model Comparison</a>\n",
    "* <a href='#refit_dt'>Refit Decision Tree</a>\n",
    " \n",
    "## <a href='#section_5'>V. Verify Models with Random Sampling\n",
    "\n",
    "## <a href='#section_6'>VI. Conclusions & Further Questions</a>"
   ]
  },
  {
   "cell_type": "markdown",
   "metadata": {},
   "source": [
    "### Targets for Water Pump Functionality\n",
    "* Functioning\n",
    "* Functioning, in need of repair\n",
    "* Non-functioning"
   ]
  },
  {
   "cell_type": "markdown",
   "metadata": {},
   "source": [
    "### Data Features\n",
    "* amount_tsh - total static head - amount of water available to waterpoint / measure of water pressure\n",
    "* date_recorded\n",
    "* funder - who funded the well\n",
    "* gps_height - altitude of the well\n",
    "* installer - organization that installed the well\n",
    "* longitude\n",
    "* latitude\n",
    "* wpt_name - name of waterpoint\n",
    "* num_private\n",
    "* basin \n",
    "* subvillage\n",
    "* region\n",
    "* region_code\n",
    "* district_code\n",
    "* lga - geographic location\n",
    "* ward - geographic location\n",
    "* population\n",
    "* public_meeting\n",
    "* recorded_by - group that collected the data for this well\n",
    "* scheme_management - who operates the waterpoint\n",
    "* scheme_name\n",
    "* permit\n",
    "* construction_year\n",
    "* extraction_type\n",
    "* extraction_type_group\n",
    "* extraction_type_class\n",
    "* management\n",
    "* payment - what the water costs\n",
    "* payment_type\n",
    "* water_quality\n",
    "* quality_group\n",
    "* quantity\n",
    "* quantity_group\n",
    "* source - source of the water\n",
    "* source_type\n",
    "* source_class\n",
    "* waterpoint_type\n",
    "* waterpoint_type_group"
   ]
  },
  {
   "cell_type": "code",
   "execution_count": 2,
   "metadata": {},
   "outputs": [],
   "source": [
    "import numpy as np\n",
    "import pandas as pd\n",
    "import pydotplus\n",
    "import time\n",
    "\n",
    "from IPython.display import Image\n",
    "from sklearn import svm\n",
    "from sklearn.ensemble import AdaBoostClassifier, GradientBoostingClassifier, RandomForestClassifier\n",
    "from sklearn.externals.six import StringIO\n",
    "from sklearn.metrics import accuracy_score, auc, classification_report, confusion_matrix, f1_score \n",
    "from sklearn.metrics import make_scorer, recall_score, roc_curve\n",
    "from sklearn.model_selection import cross_val_score, GridSearchCV, train_test_split\n",
    "from sklearn.preprocessing import MinMaxScaler, RobustScaler, StandardScaler\n",
    "from sklearn.tree import DecisionTreeClassifier, export_graphviz\n",
    "\n",
    "\n",
    "import seaborn as sns\n",
    "import matplotlib.pyplot as plt\n",
    "%matplotlib inline\n",
    "\n",
    "import warnings\n",
    "warnings.filterwarnings('ignore')"
   ]
  },
  {
   "cell_type": "markdown",
   "metadata": {},
   "source": [
    "#### Functions Used"
   ]
  },
  {
   "cell_type": "code",
   "execution_count": 3,
   "metadata": {},
   "outputs": [],
   "source": [
    "def plot_feature_importances(model):\n",
    "    \n",
    "    \"\"\"Visualize feature importance of selected model as determined by feature_importances_ method.\"\"\"\n",
    "    \n",
    "    n_features = X_train.shape[1]\n",
    "    plt.figure(figsize=(12,12))\n",
    "    plt.barh(range(n_features), model.feature_importances_, align='center', color='purple') \n",
    "    plt.yticks(np.arange(n_features), X_train.columns.values) \n",
    "    plt.xlabel(\"Feature Importance\")\n",
    "    plt.ylabel(\"Feature\")"
   ]
  },
  {
   "cell_type": "markdown",
   "metadata": {},
   "source": [
    "## I. Load & Inspect the Data<a id='section_1'></a>"
   ]
  },
  {
   "cell_type": "code",
   "execution_count": 4,
   "metadata": {},
   "outputs": [],
   "source": [
    "feature_df = pd.read_csv('waterpumpfeatures.csv')\n",
    "target_df = pd.read_csv('traintargets.csv')"
   ]
  },
  {
   "cell_type": "code",
   "execution_count": 5,
   "metadata": {},
   "outputs": [
    {
     "data": {
      "text/html": [
       "<div>\n",
       "<style scoped>\n",
       "    .dataframe tbody tr th:only-of-type {\n",
       "        vertical-align: middle;\n",
       "    }\n",
       "\n",
       "    .dataframe tbody tr th {\n",
       "        vertical-align: top;\n",
       "    }\n",
       "\n",
       "    .dataframe thead th {\n",
       "        text-align: right;\n",
       "    }\n",
       "</style>\n",
       "<table border=\"1\" class=\"dataframe\">\n",
       "  <thead>\n",
       "    <tr style=\"text-align: right;\">\n",
       "      <th></th>\n",
       "      <th>id</th>\n",
       "      <th>amount_tsh</th>\n",
       "      <th>date_recorded</th>\n",
       "      <th>funder</th>\n",
       "      <th>gps_height</th>\n",
       "      <th>installer</th>\n",
       "      <th>longitude</th>\n",
       "      <th>latitude</th>\n",
       "      <th>wpt_name</th>\n",
       "      <th>num_private</th>\n",
       "      <th>...</th>\n",
       "      <th>payment_type</th>\n",
       "      <th>water_quality</th>\n",
       "      <th>quality_group</th>\n",
       "      <th>quantity</th>\n",
       "      <th>quantity_group</th>\n",
       "      <th>source</th>\n",
       "      <th>source_type</th>\n",
       "      <th>source_class</th>\n",
       "      <th>waterpoint_type</th>\n",
       "      <th>waterpoint_type_group</th>\n",
       "    </tr>\n",
       "  </thead>\n",
       "  <tbody>\n",
       "    <tr>\n",
       "      <th>0</th>\n",
       "      <td>69572</td>\n",
       "      <td>6000.0</td>\n",
       "      <td>2011-03-14</td>\n",
       "      <td>Roman</td>\n",
       "      <td>1390</td>\n",
       "      <td>Roman</td>\n",
       "      <td>34.938093</td>\n",
       "      <td>-9.856322</td>\n",
       "      <td>none</td>\n",
       "      <td>0</td>\n",
       "      <td>...</td>\n",
       "      <td>annually</td>\n",
       "      <td>soft</td>\n",
       "      <td>good</td>\n",
       "      <td>enough</td>\n",
       "      <td>enough</td>\n",
       "      <td>spring</td>\n",
       "      <td>spring</td>\n",
       "      <td>groundwater</td>\n",
       "      <td>communal standpipe</td>\n",
       "      <td>communal standpipe</td>\n",
       "    </tr>\n",
       "    <tr>\n",
       "      <th>1</th>\n",
       "      <td>8776</td>\n",
       "      <td>0.0</td>\n",
       "      <td>2013-03-06</td>\n",
       "      <td>Grumeti</td>\n",
       "      <td>1399</td>\n",
       "      <td>GRUMETI</td>\n",
       "      <td>34.698766</td>\n",
       "      <td>-2.147466</td>\n",
       "      <td>Zahanati</td>\n",
       "      <td>0</td>\n",
       "      <td>...</td>\n",
       "      <td>never pay</td>\n",
       "      <td>soft</td>\n",
       "      <td>good</td>\n",
       "      <td>insufficient</td>\n",
       "      <td>insufficient</td>\n",
       "      <td>rainwater harvesting</td>\n",
       "      <td>rainwater harvesting</td>\n",
       "      <td>surface</td>\n",
       "      <td>communal standpipe</td>\n",
       "      <td>communal standpipe</td>\n",
       "    </tr>\n",
       "    <tr>\n",
       "      <th>2</th>\n",
       "      <td>34310</td>\n",
       "      <td>25.0</td>\n",
       "      <td>2013-02-25</td>\n",
       "      <td>Lottery Club</td>\n",
       "      <td>686</td>\n",
       "      <td>World vision</td>\n",
       "      <td>37.460664</td>\n",
       "      <td>-3.821329</td>\n",
       "      <td>Kwa Mahundi</td>\n",
       "      <td>0</td>\n",
       "      <td>...</td>\n",
       "      <td>per bucket</td>\n",
       "      <td>soft</td>\n",
       "      <td>good</td>\n",
       "      <td>enough</td>\n",
       "      <td>enough</td>\n",
       "      <td>dam</td>\n",
       "      <td>dam</td>\n",
       "      <td>surface</td>\n",
       "      <td>communal standpipe multiple</td>\n",
       "      <td>communal standpipe</td>\n",
       "    </tr>\n",
       "    <tr>\n",
       "      <th>3</th>\n",
       "      <td>67743</td>\n",
       "      <td>0.0</td>\n",
       "      <td>2013-01-28</td>\n",
       "      <td>Unicef</td>\n",
       "      <td>263</td>\n",
       "      <td>UNICEF</td>\n",
       "      <td>38.486161</td>\n",
       "      <td>-11.155298</td>\n",
       "      <td>Zahanati Ya Nanyumbu</td>\n",
       "      <td>0</td>\n",
       "      <td>...</td>\n",
       "      <td>never pay</td>\n",
       "      <td>soft</td>\n",
       "      <td>good</td>\n",
       "      <td>dry</td>\n",
       "      <td>dry</td>\n",
       "      <td>machine dbh</td>\n",
       "      <td>borehole</td>\n",
       "      <td>groundwater</td>\n",
       "      <td>communal standpipe multiple</td>\n",
       "      <td>communal standpipe</td>\n",
       "    </tr>\n",
       "    <tr>\n",
       "      <th>4</th>\n",
       "      <td>19728</td>\n",
       "      <td>0.0</td>\n",
       "      <td>2011-07-13</td>\n",
       "      <td>Action In A</td>\n",
       "      <td>0</td>\n",
       "      <td>Artisan</td>\n",
       "      <td>31.130847</td>\n",
       "      <td>-1.825359</td>\n",
       "      <td>Shuleni</td>\n",
       "      <td>0</td>\n",
       "      <td>...</td>\n",
       "      <td>never pay</td>\n",
       "      <td>soft</td>\n",
       "      <td>good</td>\n",
       "      <td>seasonal</td>\n",
       "      <td>seasonal</td>\n",
       "      <td>rainwater harvesting</td>\n",
       "      <td>rainwater harvesting</td>\n",
       "      <td>surface</td>\n",
       "      <td>communal standpipe</td>\n",
       "      <td>communal standpipe</td>\n",
       "    </tr>\n",
       "  </tbody>\n",
       "</table>\n",
       "<p>5 rows × 40 columns</p>\n",
       "</div>"
      ],
      "text/plain": [
       "      id  amount_tsh date_recorded        funder  gps_height     installer  \\\n",
       "0  69572      6000.0    2011-03-14         Roman        1390         Roman   \n",
       "1   8776         0.0    2013-03-06       Grumeti        1399       GRUMETI   \n",
       "2  34310        25.0    2013-02-25  Lottery Club         686  World vision   \n",
       "3  67743         0.0    2013-01-28        Unicef         263        UNICEF   \n",
       "4  19728         0.0    2011-07-13   Action In A           0       Artisan   \n",
       "\n",
       "   longitude   latitude              wpt_name  num_private  \\\n",
       "0  34.938093  -9.856322                  none            0   \n",
       "1  34.698766  -2.147466              Zahanati            0   \n",
       "2  37.460664  -3.821329           Kwa Mahundi            0   \n",
       "3  38.486161 -11.155298  Zahanati Ya Nanyumbu            0   \n",
       "4  31.130847  -1.825359               Shuleni            0   \n",
       "\n",
       "           ...          payment_type water_quality quality_group  \\\n",
       "0          ...              annually          soft          good   \n",
       "1          ...             never pay          soft          good   \n",
       "2          ...            per bucket          soft          good   \n",
       "3          ...             never pay          soft          good   \n",
       "4          ...             never pay          soft          good   \n",
       "\n",
       "       quantity  quantity_group                source           source_type  \\\n",
       "0        enough          enough                spring                spring   \n",
       "1  insufficient    insufficient  rainwater harvesting  rainwater harvesting   \n",
       "2        enough          enough                   dam                   dam   \n",
       "3           dry             dry           machine dbh              borehole   \n",
       "4      seasonal        seasonal  rainwater harvesting  rainwater harvesting   \n",
       "\n",
       "   source_class              waterpoint_type waterpoint_type_group  \n",
       "0   groundwater           communal standpipe    communal standpipe  \n",
       "1       surface           communal standpipe    communal standpipe  \n",
       "2       surface  communal standpipe multiple    communal standpipe  \n",
       "3   groundwater  communal standpipe multiple    communal standpipe  \n",
       "4       surface           communal standpipe    communal standpipe  \n",
       "\n",
       "[5 rows x 40 columns]"
      ]
     },
     "execution_count": 5,
     "metadata": {},
     "output_type": "execute_result"
    }
   ],
   "source": [
    "feature_df.head()"
   ]
  },
  {
   "cell_type": "code",
   "execution_count": 6,
   "metadata": {},
   "outputs": [
    {
     "data": {
      "text/plain": [
       "(59400, 40)"
      ]
     },
     "execution_count": 6,
     "metadata": {},
     "output_type": "execute_result"
    }
   ],
   "source": [
    "feature_df.shape"
   ]
  },
  {
   "cell_type": "code",
   "execution_count": 7,
   "metadata": {},
   "outputs": [
    {
     "data": {
      "text/html": [
       "<div>\n",
       "<style scoped>\n",
       "    .dataframe tbody tr th:only-of-type {\n",
       "        vertical-align: middle;\n",
       "    }\n",
       "\n",
       "    .dataframe tbody tr th {\n",
       "        vertical-align: top;\n",
       "    }\n",
       "\n",
       "    .dataframe thead th {\n",
       "        text-align: right;\n",
       "    }\n",
       "</style>\n",
       "<table border=\"1\" class=\"dataframe\">\n",
       "  <thead>\n",
       "    <tr style=\"text-align: right;\">\n",
       "      <th></th>\n",
       "      <th>id</th>\n",
       "      <th>status_group</th>\n",
       "    </tr>\n",
       "  </thead>\n",
       "  <tbody>\n",
       "    <tr>\n",
       "      <th>0</th>\n",
       "      <td>69572</td>\n",
       "      <td>functional</td>\n",
       "    </tr>\n",
       "    <tr>\n",
       "      <th>1</th>\n",
       "      <td>8776</td>\n",
       "      <td>functional</td>\n",
       "    </tr>\n",
       "    <tr>\n",
       "      <th>2</th>\n",
       "      <td>34310</td>\n",
       "      <td>functional</td>\n",
       "    </tr>\n",
       "    <tr>\n",
       "      <th>3</th>\n",
       "      <td>67743</td>\n",
       "      <td>non functional</td>\n",
       "    </tr>\n",
       "    <tr>\n",
       "      <th>4</th>\n",
       "      <td>19728</td>\n",
       "      <td>functional</td>\n",
       "    </tr>\n",
       "  </tbody>\n",
       "</table>\n",
       "</div>"
      ],
      "text/plain": [
       "      id    status_group\n",
       "0  69572      functional\n",
       "1   8776      functional\n",
       "2  34310      functional\n",
       "3  67743  non functional\n",
       "4  19728      functional"
      ]
     },
     "execution_count": 7,
     "metadata": {},
     "output_type": "execute_result"
    }
   ],
   "source": [
    "target_df.head()"
   ]
  },
  {
   "cell_type": "code",
   "execution_count": 8,
   "metadata": {},
   "outputs": [
    {
     "data": {
      "text/plain": [
       "(59400, 2)"
      ]
     },
     "execution_count": 8,
     "metadata": {},
     "output_type": "execute_result"
    }
   ],
   "source": [
    "target_df.shape"
   ]
  },
  {
   "cell_type": "code",
   "execution_count": 9,
   "metadata": {},
   "outputs": [
    {
     "data": {
      "image/png": "[encoded data removed]",
      "text/plain": [
       "<Figure size 432x288 with 1 Axes>"
      ]
     },
     "metadata": {
      "needs_background": "light"
     },
     "output_type": "display_data"
    }
   ],
   "source": [
    "target_df.status_group.value_counts().plot(kind='bar');"
   ]
  },
  {
   "cell_type": "code",
   "execution_count": 10,
   "metadata": {},
   "outputs": [
    {
     "data": {
      "text/html": [
       "<div>\n",
       "<style scoped>\n",
       "    .dataframe tbody tr th:only-of-type {\n",
       "        vertical-align: middle;\n",
       "    }\n",
       "\n",
       "    .dataframe tbody tr th {\n",
       "        vertical-align: top;\n",
       "    }\n",
       "\n",
       "    .dataframe thead th {\n",
       "        text-align: right;\n",
       "    }\n",
       "</style>\n",
       "<table border=\"1\" class=\"dataframe\">\n",
       "  <thead>\n",
       "    <tr style=\"text-align: right;\">\n",
       "      <th></th>\n",
       "      <th>id_x</th>\n",
       "      <th>status_group</th>\n",
       "      <th>id_y</th>\n",
       "      <th>amount_tsh</th>\n",
       "      <th>date_recorded</th>\n",
       "      <th>funder</th>\n",
       "      <th>gps_height</th>\n",
       "      <th>installer</th>\n",
       "      <th>longitude</th>\n",
       "      <th>latitude</th>\n",
       "      <th>...</th>\n",
       "      <th>payment_type</th>\n",
       "      <th>water_quality</th>\n",
       "      <th>quality_group</th>\n",
       "      <th>quantity</th>\n",
       "      <th>quantity_group</th>\n",
       "      <th>source</th>\n",
       "      <th>source_type</th>\n",
       "      <th>source_class</th>\n",
       "      <th>waterpoint_type</th>\n",
       "      <th>waterpoint_type_group</th>\n",
       "    </tr>\n",
       "  </thead>\n",
       "  <tbody>\n",
       "    <tr>\n",
       "      <th>0</th>\n",
       "      <td>69572</td>\n",
       "      <td>functional</td>\n",
       "      <td>69572</td>\n",
       "      <td>6000.0</td>\n",
       "      <td>2011-03-14</td>\n",
       "      <td>Roman</td>\n",
       "      <td>1390</td>\n",
       "      <td>Roman</td>\n",
       "      <td>34.938093</td>\n",
       "      <td>-9.856322</td>\n",
       "      <td>...</td>\n",
       "      <td>annually</td>\n",
       "      <td>soft</td>\n",
       "      <td>good</td>\n",
       "      <td>enough</td>\n",
       "      <td>enough</td>\n",
       "      <td>spring</td>\n",
       "      <td>spring</td>\n",
       "      <td>groundwater</td>\n",
       "      <td>communal standpipe</td>\n",
       "      <td>communal standpipe</td>\n",
       "    </tr>\n",
       "    <tr>\n",
       "      <th>1</th>\n",
       "      <td>8776</td>\n",
       "      <td>functional</td>\n",
       "      <td>8776</td>\n",
       "      <td>0.0</td>\n",
       "      <td>2013-03-06</td>\n",
       "      <td>Grumeti</td>\n",
       "      <td>1399</td>\n",
       "      <td>GRUMETI</td>\n",
       "      <td>34.698766</td>\n",
       "      <td>-2.147466</td>\n",
       "      <td>...</td>\n",
       "      <td>never pay</td>\n",
       "      <td>soft</td>\n",
       "      <td>good</td>\n",
       "      <td>insufficient</td>\n",
       "      <td>insufficient</td>\n",
       "      <td>rainwater harvesting</td>\n",
       "      <td>rainwater harvesting</td>\n",
       "      <td>surface</td>\n",
       "      <td>communal standpipe</td>\n",
       "      <td>communal standpipe</td>\n",
       "    </tr>\n",
       "    <tr>\n",
       "      <th>2</th>\n",
       "      <td>34310</td>\n",
       "      <td>functional</td>\n",
       "      <td>34310</td>\n",
       "      <td>25.0</td>\n",
       "      <td>2013-02-25</td>\n",
       "      <td>Lottery Club</td>\n",
       "      <td>686</td>\n",
       "      <td>World vision</td>\n",
       "      <td>37.460664</td>\n",
       "      <td>-3.821329</td>\n",
       "      <td>...</td>\n",
       "      <td>per bucket</td>\n",
       "      <td>soft</td>\n",
       "      <td>good</td>\n",
       "      <td>enough</td>\n",
       "      <td>enough</td>\n",
       "      <td>dam</td>\n",
       "      <td>dam</td>\n",
       "      <td>surface</td>\n",
       "      <td>communal standpipe multiple</td>\n",
       "      <td>communal standpipe</td>\n",
       "    </tr>\n",
       "    <tr>\n",
       "      <th>3</th>\n",
       "      <td>67743</td>\n",
       "      <td>non functional</td>\n",
       "      <td>67743</td>\n",
       "      <td>0.0</td>\n",
       "      <td>2013-01-28</td>\n",
       "      <td>Unicef</td>\n",
       "      <td>263</td>\n",
       "      <td>UNICEF</td>\n",
       "      <td>38.486161</td>\n",
       "      <td>-11.155298</td>\n",
       "      <td>...</td>\n",
       "      <td>never pay</td>\n",
       "      <td>soft</td>\n",
       "      <td>good</td>\n",
       "      <td>dry</td>\n",
       "      <td>dry</td>\n",
       "      <td>machine dbh</td>\n",
       "      <td>borehole</td>\n",
       "      <td>groundwater</td>\n",
       "      <td>communal standpipe multiple</td>\n",
       "      <td>communal standpipe</td>\n",
       "    </tr>\n",
       "    <tr>\n",
       "      <th>4</th>\n",
       "      <td>19728</td>\n",
       "      <td>functional</td>\n",
       "      <td>19728</td>\n",
       "      <td>0.0</td>\n",
       "      <td>2011-07-13</td>\n",
       "      <td>Action In A</td>\n",
       "      <td>0</td>\n",
       "      <td>Artisan</td>\n",
       "      <td>31.130847</td>\n",
       "      <td>-1.825359</td>\n",
       "      <td>...</td>\n",
       "      <td>never pay</td>\n",
       "      <td>soft</td>\n",
       "      <td>good</td>\n",
       "      <td>seasonal</td>\n",
       "      <td>seasonal</td>\n",
       "      <td>rainwater harvesting</td>\n",
       "      <td>rainwater harvesting</td>\n",
       "      <td>surface</td>\n",
       "      <td>communal standpipe</td>\n",
       "      <td>communal standpipe</td>\n",
       "    </tr>\n",
       "  </tbody>\n",
       "</table>\n",
       "<p>5 rows × 42 columns</p>\n",
       "</div>"
      ],
      "text/plain": [
       "    id_x    status_group   id_y  amount_tsh date_recorded        funder  \\\n",
       "0  69572      functional  69572      6000.0    2011-03-14         Roman   \n",
       "1   8776      functional   8776         0.0    2013-03-06       Grumeti   \n",
       "2  34310      functional  34310        25.0    2013-02-25  Lottery Club   \n",
       "3  67743  non functional  67743         0.0    2013-01-28        Unicef   \n",
       "4  19728      functional  19728         0.0    2011-07-13   Action In A   \n",
       "\n",
       "   gps_height     installer  longitude   latitude          ...            \\\n",
       "0        1390         Roman  34.938093  -9.856322          ...             \n",
       "1        1399       GRUMETI  34.698766  -2.147466          ...             \n",
       "2         686  World vision  37.460664  -3.821329          ...             \n",
       "3         263        UNICEF  38.486161 -11.155298          ...             \n",
       "4           0       Artisan  31.130847  -1.825359          ...             \n",
       "\n",
       "  payment_type  water_quality quality_group      quantity quantity_group  \\\n",
       "0     annually           soft          good        enough         enough   \n",
       "1    never pay           soft          good  insufficient   insufficient   \n",
       "2   per bucket           soft          good        enough         enough   \n",
       "3    never pay           soft          good           dry            dry   \n",
       "4    never pay           soft          good      seasonal       seasonal   \n",
       "\n",
       "                 source           source_type source_class  \\\n",
       "0                spring                spring  groundwater   \n",
       "1  rainwater harvesting  rainwater harvesting      surface   \n",
       "2                   dam                   dam      surface   \n",
       "3           machine dbh              borehole  groundwater   \n",
       "4  rainwater harvesting  rainwater harvesting      surface   \n",
       "\n",
       "               waterpoint_type  waterpoint_type_group  \n",
       "0           communal standpipe     communal standpipe  \n",
       "1           communal standpipe     communal standpipe  \n",
       "2  communal standpipe multiple     communal standpipe  \n",
       "3  communal standpipe multiple     communal standpipe  \n",
       "4           communal standpipe     communal standpipe  \n",
       "\n",
       "[5 rows x 42 columns]"
      ]
     },
     "execution_count": 10,
     "metadata": {},
     "output_type": "execute_result"
    }
   ],
   "source": [
    "df = pd.merge(target_df, feature_df, left_index=True, right_index=True)\n",
    "df.head()"
   ]
  },
  {
   "cell_type": "markdown",
   "metadata": {},
   "source": [
    "#### Combine 'non functional' and 'needs repair' into one class<a id='class_variables'></a>"
   ]
  },
  {
   "cell_type": "code",
   "execution_count": 11,
   "metadata": {},
   "outputs": [],
   "source": [
    "df.status_group.replace({'non functional': 'needs repair', 'functional needs repair': 'needs repair'}, inplace=True)"
   ]
  },
  {
   "cell_type": "code",
   "execution_count": 12,
   "metadata": {},
   "outputs": [
    {
     "data": {
      "image/png": "[encoded data removed]",
      "text/plain": [
       "<Figure size 432x288 with 1 Axes>"
      ]
     },
     "metadata": {
      "needs_background": "light"
     },
     "output_type": "display_data"
    }
   ],
   "source": [
    "df.status_group.value_counts().plot(kind='bar');"
   ]
  },
  {
   "cell_type": "markdown",
   "metadata": {},
   "source": [
    "#### Change target to binary variables"
   ]
  },
  {
   "cell_type": "code",
   "execution_count": 13,
   "metadata": {},
   "outputs": [],
   "source": [
    "df.status_group.replace({'functional': 1, 'needs repair': 0}, inplace=True)"
   ]
  },
  {
   "cell_type": "markdown",
   "metadata": {},
   "source": [
    "## II. Data Cleaning & Exploratory Data Analysis<a id='section_2'></a>\n",
    "<a href='#top'>Back to Top</a>"
   ]
  },
  {
   "cell_type": "code",
   "execution_count": 14,
   "metadata": {},
   "outputs": [
    {
     "data": {
      "text/html": [
       "<div>\n",
       "<style scoped>\n",
       "    .dataframe tbody tr th:only-of-type {\n",
       "        vertical-align: middle;\n",
       "    }\n",
       "\n",
       "    .dataframe tbody tr th {\n",
       "        vertical-align: top;\n",
       "    }\n",
       "\n",
       "    .dataframe thead th {\n",
       "        text-align: right;\n",
       "    }\n",
       "</style>\n",
       "<table border=\"1\" class=\"dataframe\">\n",
       "  <thead>\n",
       "    <tr style=\"text-align: right;\">\n",
       "      <th></th>\n",
       "      <th>id_x</th>\n",
       "      <th>status_group</th>\n",
       "      <th>id_y</th>\n",
       "      <th>amount_tsh</th>\n",
       "      <th>gps_height</th>\n",
       "      <th>longitude</th>\n",
       "      <th>latitude</th>\n",
       "      <th>num_private</th>\n",
       "      <th>region_code</th>\n",
       "      <th>district_code</th>\n",
       "      <th>population</th>\n",
       "      <th>construction_year</th>\n",
       "    </tr>\n",
       "  </thead>\n",
       "  <tbody>\n",
       "    <tr>\n",
       "      <th>count</th>\n",
       "      <td>59400.000000</td>\n",
       "      <td>59400.000000</td>\n",
       "      <td>59400.000000</td>\n",
       "      <td>59400.000000</td>\n",
       "      <td>59400.000000</td>\n",
       "      <td>59400.000000</td>\n",
       "      <td>5.940000e+04</td>\n",
       "      <td>59400.000000</td>\n",
       "      <td>59400.000000</td>\n",
       "      <td>59400.000000</td>\n",
       "      <td>59400.000000</td>\n",
       "      <td>59400.000000</td>\n",
       "    </tr>\n",
       "    <tr>\n",
       "      <th>mean</th>\n",
       "      <td>37115.131768</td>\n",
       "      <td>0.543081</td>\n",
       "      <td>37115.131768</td>\n",
       "      <td>317.650385</td>\n",
       "      <td>668.297239</td>\n",
       "      <td>34.077427</td>\n",
       "      <td>-5.706033e+00</td>\n",
       "      <td>0.474141</td>\n",
       "      <td>15.297003</td>\n",
       "      <td>5.629747</td>\n",
       "      <td>179.909983</td>\n",
       "      <td>1300.652475</td>\n",
       "    </tr>\n",
       "    <tr>\n",
       "      <th>std</th>\n",
       "      <td>21453.128371</td>\n",
       "      <td>0.498145</td>\n",
       "      <td>21453.128371</td>\n",
       "      <td>2997.574558</td>\n",
       "      <td>693.116350</td>\n",
       "      <td>6.567432</td>\n",
       "      <td>2.946019e+00</td>\n",
       "      <td>12.236230</td>\n",
       "      <td>17.587406</td>\n",
       "      <td>9.633649</td>\n",
       "      <td>471.482176</td>\n",
       "      <td>951.620547</td>\n",
       "    </tr>\n",
       "    <tr>\n",
       "      <th>min</th>\n",
       "      <td>0.000000</td>\n",
       "      <td>0.000000</td>\n",
       "      <td>0.000000</td>\n",
       "      <td>0.000000</td>\n",
       "      <td>-90.000000</td>\n",
       "      <td>0.000000</td>\n",
       "      <td>-1.164944e+01</td>\n",
       "      <td>0.000000</td>\n",
       "      <td>1.000000</td>\n",
       "      <td>0.000000</td>\n",
       "      <td>0.000000</td>\n",
       "      <td>0.000000</td>\n",
       "    </tr>\n",
       "    <tr>\n",
       "      <th>25%</th>\n",
       "      <td>18519.750000</td>\n",
       "      <td>0.000000</td>\n",
       "      <td>18519.750000</td>\n",
       "      <td>0.000000</td>\n",
       "      <td>0.000000</td>\n",
       "      <td>33.090347</td>\n",
       "      <td>-8.540621e+00</td>\n",
       "      <td>0.000000</td>\n",
       "      <td>5.000000</td>\n",
       "      <td>2.000000</td>\n",
       "      <td>0.000000</td>\n",
       "      <td>0.000000</td>\n",
       "    </tr>\n",
       "    <tr>\n",
       "      <th>50%</th>\n",
       "      <td>37061.500000</td>\n",
       "      <td>1.000000</td>\n",
       "      <td>37061.500000</td>\n",
       "      <td>0.000000</td>\n",
       "      <td>369.000000</td>\n",
       "      <td>34.908743</td>\n",
       "      <td>-5.021597e+00</td>\n",
       "      <td>0.000000</td>\n",
       "      <td>12.000000</td>\n",
       "      <td>3.000000</td>\n",
       "      <td>25.000000</td>\n",
       "      <td>1986.000000</td>\n",
       "    </tr>\n",
       "    <tr>\n",
       "      <th>75%</th>\n",
       "      <td>55656.500000</td>\n",
       "      <td>1.000000</td>\n",
       "      <td>55656.500000</td>\n",
       "      <td>20.000000</td>\n",
       "      <td>1319.250000</td>\n",
       "      <td>37.178387</td>\n",
       "      <td>-3.326156e+00</td>\n",
       "      <td>0.000000</td>\n",
       "      <td>17.000000</td>\n",
       "      <td>5.000000</td>\n",
       "      <td>215.000000</td>\n",
       "      <td>2004.000000</td>\n",
       "    </tr>\n",
       "    <tr>\n",
       "      <th>max</th>\n",
       "      <td>74247.000000</td>\n",
       "      <td>1.000000</td>\n",
       "      <td>74247.000000</td>\n",
       "      <td>350000.000000</td>\n",
       "      <td>2770.000000</td>\n",
       "      <td>40.345193</td>\n",
       "      <td>-2.000000e-08</td>\n",
       "      <td>1776.000000</td>\n",
       "      <td>99.000000</td>\n",
       "      <td>80.000000</td>\n",
       "      <td>30500.000000</td>\n",
       "      <td>2013.000000</td>\n",
       "    </tr>\n",
       "  </tbody>\n",
       "</table>\n",
       "</div>"
      ],
      "text/plain": [
       "               id_x  status_group          id_y     amount_tsh    gps_height  \\\n",
       "count  59400.000000  59400.000000  59400.000000   59400.000000  59400.000000   \n",
       "mean   37115.131768      0.543081  37115.131768     317.650385    668.297239   \n",
       "std    21453.128371      0.498145  21453.128371    2997.574558    693.116350   \n",
       "min        0.000000      0.000000      0.000000       0.000000    -90.000000   \n",
       "25%    18519.750000      0.000000  18519.750000       0.000000      0.000000   \n",
       "50%    37061.500000      1.000000  37061.500000       0.000000    369.000000   \n",
       "75%    55656.500000      1.000000  55656.500000      20.000000   1319.250000   \n",
       "max    74247.000000      1.000000  74247.000000  350000.000000   2770.000000   \n",
       "\n",
       "          longitude      latitude   num_private   region_code  district_code  \\\n",
       "count  59400.000000  5.940000e+04  59400.000000  59400.000000   59400.000000   \n",
       "mean      34.077427 -5.706033e+00      0.474141     15.297003       5.629747   \n",
       "std        6.567432  2.946019e+00     12.236230     17.587406       9.633649   \n",
       "min        0.000000 -1.164944e+01      0.000000      1.000000       0.000000   \n",
       "25%       33.090347 -8.540621e+00      0.000000      5.000000       2.000000   \n",
       "50%       34.908743 -5.021597e+00      0.000000     12.000000       3.000000   \n",
       "75%       37.178387 -3.326156e+00      0.000000     17.000000       5.000000   \n",
       "max       40.345193 -2.000000e-08   1776.000000     99.000000      80.000000   \n",
       "\n",
       "         population  construction_year  \n",
       "count  59400.000000       59400.000000  \n",
       "mean     179.909983        1300.652475  \n",
       "std      471.482176         951.620547  \n",
       "min        0.000000           0.000000  \n",
       "25%        0.000000           0.000000  \n",
       "50%       25.000000        1986.000000  \n",
       "75%      215.000000        2004.000000  \n",
       "max    30500.000000        2013.000000  "
      ]
     },
     "execution_count": 14,
     "metadata": {},
     "output_type": "execute_result"
    }
   ],
   "source": [
    "df.describe()"
   ]
  },
  {
   "cell_type": "code",
   "execution_count": 15,
   "metadata": {},
   "outputs": [
    {
     "data": {
      "text/plain": [
       "id_x                       int64\n",
       "status_group               int64\n",
       "id_y                       int64\n",
       "amount_tsh               float64\n",
       "date_recorded             object\n",
       "funder                    object\n",
       "gps_height                 int64\n",
       "installer                 object\n",
       "longitude                float64\n",
       "latitude                 float64\n",
       "wpt_name                  object\n",
       "num_private                int64\n",
       "basin                     object\n",
       "subvillage                object\n",
       "region                    object\n",
       "region_code                int64\n",
       "district_code              int64\n",
       "lga                       object\n",
       "ward                      object\n",
       "population                 int64\n",
       "public_meeting            object\n",
       "recorded_by               object\n",
       "scheme_management         object\n",
       "scheme_name               object\n",
       "permit                    object\n",
       "construction_year          int64\n",
       "extraction_type           object\n",
       "extraction_type_group     object\n",
       "extraction_type_class     object\n",
       "management                object\n",
       "management_group          object\n",
       "payment                   object\n",
       "payment_type              object\n",
       "water_quality             object\n",
       "quality_group             object\n",
       "quantity                  object\n",
       "quantity_group            object\n",
       "source                    object\n",
       "source_type               object\n",
       "source_class              object\n",
       "waterpoint_type           object\n",
       "waterpoint_type_group     object\n",
       "dtype: object"
      ]
     },
     "execution_count": 15,
     "metadata": {},
     "output_type": "execute_result"
    }
   ],
   "source": [
    "df.dtypes"
   ]
  },
  {
   "cell_type": "markdown",
   "metadata": {},
   "source": [
    "#### Drop 'id' column"
   ]
  },
  {
   "cell_type": "code",
   "execution_count": 16,
   "metadata": {},
   "outputs": [],
   "source": [
    "df.drop(['id_x', 'id_y'], axis=1, inplace=True)"
   ]
  },
  {
   "cell_type": "code",
   "execution_count": 17,
   "metadata": {},
   "outputs": [
    {
     "data": {
      "text/html": [
       "<div>\n",
       "<style scoped>\n",
       "    .dataframe tbody tr th:only-of-type {\n",
       "        vertical-align: middle;\n",
       "    }\n",
       "\n",
       "    .dataframe tbody tr th {\n",
       "        vertical-align: top;\n",
       "    }\n",
       "\n",
       "    .dataframe thead th {\n",
       "        text-align: right;\n",
       "    }\n",
       "</style>\n",
       "<table border=\"1\" class=\"dataframe\">\n",
       "  <thead>\n",
       "    <tr style=\"text-align: right;\">\n",
       "      <th></th>\n",
       "      <th>status_group</th>\n",
       "      <th>amount_tsh</th>\n",
       "      <th>date_recorded</th>\n",
       "      <th>funder</th>\n",
       "      <th>gps_height</th>\n",
       "      <th>installer</th>\n",
       "      <th>longitude</th>\n",
       "      <th>latitude</th>\n",
       "      <th>wpt_name</th>\n",
       "      <th>num_private</th>\n",
       "      <th>...</th>\n",
       "      <th>payment_type</th>\n",
       "      <th>water_quality</th>\n",
       "      <th>quality_group</th>\n",
       "      <th>quantity</th>\n",
       "      <th>quantity_group</th>\n",
       "      <th>source</th>\n",
       "      <th>source_type</th>\n",
       "      <th>source_class</th>\n",
       "      <th>waterpoint_type</th>\n",
       "      <th>waterpoint_type_group</th>\n",
       "    </tr>\n",
       "  </thead>\n",
       "  <tbody>\n",
       "    <tr>\n",
       "      <th>0</th>\n",
       "      <td>1</td>\n",
       "      <td>6000.0</td>\n",
       "      <td>2011-03-14</td>\n",
       "      <td>Roman</td>\n",
       "      <td>1390</td>\n",
       "      <td>Roman</td>\n",
       "      <td>34.938093</td>\n",
       "      <td>-9.856322</td>\n",
       "      <td>none</td>\n",
       "      <td>0</td>\n",
       "      <td>...</td>\n",
       "      <td>annually</td>\n",
       "      <td>soft</td>\n",
       "      <td>good</td>\n",
       "      <td>enough</td>\n",
       "      <td>enough</td>\n",
       "      <td>spring</td>\n",
       "      <td>spring</td>\n",
       "      <td>groundwater</td>\n",
       "      <td>communal standpipe</td>\n",
       "      <td>communal standpipe</td>\n",
       "    </tr>\n",
       "    <tr>\n",
       "      <th>1</th>\n",
       "      <td>1</td>\n",
       "      <td>0.0</td>\n",
       "      <td>2013-03-06</td>\n",
       "      <td>Grumeti</td>\n",
       "      <td>1399</td>\n",
       "      <td>GRUMETI</td>\n",
       "      <td>34.698766</td>\n",
       "      <td>-2.147466</td>\n",
       "      <td>Zahanati</td>\n",
       "      <td>0</td>\n",
       "      <td>...</td>\n",
       "      <td>never pay</td>\n",
       "      <td>soft</td>\n",
       "      <td>good</td>\n",
       "      <td>insufficient</td>\n",
       "      <td>insufficient</td>\n",
       "      <td>rainwater harvesting</td>\n",
       "      <td>rainwater harvesting</td>\n",
       "      <td>surface</td>\n",
       "      <td>communal standpipe</td>\n",
       "      <td>communal standpipe</td>\n",
       "    </tr>\n",
       "    <tr>\n",
       "      <th>2</th>\n",
       "      <td>1</td>\n",
       "      <td>25.0</td>\n",
       "      <td>2013-02-25</td>\n",
       "      <td>Lottery Club</td>\n",
       "      <td>686</td>\n",
       "      <td>World vision</td>\n",
       "      <td>37.460664</td>\n",
       "      <td>-3.821329</td>\n",
       "      <td>Kwa Mahundi</td>\n",
       "      <td>0</td>\n",
       "      <td>...</td>\n",
       "      <td>per bucket</td>\n",
       "      <td>soft</td>\n",
       "      <td>good</td>\n",
       "      <td>enough</td>\n",
       "      <td>enough</td>\n",
       "      <td>dam</td>\n",
       "      <td>dam</td>\n",
       "      <td>surface</td>\n",
       "      <td>communal standpipe multiple</td>\n",
       "      <td>communal standpipe</td>\n",
       "    </tr>\n",
       "    <tr>\n",
       "      <th>3</th>\n",
       "      <td>0</td>\n",
       "      <td>0.0</td>\n",
       "      <td>2013-01-28</td>\n",
       "      <td>Unicef</td>\n",
       "      <td>263</td>\n",
       "      <td>UNICEF</td>\n",
       "      <td>38.486161</td>\n",
       "      <td>-11.155298</td>\n",
       "      <td>Zahanati Ya Nanyumbu</td>\n",
       "      <td>0</td>\n",
       "      <td>...</td>\n",
       "      <td>never pay</td>\n",
       "      <td>soft</td>\n",
       "      <td>good</td>\n",
       "      <td>dry</td>\n",
       "      <td>dry</td>\n",
       "      <td>machine dbh</td>\n",
       "      <td>borehole</td>\n",
       "      <td>groundwater</td>\n",
       "      <td>communal standpipe multiple</td>\n",
       "      <td>communal standpipe</td>\n",
       "    </tr>\n",
       "    <tr>\n",
       "      <th>4</th>\n",
       "      <td>1</td>\n",
       "      <td>0.0</td>\n",
       "      <td>2011-07-13</td>\n",
       "      <td>Action In A</td>\n",
       "      <td>0</td>\n",
       "      <td>Artisan</td>\n",
       "      <td>31.130847</td>\n",
       "      <td>-1.825359</td>\n",
       "      <td>Shuleni</td>\n",
       "      <td>0</td>\n",
       "      <td>...</td>\n",
       "      <td>never pay</td>\n",
       "      <td>soft</td>\n",
       "      <td>good</td>\n",
       "      <td>seasonal</td>\n",
       "      <td>seasonal</td>\n",
       "      <td>rainwater harvesting</td>\n",
       "      <td>rainwater harvesting</td>\n",
       "      <td>surface</td>\n",
       "      <td>communal standpipe</td>\n",
       "      <td>communal standpipe</td>\n",
       "    </tr>\n",
       "  </tbody>\n",
       "</table>\n",
       "<p>5 rows × 40 columns</p>\n",
       "</div>"
      ],
      "text/plain": [
       "   status_group  amount_tsh date_recorded        funder  gps_height  \\\n",
       "0             1      6000.0    2011-03-14         Roman        1390   \n",
       "1             1         0.0    2013-03-06       Grumeti        1399   \n",
       "2             1        25.0    2013-02-25  Lottery Club         686   \n",
       "3             0         0.0    2013-01-28        Unicef         263   \n",
       "4             1         0.0    2011-07-13   Action In A           0   \n",
       "\n",
       "      installer  longitude   latitude              wpt_name  num_private  \\\n",
       "0         Roman  34.938093  -9.856322                  none            0   \n",
       "1       GRUMETI  34.698766  -2.147466              Zahanati            0   \n",
       "2  World vision  37.460664  -3.821329           Kwa Mahundi            0   \n",
       "3        UNICEF  38.486161 -11.155298  Zahanati Ya Nanyumbu            0   \n",
       "4       Artisan  31.130847  -1.825359               Shuleni            0   \n",
       "\n",
       "           ...          payment_type water_quality quality_group  \\\n",
       "0          ...              annually          soft          good   \n",
       "1          ...             never pay          soft          good   \n",
       "2          ...            per bucket          soft          good   \n",
       "3          ...             never pay          soft          good   \n",
       "4          ...             never pay          soft          good   \n",
       "\n",
       "       quantity  quantity_group                source           source_type  \\\n",
       "0        enough          enough                spring                spring   \n",
       "1  insufficient    insufficient  rainwater harvesting  rainwater harvesting   \n",
       "2        enough          enough                   dam                   dam   \n",
       "3           dry             dry           machine dbh              borehole   \n",
       "4      seasonal        seasonal  rainwater harvesting  rainwater harvesting   \n",
       "\n",
       "   source_class              waterpoint_type waterpoint_type_group  \n",
       "0   groundwater           communal standpipe    communal standpipe  \n",
       "1       surface           communal standpipe    communal standpipe  \n",
       "2       surface  communal standpipe multiple    communal standpipe  \n",
       "3   groundwater  communal standpipe multiple    communal standpipe  \n",
       "4       surface           communal standpipe    communal standpipe  \n",
       "\n",
       "[5 rows x 40 columns]"
      ]
     },
     "execution_count": 17,
     "metadata": {},
     "output_type": "execute_result"
    }
   ],
   "source": [
    "df.head()"
   ]
  },
  {
   "cell_type": "markdown",
   "metadata": {},
   "source": [
    "#### Check for null and placeholder values<a id='null_values'></a>"
   ]
  },
  {
   "cell_type": "code",
   "execution_count": 18,
   "metadata": {},
   "outputs": [
    {
     "data": {
      "text/plain": [
       "status_group                 0\n",
       "amount_tsh                   0\n",
       "date_recorded                0\n",
       "funder                    3635\n",
       "gps_height                   0\n",
       "installer                 3655\n",
       "longitude                    0\n",
       "latitude                     0\n",
       "wpt_name                     0\n",
       "num_private                  0\n",
       "basin                        0\n",
       "subvillage                 371\n",
       "region                       0\n",
       "region_code                  0\n",
       "district_code                0\n",
       "lga                          0\n",
       "ward                         0\n",
       "population                   0\n",
       "public_meeting            3334\n",
       "recorded_by                  0\n",
       "scheme_management         3877\n",
       "scheme_name              28166\n",
       "permit                    3056\n",
       "construction_year            0\n",
       "extraction_type              0\n",
       "extraction_type_group        0\n",
       "extraction_type_class        0\n",
       "management                   0\n",
       "management_group             0\n",
       "payment                      0\n",
       "payment_type                 0\n",
       "water_quality                0\n",
       "quality_group                0\n",
       "quantity                     0\n",
       "quantity_group               0\n",
       "source                       0\n",
       "source_type                  0\n",
       "source_class                 0\n",
       "waterpoint_type              0\n",
       "waterpoint_type_group        0\n",
       "dtype: int64"
      ]
     },
     "execution_count": 18,
     "metadata": {},
     "output_type": "execute_result"
    }
   ],
   "source": [
    "df.isnull().sum()"
   ]
  },
  {
   "cell_type": "markdown",
   "metadata": {},
   "source": [
    "### Funder"
   ]
  },
  {
   "cell_type": "code",
   "execution_count": 19,
   "metadata": {},
   "outputs": [
    {
     "data": {
      "text/plain": [
       "Government Of Tanzania    9084\n",
       "Danida                    3114\n",
       "Hesawa                    2202\n",
       "Rwssp                     1374\n",
       "World Bank                1349\n",
       "Kkkt                      1287\n",
       "World Vision              1246\n",
       "Unicef                    1057\n",
       "Tasaf                      877\n",
       "District Council           843\n",
       "Dhv                        829\n",
       "Private Individual         826\n",
       "Dwsp                       811\n",
       "0                          777\n",
       "Norad                      765\n",
       "Name: funder, dtype: int64"
      ]
     },
     "execution_count": 19,
     "metadata": {},
     "output_type": "execute_result"
    }
   ],
   "source": [
    "df.funder.value_counts().nlargest(15)"
   ]
  },
  {
   "cell_type": "markdown",
   "metadata": {},
   "source": [
    "#### Replace null and '0' values in 'funder' column with 'Unknown'"
   ]
  },
  {
   "cell_type": "code",
   "execution_count": 20,
   "metadata": {},
   "outputs": [],
   "source": [
    "df.funder.fillna('Unknown', inplace=True)"
   ]
  },
  {
   "cell_type": "code",
   "execution_count": 21,
   "metadata": {},
   "outputs": [],
   "source": [
    "df.funder.replace({'0': 'Unknown'}, inplace=True)"
   ]
  },
  {
   "cell_type": "code",
   "execution_count": 22,
   "metadata": {},
   "outputs": [
    {
     "data": {
      "text/plain": [
       "Government Of Tanzania    9084\n",
       "Unknown                   4416\n",
       "Danida                    3114\n",
       "Hesawa                    2202\n",
       "Rwssp                     1374\n",
       "Name: funder, dtype: int64"
      ]
     },
     "execution_count": 22,
     "metadata": {},
     "output_type": "execute_result"
    }
   ],
   "source": [
    "df.funder.value_counts().nlargest(5)"
   ]
  },
  {
   "cell_type": "markdown",
   "metadata": {},
   "source": [
    "#### Drop 'funder' column from the dataset because this should not have a direct effect on functionality"
   ]
  },
  {
   "cell_type": "code",
   "execution_count": 23,
   "metadata": {},
   "outputs": [],
   "source": [
    "df.drop('funder', axis=1, inplace=True)"
   ]
  },
  {
   "cell_type": "markdown",
   "metadata": {},
   "source": [
    "### Installer"
   ]
  },
  {
   "cell_type": "code",
   "execution_count": 24,
   "metadata": {},
   "outputs": [
    {
     "data": {
      "text/plain": [
       "DWE                   17402\n",
       "Government             1825\n",
       "RWE                    1206\n",
       "Commu                  1060\n",
       "DANIDA                 1050\n",
       "KKKT                    898\n",
       "Hesawa                  840\n",
       "0                       777\n",
       "TCRS                    707\n",
       "Central government      622\n",
       "Name: installer, dtype: int64"
      ]
     },
     "execution_count": 24,
     "metadata": {},
     "output_type": "execute_result"
    }
   ],
   "source": [
    "df.installer.value_counts().nlargest(10)"
   ]
  },
  {
   "cell_type": "markdown",
   "metadata": {},
   "source": [
    "#### Replace null and '0' values in 'installer' column with 'Unknown'"
   ]
  },
  {
   "cell_type": "code",
   "execution_count": 25,
   "metadata": {},
   "outputs": [],
   "source": [
    "df.installer.replace({'0': 'Unknown', np.nan: 'Unknown'}, inplace=True)"
   ]
  },
  {
   "cell_type": "code",
   "execution_count": 26,
   "metadata": {},
   "outputs": [
    {
     "data": {
      "text/plain": [
       "DWE           17402\n",
       "Unknown        4435\n",
       "Government     1825\n",
       "RWE            1206\n",
       "Commu          1060\n",
       "Name: installer, dtype: int64"
      ]
     },
     "execution_count": 26,
     "metadata": {},
     "output_type": "execute_result"
    }
   ],
   "source": [
    "df.installer.value_counts().nlargest(5)"
   ]
  },
  {
   "cell_type": "markdown",
   "metadata": {},
   "source": [
    "#### Drop 'installer' column from the dataset because this should not have an impact of well functionality"
   ]
  },
  {
   "cell_type": "code",
   "execution_count": 27,
   "metadata": {},
   "outputs": [],
   "source": [
    "df.drop('installer', axis=1, inplace=True)"
   ]
  },
  {
   "cell_type": "markdown",
   "metadata": {},
   "source": [
    "### Subvillage"
   ]
  },
  {
   "cell_type": "code",
   "execution_count": 28,
   "metadata": {},
   "outputs": [
    {
     "data": {
      "text/plain": [
       "Madukani    508\n",
       "Shuleni     506\n",
       "Majengo     502\n",
       "Kati        373\n",
       "Mtakuja     262\n",
       "Sokoni      232\n",
       "M           187\n",
       "Muungano    172\n",
       "Mbuyuni     164\n",
       "Mlimani     152\n",
       "Name: subvillage, dtype: int64"
      ]
     },
     "execution_count": 28,
     "metadata": {},
     "output_type": "execute_result"
    }
   ],
   "source": [
    "df.subvillage.value_counts().nlargest(10)"
   ]
  },
  {
   "cell_type": "code",
   "execution_count": 29,
   "metadata": {},
   "outputs": [
    {
     "data": {
      "text/plain": [
       "19287"
      ]
     },
     "execution_count": 29,
     "metadata": {},
     "output_type": "execute_result"
    }
   ],
   "source": [
    "len(df.subvillage.value_counts())"
   ]
  },
  {
   "cell_type": "markdown",
   "metadata": {},
   "source": [
    "#### Replace null values with 'Unknown'"
   ]
  },
  {
   "cell_type": "code",
   "execution_count": 30,
   "metadata": {},
   "outputs": [],
   "source": [
    "df.subvillage.fillna('Unknown', inplace=True)"
   ]
  },
  {
   "cell_type": "code",
   "execution_count": 31,
   "metadata": {},
   "outputs": [
    {
     "data": {
      "text/plain": [
       "0"
      ]
     },
     "execution_count": 31,
     "metadata": {},
     "output_type": "execute_result"
    }
   ],
   "source": [
    "df.subvillage.isnull().sum()"
   ]
  },
  {
   "cell_type": "markdown",
   "metadata": {},
   "source": [
    "#### Drop 'subvillage' from the dataset because the name of the village should not affect well functionality and there are better columns to describe location - if location is an important feature"
   ]
  },
  {
   "cell_type": "code",
   "execution_count": 32,
   "metadata": {},
   "outputs": [],
   "source": [
    "df.drop('subvillage', axis=1, inplace=True)"
   ]
  },
  {
   "cell_type": "markdown",
   "metadata": {},
   "source": [
    "### Public Meeting"
   ]
  },
  {
   "cell_type": "code",
   "execution_count": 33,
   "metadata": {},
   "outputs": [
    {
     "data": {
      "text/plain": [
       "True     51011\n",
       "False     5055\n",
       "Name: public_meeting, dtype: int64"
      ]
     },
     "execution_count": 33,
     "metadata": {},
     "output_type": "execute_result"
    }
   ],
   "source": [
    "df.public_meeting.value_counts().nlargest(50)"
   ]
  },
  {
   "cell_type": "markdown",
   "metadata": {},
   "source": [
    "#### Unclear at this time what the 'public_meeting' column represents, but will replace null values with the majority value of 'True' and change the boolean values to 0 and 1"
   ]
  },
  {
   "cell_type": "code",
   "execution_count": 34,
   "metadata": {},
   "outputs": [],
   "source": [
    "df.public_meeting.replace({'True': 1, 'False': 0, np.nan: 1}, inplace=True)"
   ]
  },
  {
   "cell_type": "code",
   "execution_count": 35,
   "metadata": {},
   "outputs": [
    {
     "data": {
      "text/plain": [
       "True     54345\n",
       "False     5055\n",
       "Name: public_meeting, dtype: int64"
      ]
     },
     "execution_count": 35,
     "metadata": {},
     "output_type": "execute_result"
    }
   ],
   "source": [
    "df.public_meeting.value_counts()"
   ]
  },
  {
   "cell_type": "code",
   "execution_count": 36,
   "metadata": {},
   "outputs": [
    {
     "data": {
      "text/plain": [
       "0    True\n",
       "1       1\n",
       "2    True\n",
       "3    True\n",
       "4    True\n",
       "Name: public_meeting, dtype: object"
      ]
     },
     "execution_count": 36,
     "metadata": {},
     "output_type": "execute_result"
    }
   ],
   "source": [
    "df.public_meeting.head()"
   ]
  },
  {
   "cell_type": "code",
   "execution_count": 37,
   "metadata": {},
   "outputs": [
    {
     "data": {
      "image/png": "[encoded data removed]",
      "text/plain": [
       "<Figure size 432x288 with 1 Axes>"
      ]
     },
     "metadata": {
      "needs_background": "light"
     },
     "output_type": "display_data"
    }
   ],
   "source": [
    "df.public_meeting.value_counts().plot(kind='bar');"
   ]
  },
  {
   "cell_type": "markdown",
   "metadata": {},
   "source": [
    "#### Low feature importance for this variable for the models created in the future indicate that this column should be dropped from the dataset."
   ]
  },
  {
   "cell_type": "code",
   "execution_count": 38,
   "metadata": {},
   "outputs": [],
   "source": [
    "df.drop('public_meeting', axis=1, inplace=True)"
   ]
  },
  {
   "cell_type": "markdown",
   "metadata": {},
   "source": [
    "### Scheme Management"
   ]
  },
  {
   "cell_type": "code",
   "execution_count": 39,
   "metadata": {},
   "outputs": [
    {
     "data": {
      "text/plain": [
       "VWC                 36793\n",
       "WUG                  5206\n",
       "Water authority      3153\n",
       "WUA                  2883\n",
       "Water Board          2748\n",
       "Parastatal           1680\n",
       "Private operator     1063\n",
       "Company              1061\n",
       "Other                 766\n",
       "SWC                    97\n",
       "Trust                  72\n",
       "None                    1\n",
       "Name: scheme_management, dtype: int64"
      ]
     },
     "execution_count": 39,
     "metadata": {},
     "output_type": "execute_result"
    }
   ],
   "source": [
    "df.scheme_management.value_counts()"
   ]
  },
  {
   "cell_type": "markdown",
   "metadata": {},
   "source": [
    "#### Replace null, 'Other', and 'None' values to 'Unknown'"
   ]
  },
  {
   "cell_type": "code",
   "execution_count": 40,
   "metadata": {},
   "outputs": [],
   "source": [
    "df.scheme_management.replace({'None': 'Unknown', np.nan: 'Unknown', 'Other': 'Unknown'}, inplace=True)"
   ]
  },
  {
   "cell_type": "code",
   "execution_count": 41,
   "metadata": {},
   "outputs": [
    {
     "data": {
      "text/plain": [
       "VWC                 36793\n",
       "WUG                  5206\n",
       "Unknown              4644\n",
       "Water authority      3153\n",
       "WUA                  2883\n",
       "Water Board          2748\n",
       "Parastatal           1680\n",
       "Private operator     1063\n",
       "Company              1061\n",
       "SWC                    97\n",
       "Trust                  72\n",
       "Name: scheme_management, dtype: int64"
      ]
     },
     "execution_count": 41,
     "metadata": {},
     "output_type": "execute_result"
    }
   ],
   "source": [
    "df.scheme_management.value_counts()"
   ]
  },
  {
   "cell_type": "markdown",
   "metadata": {},
   "source": [
    "#### Will drop 'scheme_management' from the dataset due to containing duplicate information"
   ]
  },
  {
   "cell_type": "code",
   "execution_count": 42,
   "metadata": {},
   "outputs": [],
   "source": [
    "df.drop('scheme_management', axis=1, inplace=True)"
   ]
  },
  {
   "cell_type": "markdown",
   "metadata": {},
   "source": [
    "### Scheme Name"
   ]
  },
  {
   "cell_type": "code",
   "execution_count": 43,
   "metadata": {},
   "outputs": [
    {
     "data": {
      "text/plain": [
       "K                              682\n",
       "None                           644\n",
       "Borehole                       546\n",
       "Chalinze wate                  405\n",
       "M                              400\n",
       "DANIDA                         379\n",
       "Government                     320\n",
       "Ngana water supplied scheme    270\n",
       "wanging'ombe water supply s    261\n",
       "wanging'ombe supply scheme     234\n",
       "Name: scheme_name, dtype: int64"
      ]
     },
     "execution_count": 43,
     "metadata": {},
     "output_type": "execute_result"
    }
   ],
   "source": [
    "df.scheme_name.value_counts().nlargest(10)"
   ]
  },
  {
   "cell_type": "markdown",
   "metadata": {},
   "source": [
    "#### Replace null and 'None' values to 'Unknown'"
   ]
  },
  {
   "cell_type": "code",
   "execution_count": 44,
   "metadata": {},
   "outputs": [],
   "source": [
    "df.scheme_name.replace({np.nan: 'Unknown', 'None': 'Unknown'}, inplace=True)"
   ]
  },
  {
   "cell_type": "code",
   "execution_count": 45,
   "metadata": {},
   "outputs": [
    {
     "data": {
      "text/plain": [
       "Unknown          28810\n",
       "K                  682\n",
       "Borehole           546\n",
       "Chalinze wate      405\n",
       "M                  400\n",
       "Name: scheme_name, dtype: int64"
      ]
     },
     "execution_count": 45,
     "metadata": {},
     "output_type": "execute_result"
    }
   ],
   "source": [
    "df.scheme_name.value_counts().nlargest(5)"
   ]
  },
  {
   "cell_type": "markdown",
   "metadata": {},
   "source": [
    "#### Drop 'scheme_name' from the dataset because the majority of values are unknown, and there could be duplicate values from 'scheme_management'"
   ]
  },
  {
   "cell_type": "code",
   "execution_count": 46,
   "metadata": {},
   "outputs": [],
   "source": [
    "df.drop('scheme_name', axis=1, inplace=True)"
   ]
  },
  {
   "cell_type": "markdown",
   "metadata": {},
   "source": [
    "### Permit"
   ]
  },
  {
   "cell_type": "code",
   "execution_count": 47,
   "metadata": {},
   "outputs": [
    {
     "data": {
      "text/plain": [
       "True     38852\n",
       "False    17492\n",
       "Name: permit, dtype: int64"
      ]
     },
     "execution_count": 47,
     "metadata": {},
     "output_type": "execute_result"
    }
   ],
   "source": [
    "df.permit.value_counts()"
   ]
  },
  {
   "cell_type": "markdown",
   "metadata": {},
   "source": [
    "#### Change null values to 'Unknown' at this time"
   ]
  },
  {
   "cell_type": "code",
   "execution_count": 48,
   "metadata": {},
   "outputs": [],
   "source": [
    "df.permit.fillna('Unknown', inplace=True)"
   ]
  },
  {
   "cell_type": "code",
   "execution_count": 49,
   "metadata": {},
   "outputs": [
    {
     "data": {
      "text/plain": [
       "status_group             0\n",
       "amount_tsh               0\n",
       "date_recorded            0\n",
       "gps_height               0\n",
       "longitude                0\n",
       "latitude                 0\n",
       "wpt_name                 0\n",
       "num_private              0\n",
       "basin                    0\n",
       "region                   0\n",
       "region_code              0\n",
       "district_code            0\n",
       "lga                      0\n",
       "ward                     0\n",
       "population               0\n",
       "recorded_by              0\n",
       "permit                   0\n",
       "construction_year        0\n",
       "extraction_type          0\n",
       "extraction_type_group    0\n",
       "extraction_type_class    0\n",
       "management               0\n",
       "management_group         0\n",
       "payment                  0\n",
       "payment_type             0\n",
       "water_quality            0\n",
       "quality_group            0\n",
       "quantity                 0\n",
       "quantity_group           0\n",
       "source                   0\n",
       "source_type              0\n",
       "source_class             0\n",
       "waterpoint_type          0\n",
       "waterpoint_type_group    0\n",
       "dtype: int64"
      ]
     },
     "execution_count": 49,
     "metadata": {},
     "output_type": "execute_result"
    }
   ],
   "source": [
    "df.isnull().sum()"
   ]
  },
  {
   "cell_type": "markdown",
   "metadata": {},
   "source": [
    "### Amount TSH (Total static head)"
   ]
  },
  {
   "cell_type": "code",
   "execution_count": 50,
   "metadata": {},
   "outputs": [
    {
     "data": {
      "image/png": "[encoded data removed]",
      "text/plain": [
       "<Figure size 432x288 with 1 Axes>"
      ]
     },
     "metadata": {
      "needs_background": "light"
     },
     "output_type": "display_data"
    }
   ],
   "source": [
    "plt.hist(df.amount_tsh, color='purple', range=(0,5000), bins=25);"
   ]
  },
  {
   "cell_type": "code",
   "execution_count": 51,
   "metadata": {},
   "outputs": [
    {
     "data": {
      "text/plain": [
       "0.0       41639\n",
       "500.0      3102\n",
       "50.0       2472\n",
       "1000.0     1488\n",
       "20.0       1463\n",
       "200.0      1220\n",
       "100.0       816\n",
       "10.0        806\n",
       "30.0        743\n",
       "2000.0      704\n",
       "Name: amount_tsh, dtype: int64"
      ]
     },
     "execution_count": 51,
     "metadata": {},
     "output_type": "execute_result"
    }
   ],
   "source": [
    "df.amount_tsh.value_counts().nlargest(10)"
   ]
  },
  {
   "cell_type": "code",
   "execution_count": 52,
   "metadata": {},
   "outputs": [
    {
     "data": {
      "image/png": "[encoded data removed]",
      "text/plain": [
       "<Figure size 432x288 with 1 Axes>"
      ]
     },
     "metadata": {
      "needs_background": "light"
     },
     "output_type": "display_data"
    }
   ],
   "source": [
    "plt.hist(df.amount_tsh, color='purple', range=(0,1000), bins=30);"
   ]
  },
  {
   "cell_type": "code",
   "execution_count": 53,
   "metadata": {},
   "outputs": [
    {
     "data": {
      "text/plain": [
       "317.6503846801347"
      ]
     },
     "execution_count": 53,
     "metadata": {},
     "output_type": "execute_result"
    }
   ],
   "source": [
    "df.amount_tsh.mean()"
   ]
  },
  {
   "cell_type": "markdown",
   "metadata": {},
   "source": [
    "#### Check to see if there is a relationship between 0 TSH and a well that needs repair, or if these are simply missing values."
   ]
  },
  {
   "cell_type": "code",
   "execution_count": 54,
   "metadata": {},
   "outputs": [],
   "source": [
    "# df.loc[(df.amount_tsh != 0.0) & (df.status_group == 1)]"
   ]
  },
  {
   "cell_type": "code",
   "execution_count": 55,
   "metadata": {},
   "outputs": [],
   "source": [
    "# df.loc[(df.status_group == 0) & (df.amount_tsh == 0.0)]"
   ]
  },
  {
   "cell_type": "code",
   "execution_count": 56,
   "metadata": {
    "scrolled": false
   },
   "outputs": [],
   "source": [
    "# df.loc[(df.status_group == 0) & (df.amount_tsh != 0.0)]"
   ]
  },
  {
   "cell_type": "code",
   "execution_count": 57,
   "metadata": {},
   "outputs": [],
   "source": [
    "# df.loc[(df.status_group == 1) & (df.amount_tsh == 0.0)]"
   ]
  },
  {
   "cell_type": "code",
   "execution_count": 58,
   "metadata": {},
   "outputs": [
    {
     "name": "stdout",
     "output_type": "stream",
     "text": [
      "The mean tsh of functioning wells is 461.79823460119655\n"
     ]
    }
   ],
   "source": [
    "functioning_wells = df.loc[df.status_group == 1]\n",
    "print(f'The mean tsh of functioning wells is {functioning_wells.amount_tsh.mean()}')"
   ]
  },
  {
   "cell_type": "code",
   "execution_count": 59,
   "metadata": {},
   "outputs": [
    {
     "name": "stdout",
     "output_type": "stream",
     "text": [
      "The mean tsh of non-functioning wells is 146.32045982093513\n"
     ]
    }
   ],
   "source": [
    "non_functioning_wells = df.loc[df.status_group == 0]\n",
    "print(f'The mean tsh of non-functioning wells is {non_functioning_wells.amount_tsh.mean()}')"
   ]
  },
  {
   "cell_type": "markdown",
   "metadata": {},
   "source": [
    "#### Although some of the 0 TSH values are probably just missing values, the difference in mean TSH between the two types of wells seems large enough that a 0 value could be a predictor of a well that needs repair. Replacing the 0 values with different means would introduce bias into the model, so the 0 values will remain. "
   ]
  },
  {
   "cell_type": "markdown",
   "metadata": {},
   "source": [
    "### Date Recorded"
   ]
  },
  {
   "cell_type": "code",
   "execution_count": 60,
   "metadata": {},
   "outputs": [],
   "source": [
    "date_df = df[['date_recorded', 'construction_year']]"
   ]
  },
  {
   "cell_type": "code",
   "execution_count": 61,
   "metadata": {},
   "outputs": [
    {
     "data": {
      "text/html": [
       "<div>\n",
       "<style scoped>\n",
       "    .dataframe tbody tr th:only-of-type {\n",
       "        vertical-align: middle;\n",
       "    }\n",
       "\n",
       "    .dataframe tbody tr th {\n",
       "        vertical-align: top;\n",
       "    }\n",
       "\n",
       "    .dataframe thead th {\n",
       "        text-align: right;\n",
       "    }\n",
       "</style>\n",
       "<table border=\"1\" class=\"dataframe\">\n",
       "  <thead>\n",
       "    <tr style=\"text-align: right;\">\n",
       "      <th></th>\n",
       "      <th>date_recorded</th>\n",
       "      <th>construction_year</th>\n",
       "    </tr>\n",
       "  </thead>\n",
       "  <tbody>\n",
       "    <tr>\n",
       "      <th>0</th>\n",
       "      <td>2011-03-14</td>\n",
       "      <td>1999</td>\n",
       "    </tr>\n",
       "    <tr>\n",
       "      <th>1</th>\n",
       "      <td>2013-03-06</td>\n",
       "      <td>2010</td>\n",
       "    </tr>\n",
       "    <tr>\n",
       "      <th>2</th>\n",
       "      <td>2013-02-25</td>\n",
       "      <td>2009</td>\n",
       "    </tr>\n",
       "    <tr>\n",
       "      <th>3</th>\n",
       "      <td>2013-01-28</td>\n",
       "      <td>1986</td>\n",
       "    </tr>\n",
       "    <tr>\n",
       "      <th>4</th>\n",
       "      <td>2011-07-13</td>\n",
       "      <td>0</td>\n",
       "    </tr>\n",
       "    <tr>\n",
       "      <th>5</th>\n",
       "      <td>2011-03-13</td>\n",
       "      <td>2009</td>\n",
       "    </tr>\n",
       "    <tr>\n",
       "      <th>6</th>\n",
       "      <td>2012-10-01</td>\n",
       "      <td>0</td>\n",
       "    </tr>\n",
       "    <tr>\n",
       "      <th>7</th>\n",
       "      <td>2012-10-09</td>\n",
       "      <td>0</td>\n",
       "    </tr>\n",
       "    <tr>\n",
       "      <th>8</th>\n",
       "      <td>2012-11-03</td>\n",
       "      <td>0</td>\n",
       "    </tr>\n",
       "    <tr>\n",
       "      <th>9</th>\n",
       "      <td>2011-08-03</td>\n",
       "      <td>0</td>\n",
       "    </tr>\n",
       "  </tbody>\n",
       "</table>\n",
       "</div>"
      ],
      "text/plain": [
       "  date_recorded  construction_year\n",
       "0    2011-03-14               1999\n",
       "1    2013-03-06               2010\n",
       "2    2013-02-25               2009\n",
       "3    2013-01-28               1986\n",
       "4    2011-07-13                  0\n",
       "5    2011-03-13               2009\n",
       "6    2012-10-01                  0\n",
       "7    2012-10-09                  0\n",
       "8    2012-11-03                  0\n",
       "9    2011-08-03                  0"
      ]
     },
     "execution_count": 61,
     "metadata": {},
     "output_type": "execute_result"
    }
   ],
   "source": [
    "date_df.head(10)"
   ]
  },
  {
   "cell_type": "code",
   "execution_count": 62,
   "metadata": {},
   "outputs": [
    {
     "data": {
      "text/html": [
       "<div>\n",
       "<style scoped>\n",
       "    .dataframe tbody tr th:only-of-type {\n",
       "        vertical-align: middle;\n",
       "    }\n",
       "\n",
       "    .dataframe tbody tr th {\n",
       "        vertical-align: top;\n",
       "    }\n",
       "\n",
       "    .dataframe thead th {\n",
       "        text-align: right;\n",
       "    }\n",
       "</style>\n",
       "<table border=\"1\" class=\"dataframe\">\n",
       "  <thead>\n",
       "    <tr style=\"text-align: right;\">\n",
       "      <th></th>\n",
       "      <th>date_recorded</th>\n",
       "      <th>construction_year</th>\n",
       "    </tr>\n",
       "  </thead>\n",
       "  <tbody>\n",
       "    <tr>\n",
       "      <th>59390</th>\n",
       "      <td>2011-08-04</td>\n",
       "      <td>1991</td>\n",
       "    </tr>\n",
       "    <tr>\n",
       "      <th>59391</th>\n",
       "      <td>2013-08-03</td>\n",
       "      <td>1967</td>\n",
       "    </tr>\n",
       "    <tr>\n",
       "      <th>59392</th>\n",
       "      <td>2011-04-15</td>\n",
       "      <td>0</td>\n",
       "    </tr>\n",
       "    <tr>\n",
       "      <th>59393</th>\n",
       "      <td>2012-10-27</td>\n",
       "      <td>0</td>\n",
       "    </tr>\n",
       "    <tr>\n",
       "      <th>59394</th>\n",
       "      <td>2011-03-09</td>\n",
       "      <td>2007</td>\n",
       "    </tr>\n",
       "    <tr>\n",
       "      <th>59395</th>\n",
       "      <td>2013-05-03</td>\n",
       "      <td>1999</td>\n",
       "    </tr>\n",
       "    <tr>\n",
       "      <th>59396</th>\n",
       "      <td>2011-05-07</td>\n",
       "      <td>1996</td>\n",
       "    </tr>\n",
       "    <tr>\n",
       "      <th>59397</th>\n",
       "      <td>2011-04-11</td>\n",
       "      <td>0</td>\n",
       "    </tr>\n",
       "    <tr>\n",
       "      <th>59398</th>\n",
       "      <td>2011-03-08</td>\n",
       "      <td>0</td>\n",
       "    </tr>\n",
       "    <tr>\n",
       "      <th>59399</th>\n",
       "      <td>2011-03-23</td>\n",
       "      <td>2002</td>\n",
       "    </tr>\n",
       "  </tbody>\n",
       "</table>\n",
       "</div>"
      ],
      "text/plain": [
       "      date_recorded  construction_year\n",
       "59390    2011-08-04               1991\n",
       "59391    2013-08-03               1967\n",
       "59392    2011-04-15                  0\n",
       "59393    2012-10-27                  0\n",
       "59394    2011-03-09               2007\n",
       "59395    2013-05-03               1999\n",
       "59396    2011-05-07               1996\n",
       "59397    2011-04-11                  0\n",
       "59398    2011-03-08                  0\n",
       "59399    2011-03-23               2002"
      ]
     },
     "execution_count": 62,
     "metadata": {},
     "output_type": "execute_result"
    }
   ],
   "source": [
    "date_df.tail(10)"
   ]
  },
  {
   "cell_type": "markdown",
   "metadata": {},
   "source": [
    "#### The 'date_recorded' years are different from the 'construction_year' column, so this information should not have an impact on well functionality unless repairs were also made on these dates - which is not known. "
   ]
  },
  {
   "cell_type": "code",
   "execution_count": 63,
   "metadata": {},
   "outputs": [],
   "source": [
    "df.drop('date_recorded', axis=1, inplace=True)"
   ]
  },
  {
   "cell_type": "markdown",
   "metadata": {},
   "source": [
    "### GPS Height"
   ]
  },
  {
   "cell_type": "code",
   "execution_count": 64,
   "metadata": {},
   "outputs": [
    {
     "data": {
      "image/png": "[encoded data removed]",
      "text/plain": [
       "<Figure size 432x288 with 1 Axes>"
      ]
     },
     "metadata": {
      "needs_background": "light"
     },
     "output_type": "display_data"
    }
   ],
   "source": [
    "plt.hist(df.gps_height, color='purple');"
   ]
  },
  {
   "cell_type": "code",
   "execution_count": 65,
   "metadata": {},
   "outputs": [
    {
     "name": "stdout",
     "output_type": "stream",
     "text": [
      "The mean gps height of functioning wells is 740.1311881955423\n"
     ]
    }
   ],
   "source": [
    "print(f'The mean gps height of functioning wells is {functioning_wells.gps_height.mean()}')"
   ]
  },
  {
   "cell_type": "code",
   "execution_count": 66,
   "metadata": {},
   "outputs": [
    {
     "name": "stdout",
     "output_type": "stream",
     "text": [
      "The mean gps height of non-functioning wells is 582.9175048819129\n"
     ]
    }
   ],
   "source": [
    "print(f'The mean gps height of non-functioning wells is {non_functioning_wells.gps_height.mean()}')"
   ]
  },
  {
   "cell_type": "markdown",
   "metadata": {},
   "source": [
    "#### The 'gps_height' distribution looks fairly normal without the 0 values, so the 0 values will be treated as missing values and will be replaced by the mean."
   ]
  },
  {
   "cell_type": "code",
   "execution_count": 67,
   "metadata": {},
   "outputs": [
    {
     "data": {
      "text/plain": [
       "1019"
      ]
     },
     "execution_count": 67,
     "metadata": {},
     "output_type": "execute_result"
    }
   ],
   "source": [
    "non_missing_heights = df.loc[df.gps_height != 0]\n",
    "non_missing_heights_mean = non_missing_heights.gps_height.mean()\n",
    "rounded_nmh_mean = int(round(non_missing_heights_mean))\n",
    "rounded_nmh_mean"
   ]
  },
  {
   "cell_type": "code",
   "execution_count": 68,
   "metadata": {},
   "outputs": [],
   "source": [
    "df.gps_height.replace({0: rounded_nmh_mean}, inplace=True)"
   ]
  },
  {
   "cell_type": "code",
   "execution_count": 69,
   "metadata": {},
   "outputs": [
    {
     "data": {
      "image/png": "[encoded data removed]",
      "text/plain": [
       "<Figure size 432x288 with 1 Axes>"
      ]
     },
     "metadata": {
      "needs_background": "light"
     },
     "output_type": "display_data"
    }
   ],
   "source": [
    "plt.hist(df.gps_height, color='purple', bins=10);"
   ]
  },
  {
   "cell_type": "markdown",
   "metadata": {},
   "source": [
    "### Longitude"
   ]
  },
  {
   "cell_type": "code",
   "execution_count": 70,
   "metadata": {},
   "outputs": [
    {
     "data": {
      "image/png": "[encoded data removed]",
      "text/plain": [
       "<Figure size 432x288 with 1 Axes>"
      ]
     },
     "metadata": {
      "needs_background": "light"
     },
     "output_type": "display_data"
    }
   ],
   "source": [
    "plt.hist(df.longitude, color='purple');"
   ]
  },
  {
   "cell_type": "code",
   "execution_count": 71,
   "metadata": {},
   "outputs": [
    {
     "data": {
      "text/plain": [
       "0.000000     1812\n",
       "37.540901       2\n",
       "33.010510       2\n",
       "39.093484       2\n",
       "32.972719       2\n",
       "33.006275       2\n",
       "39.103950       2\n",
       "37.542785       2\n",
       "36.802490       2\n",
       "39.098374       2\n",
       "Name: longitude, dtype: int64"
      ]
     },
     "execution_count": 71,
     "metadata": {},
     "output_type": "execute_result"
    }
   ],
   "source": [
    "df.longitude.value_counts().nlargest(10)"
   ]
  },
  {
   "cell_type": "markdown",
   "metadata": {},
   "source": [
    "#### Replace missing values with the mean longitude"
   ]
  },
  {
   "cell_type": "code",
   "execution_count": 72,
   "metadata": {},
   "outputs": [
    {
     "data": {
      "text/plain": [
       "34.077427"
      ]
     },
     "execution_count": 72,
     "metadata": {},
     "output_type": "execute_result"
    }
   ],
   "source": [
    "mean_long = round(df.longitude.mean(), 6)\n",
    "mean_long"
   ]
  },
  {
   "cell_type": "code",
   "execution_count": 73,
   "metadata": {},
   "outputs": [],
   "source": [
    "df.longitude.replace({0.000000: mean_long}, inplace=True)"
   ]
  },
  {
   "cell_type": "code",
   "execution_count": 74,
   "metadata": {},
   "outputs": [
    {
     "data": {
      "image/png": "[encoded data removed]",
      "text/plain": [
       "<Figure size 432x288 with 1 Axes>"
      ]
     },
     "metadata": {
      "needs_background": "light"
     },
     "output_type": "display_data"
    }
   ],
   "source": [
    "plt.hist(df.longitude, color='purple', bins=25);"
   ]
  },
  {
   "cell_type": "markdown",
   "metadata": {},
   "source": [
    "### Latitude"
   ]
  },
  {
   "cell_type": "code",
   "execution_count": 75,
   "metadata": {},
   "outputs": [
    {
     "data": {
      "image/png": "[encoded data removed]",
      "text/plain": [
       "<Figure size 432x288 with 1 Axes>"
      ]
     },
     "metadata": {
      "needs_background": "light"
     },
     "output_type": "display_data"
    }
   ],
   "source": [
    "plt.hist(df.latitude, color='purple');"
   ]
  },
  {
   "cell_type": "markdown",
   "metadata": {},
   "source": [
    "### Wpt name"
   ]
  },
  {
   "cell_type": "code",
   "execution_count": 76,
   "metadata": {},
   "outputs": [
    {
     "data": {
      "text/plain": [
       "none               3563\n",
       "Shuleni            1748\n",
       "Zahanati            830\n",
       "Msikitini           535\n",
       "Kanisani            323\n",
       "Bombani             271\n",
       "Sokoni              260\n",
       "Ofisini             254\n",
       "School              208\n",
       "Shule Ya Msingi     199\n",
       "Name: wpt_name, dtype: int64"
      ]
     },
     "execution_count": 76,
     "metadata": {},
     "output_type": "execute_result"
    }
   ],
   "source": [
    "df.wpt_name.value_counts().nlargest(10)"
   ]
  },
  {
   "cell_type": "markdown",
   "metadata": {},
   "source": [
    "#### Change 'none' to 'Unknown'"
   ]
  },
  {
   "cell_type": "code",
   "execution_count": 77,
   "metadata": {},
   "outputs": [],
   "source": [
    "df.wpt_name.replace({'none': 'Unknown'}, inplace=True)"
   ]
  },
  {
   "cell_type": "code",
   "execution_count": 78,
   "metadata": {},
   "outputs": [
    {
     "data": {
      "text/plain": [
       "Unknown      3566\n",
       "Shuleni      1748\n",
       "Zahanati      830\n",
       "Msikitini     535\n",
       "Kanisani      323\n",
       "Name: wpt_name, dtype: int64"
      ]
     },
     "execution_count": 78,
     "metadata": {},
     "output_type": "execute_result"
    }
   ],
   "source": [
    "df.wpt_name.value_counts().nlargest(5)"
   ]
  },
  {
   "cell_type": "markdown",
   "metadata": {},
   "source": [
    "#### Drop 'wpt_name' from the dataset because the name should not have an effect on well functionality"
   ]
  },
  {
   "cell_type": "code",
   "execution_count": 79,
   "metadata": {},
   "outputs": [],
   "source": [
    "df.drop('wpt_name', axis=1, inplace=True)"
   ]
  },
  {
   "cell_type": "markdown",
   "metadata": {},
   "source": [
    "### Num private"
   ]
  },
  {
   "cell_type": "code",
   "execution_count": 80,
   "metadata": {},
   "outputs": [
    {
     "data": {
      "image/png": "[encoded data removed]",
      "text/plain": [
       "<Figure size 432x288 with 1 Axes>"
      ]
     },
     "metadata": {
      "needs_background": "light"
     },
     "output_type": "display_data"
    }
   ],
   "source": [
    "plt.hist(df.num_private, color='purple', range=(0,100), bins=30);"
   ]
  },
  {
   "cell_type": "code",
   "execution_count": 81,
   "metadata": {},
   "outputs": [
    {
     "data": {
      "text/plain": [
       "0    58643\n",
       "6       81\n",
       "1       73\n",
       "5       46\n",
       "8       46\n",
       "Name: num_private, dtype: int64"
      ]
     },
     "execution_count": 81,
     "metadata": {},
     "output_type": "execute_result"
    }
   ],
   "source": [
    "df.num_private.value_counts().nlargest(5)"
   ]
  },
  {
   "cell_type": "markdown",
   "metadata": {},
   "source": [
    "#### Unclear as to what this column represents with a majority of zero values, so will drop it from the dataset"
   ]
  },
  {
   "cell_type": "code",
   "execution_count": 82,
   "metadata": {},
   "outputs": [],
   "source": [
    "df.drop('num_private', axis=1, inplace=True)"
   ]
  },
  {
   "cell_type": "markdown",
   "metadata": {},
   "source": [
    "### Basin"
   ]
  },
  {
   "cell_type": "code",
   "execution_count": 83,
   "metadata": {},
   "outputs": [
    {
     "data": {
      "text/plain": [
       "Lake Victoria              10248\n",
       "Pangani                     8940\n",
       "Rufiji                      7976\n",
       "Internal                    7785\n",
       "Lake Tanganyika             6432\n",
       "Wami / Ruvu                 5987\n",
       "Lake Nyasa                  5085\n",
       "Ruvuma / Southern Coast     4493\n",
       "Lake Rukwa                  2454\n",
       "Name: basin, dtype: int64"
      ]
     },
     "execution_count": 83,
     "metadata": {},
     "output_type": "execute_result"
    }
   ],
   "source": [
    "df.basin.value_counts()"
   ]
  },
  {
   "cell_type": "markdown",
   "metadata": {},
   "source": [
    "### Region"
   ]
  },
  {
   "cell_type": "code",
   "execution_count": 84,
   "metadata": {},
   "outputs": [
    {
     "data": {
      "text/plain": [
       "Iringa           5294\n",
       "Shinyanga        4982\n",
       "Mbeya            4639\n",
       "Kilimanjaro      4379\n",
       "Morogoro         4006\n",
       "Arusha           3350\n",
       "Kagera           3316\n",
       "Mwanza           3102\n",
       "Kigoma           2816\n",
       "Ruvuma           2640\n",
       "Pwani            2635\n",
       "Tanga            2547\n",
       "Dodoma           2201\n",
       "Singida          2093\n",
       "Mara             1969\n",
       "Tabora           1959\n",
       "Rukwa            1808\n",
       "Mtwara           1730\n",
       "Manyara          1583\n",
       "Lindi            1546\n",
       "Dar es Salaam     805\n",
       "Name: region, dtype: int64"
      ]
     },
     "execution_count": 84,
     "metadata": {},
     "output_type": "execute_result"
    }
   ],
   "source": [
    "df.region.value_counts()"
   ]
  },
  {
   "cell_type": "code",
   "execution_count": 85,
   "metadata": {},
   "outputs": [
    {
     "data": {
      "text/plain": [
       "21"
      ]
     },
     "execution_count": 85,
     "metadata": {},
     "output_type": "execute_result"
    }
   ],
   "source": [
    "len(df.region.value_counts())"
   ]
  },
  {
   "cell_type": "markdown",
   "metadata": {},
   "source": [
    "#### Will drop the 'region' column from the dataset to avoid duplicating information"
   ]
  },
  {
   "cell_type": "code",
   "execution_count": 86,
   "metadata": {},
   "outputs": [],
   "source": [
    "df.drop('region', axis=1, inplace=True)"
   ]
  },
  {
   "cell_type": "markdown",
   "metadata": {},
   "source": [
    "### Region code"
   ]
  },
  {
   "cell_type": "code",
   "execution_count": 87,
   "metadata": {},
   "outputs": [
    {
     "data": {
      "text/plain": [
       "11    5300\n",
       "17    5011\n",
       "12    4639\n",
       "3     4379\n",
       "5     4040\n",
       "18    3324\n",
       "19    3047\n",
       "2     3024\n",
       "16    2816\n",
       "10    2640\n",
       "4     2513\n",
       "1     2201\n",
       "13    2093\n",
       "14    1979\n",
       "20    1969\n",
       "15    1808\n",
       "6     1609\n",
       "21    1583\n",
       "80    1238\n",
       "60    1025\n",
       "90     917\n",
       "7      805\n",
       "99     423\n",
       "9      390\n",
       "24     326\n",
       "8      300\n",
       "40       1\n",
       "Name: region_code, dtype: int64"
      ]
     },
     "execution_count": 87,
     "metadata": {},
     "output_type": "execute_result"
    }
   ],
   "source": [
    "df.region_code.value_counts()"
   ]
  },
  {
   "cell_type": "code",
   "execution_count": 88,
   "metadata": {},
   "outputs": [
    {
     "data": {
      "text/plain": [
       "27"
      ]
     },
     "execution_count": 88,
     "metadata": {},
     "output_type": "execute_result"
    }
   ],
   "source": [
    "len(df.region_code.value_counts())"
   ]
  },
  {
   "cell_type": "markdown",
   "metadata": {},
   "source": [
    "#### Will drop 'region_code' from the dataset because 'latitude' and 'longitude' will be used for location features"
   ]
  },
  {
   "cell_type": "code",
   "execution_count": 89,
   "metadata": {},
   "outputs": [],
   "source": [
    "df.drop('region_code', axis=1, inplace=True)"
   ]
  },
  {
   "cell_type": "markdown",
   "metadata": {},
   "source": [
    "### District code"
   ]
  },
  {
   "cell_type": "code",
   "execution_count": 90,
   "metadata": {},
   "outputs": [
    {
     "data": {
      "image/png": "[encoded data removed]",
      "text/plain": [
       "<Figure size 432x288 with 1 Axes>"
      ]
     },
     "metadata": {
      "needs_background": "light"
     },
     "output_type": "display_data"
    }
   ],
   "source": [
    "plt.hist(df.district_code, color='purple');"
   ]
  },
  {
   "cell_type": "code",
   "execution_count": 91,
   "metadata": {},
   "outputs": [
    {
     "data": {
      "text/plain": [
       "1     12203\n",
       "2     11173\n",
       "3      9998\n",
       "4      8999\n",
       "5      4356\n",
       "6      4074\n",
       "7      3343\n",
       "8      1043\n",
       "30      995\n",
       "33      874\n",
       "53      745\n",
       "43      505\n",
       "13      391\n",
       "23      293\n",
       "63      195\n",
       "62      109\n",
       "60       63\n",
       "0        23\n",
       "80       12\n",
       "67        6\n",
       "Name: district_code, dtype: int64"
      ]
     },
     "execution_count": 91,
     "metadata": {},
     "output_type": "execute_result"
    }
   ],
   "source": [
    "df.district_code.value_counts()"
   ]
  },
  {
   "cell_type": "code",
   "execution_count": 92,
   "metadata": {},
   "outputs": [
    {
     "data": {
      "text/plain": [
       "20"
      ]
     },
     "execution_count": 92,
     "metadata": {},
     "output_type": "execute_result"
    }
   ],
   "source": [
    "len(df.district_code.value_counts())"
   ]
  },
  {
   "cell_type": "markdown",
   "metadata": {},
   "source": [
    "#### Will drop 'district_code' from the dataset because 'latitude' and 'longitude' will be used as location features"
   ]
  },
  {
   "cell_type": "code",
   "execution_count": 93,
   "metadata": {},
   "outputs": [],
   "source": [
    "df.drop('district_code', axis=1, inplace=True)"
   ]
  },
  {
   "cell_type": "markdown",
   "metadata": {},
   "source": [
    "### LGA"
   ]
  },
  {
   "cell_type": "code",
   "execution_count": 94,
   "metadata": {},
   "outputs": [
    {
     "data": {
      "text/plain": [
       "Njombe          2503\n",
       "Arusha Rural    1252\n",
       "Moshi Rural     1251\n",
       "Bariadi         1177\n",
       "Rungwe          1106\n",
       "Kilosa          1094\n",
       "Kasulu          1047\n",
       "Mbozi           1034\n",
       "Meru            1009\n",
       "Bagamoyo         997\n",
       "Name: lga, dtype: int64"
      ]
     },
     "execution_count": 94,
     "metadata": {},
     "output_type": "execute_result"
    }
   ],
   "source": [
    "df.lga.value_counts().nlargest(10)"
   ]
  },
  {
   "cell_type": "markdown",
   "metadata": {},
   "source": [
    "#### Will drop 'lga' from the dataset because there are more concise location columns"
   ]
  },
  {
   "cell_type": "code",
   "execution_count": 95,
   "metadata": {},
   "outputs": [],
   "source": [
    "df.drop('lga', axis=1, inplace=True)"
   ]
  },
  {
   "cell_type": "markdown",
   "metadata": {},
   "source": [
    "### Ward"
   ]
  },
  {
   "cell_type": "code",
   "execution_count": 96,
   "metadata": {},
   "outputs": [
    {
     "data": {
      "text/plain": [
       "Igosi           307\n",
       "Imalinyi        252\n",
       "Siha Kati       232\n",
       "Mdandu          231\n",
       "Nduruma         217\n",
       "Kitunda         203\n",
       "Mishamo         203\n",
       "Msindo          201\n",
       "Chalinze        196\n",
       "Maji ya Chai    190\n",
       "Name: ward, dtype: int64"
      ]
     },
     "execution_count": 96,
     "metadata": {},
     "output_type": "execute_result"
    }
   ],
   "source": [
    "df.ward.value_counts().nlargest(10)"
   ]
  },
  {
   "cell_type": "markdown",
   "metadata": {},
   "source": [
    "#### Will drop 'ward' from the dataset because there are more concise location columns"
   ]
  },
  {
   "cell_type": "code",
   "execution_count": 97,
   "metadata": {},
   "outputs": [],
   "source": [
    "df.drop('ward', axis=1, inplace=True)"
   ]
  },
  {
   "cell_type": "markdown",
   "metadata": {},
   "source": [
    "### Population"
   ]
  },
  {
   "cell_type": "code",
   "execution_count": 98,
   "metadata": {},
   "outputs": [
    {
     "data": {
      "image/png": "[encoded data removed]",
      "text/plain": [
       "<Figure size 432x288 with 1 Axes>"
      ]
     },
     "metadata": {
      "needs_background": "light"
     },
     "output_type": "display_data"
    }
   ],
   "source": [
    "plt.hist(df.population, color='purple', range=(0,500));"
   ]
  },
  {
   "cell_type": "code",
   "execution_count": 99,
   "metadata": {},
   "outputs": [
    {
     "data": {
      "text/plain": [
       "0      21381\n",
       "1       7025\n",
       "200     1940\n",
       "150     1892\n",
       "250     1681\n",
       "Name: population, dtype: int64"
      ]
     },
     "execution_count": 99,
     "metadata": {},
     "output_type": "execute_result"
    }
   ],
   "source": [
    "df.population.value_counts().nlargest(5)"
   ]
  },
  {
   "cell_type": "code",
   "execution_count": 100,
   "metadata": {},
   "outputs": [
    {
     "data": {
      "text/plain": [
       "281.08716694284436"
      ]
     },
     "execution_count": 100,
     "metadata": {},
     "output_type": "execute_result"
    }
   ],
   "source": [
    "non_zero_pop = df.loc[df.population != 0]\n",
    "non_zero_pop_mean = non_zero_pop.population.mean()\n",
    "non_zero_pop_mean"
   ]
  },
  {
   "cell_type": "markdown",
   "metadata": {},
   "source": [
    "#### Since it is unlikely a well would be built where the population is 0, the 0 values will be treated as missing values and will be replaced by the mean population. Even if a well is built in a area where nobody lives - but where people may travel - that well will still be used. Population value could indicate a 'wear and tear' affect on the wells."
   ]
  },
  {
   "cell_type": "code",
   "execution_count": 101,
   "metadata": {},
   "outputs": [
    {
     "data": {
      "text/plain": [
       "281"
      ]
     },
     "execution_count": 101,
     "metadata": {},
     "output_type": "execute_result"
    }
   ],
   "source": [
    "rounded_pop_mean = int(round(non_zero_pop_mean))\n",
    "rounded_pop_mean"
   ]
  },
  {
   "cell_type": "code",
   "execution_count": 102,
   "metadata": {},
   "outputs": [],
   "source": [
    "df.population.replace({0: rounded_pop_mean}, inplace=True)"
   ]
  },
  {
   "cell_type": "code",
   "execution_count": 103,
   "metadata": {},
   "outputs": [
    {
     "data": {
      "image/png": "[encoded data removed]",
      "text/plain": [
       "<Figure size 432x288 with 1 Axes>"
      ]
     },
     "metadata": {
      "needs_background": "light"
     },
     "output_type": "display_data"
    }
   ],
   "source": [
    "plt.hist(df.population, color='purple', range=(0,500));"
   ]
  },
  {
   "cell_type": "markdown",
   "metadata": {},
   "source": [
    "#### Examine outlier populations"
   ]
  },
  {
   "cell_type": "code",
   "execution_count": 104,
   "metadata": {},
   "outputs": [
    {
     "data": {
      "text/html": [
       "<div>\n",
       "<style scoped>\n",
       "    .dataframe tbody tr th:only-of-type {\n",
       "        vertical-align: middle;\n",
       "    }\n",
       "\n",
       "    .dataframe tbody tr th {\n",
       "        vertical-align: top;\n",
       "    }\n",
       "\n",
       "    .dataframe thead th {\n",
       "        text-align: right;\n",
       "    }\n",
       "</style>\n",
       "<table border=\"1\" class=\"dataframe\">\n",
       "  <thead>\n",
       "    <tr style=\"text-align: right;\">\n",
       "      <th></th>\n",
       "      <th>status_group</th>\n",
       "      <th>amount_tsh</th>\n",
       "      <th>gps_height</th>\n",
       "      <th>longitude</th>\n",
       "      <th>latitude</th>\n",
       "      <th>basin</th>\n",
       "      <th>population</th>\n",
       "      <th>recorded_by</th>\n",
       "      <th>permit</th>\n",
       "      <th>construction_year</th>\n",
       "      <th>...</th>\n",
       "      <th>payment_type</th>\n",
       "      <th>water_quality</th>\n",
       "      <th>quality_group</th>\n",
       "      <th>quantity</th>\n",
       "      <th>quantity_group</th>\n",
       "      <th>source</th>\n",
       "      <th>source_type</th>\n",
       "      <th>source_class</th>\n",
       "      <th>waterpoint_type</th>\n",
       "      <th>waterpoint_type_group</th>\n",
       "    </tr>\n",
       "  </thead>\n",
       "  <tbody>\n",
       "    <tr>\n",
       "      <th>14308</th>\n",
       "      <td>0</td>\n",
       "      <td>0.0</td>\n",
       "      <td>1084</td>\n",
       "      <td>36.386050</td>\n",
       "      <td>-4.787678</td>\n",
       "      <td>Internal</td>\n",
       "      <td>15300</td>\n",
       "      <td>GeoData Consultants Ltd</td>\n",
       "      <td>False</td>\n",
       "      <td>1983</td>\n",
       "      <td>...</td>\n",
       "      <td>never pay</td>\n",
       "      <td>soft</td>\n",
       "      <td>good</td>\n",
       "      <td>insufficient</td>\n",
       "      <td>insufficient</td>\n",
       "      <td>machine dbh</td>\n",
       "      <td>borehole</td>\n",
       "      <td>groundwater</td>\n",
       "      <td>communal standpipe</td>\n",
       "      <td>communal standpipe</td>\n",
       "    </tr>\n",
       "    <tr>\n",
       "      <th>30537</th>\n",
       "      <td>1</td>\n",
       "      <td>0.0</td>\n",
       "      <td>184</td>\n",
       "      <td>38.783756</td>\n",
       "      <td>-5.181904</td>\n",
       "      <td>Pangani</td>\n",
       "      <td>30500</td>\n",
       "      <td>GeoData Consultants Ltd</td>\n",
       "      <td>False</td>\n",
       "      <td>2008</td>\n",
       "      <td>...</td>\n",
       "      <td>never pay</td>\n",
       "      <td>salty</td>\n",
       "      <td>salty</td>\n",
       "      <td>insufficient</td>\n",
       "      <td>insufficient</td>\n",
       "      <td>shallow well</td>\n",
       "      <td>shallow well</td>\n",
       "      <td>groundwater</td>\n",
       "      <td>hand pump</td>\n",
       "      <td>hand pump</td>\n",
       "    </tr>\n",
       "    <tr>\n",
       "      <th>51398</th>\n",
       "      <td>1</td>\n",
       "      <td>50.0</td>\n",
       "      <td>26</td>\n",
       "      <td>38.727663</td>\n",
       "      <td>-6.724701</td>\n",
       "      <td>Wami / Ruvu</td>\n",
       "      <td>11463</td>\n",
       "      <td>GeoData Consultants Ltd</td>\n",
       "      <td>True</td>\n",
       "      <td>2006</td>\n",
       "      <td>...</td>\n",
       "      <td>per bucket</td>\n",
       "      <td>soft</td>\n",
       "      <td>good</td>\n",
       "      <td>enough</td>\n",
       "      <td>enough</td>\n",
       "      <td>river</td>\n",
       "      <td>river/lake</td>\n",
       "      <td>surface</td>\n",
       "      <td>communal standpipe</td>\n",
       "      <td>communal standpipe</td>\n",
       "    </tr>\n",
       "  </tbody>\n",
       "</table>\n",
       "<p>3 rows × 26 columns</p>\n",
       "</div>"
      ],
      "text/plain": [
       "       status_group  amount_tsh  gps_height  longitude  latitude        basin  \\\n",
       "14308             0         0.0        1084  36.386050 -4.787678     Internal   \n",
       "30537             1         0.0         184  38.783756 -5.181904      Pangani   \n",
       "51398             1        50.0          26  38.727663 -6.724701  Wami / Ruvu   \n",
       "\n",
       "       population              recorded_by permit  construction_year  \\\n",
       "14308       15300  GeoData Consultants Ltd  False               1983   \n",
       "30537       30500  GeoData Consultants Ltd  False               2008   \n",
       "51398       11463  GeoData Consultants Ltd   True               2006   \n",
       "\n",
       "               ...          payment_type water_quality quality_group  \\\n",
       "14308          ...             never pay          soft          good   \n",
       "30537          ...             never pay         salty         salty   \n",
       "51398          ...            per bucket          soft          good   \n",
       "\n",
       "           quantity quantity_group        source   source_type source_class  \\\n",
       "14308  insufficient   insufficient   machine dbh      borehole  groundwater   \n",
       "30537  insufficient   insufficient  shallow well  shallow well  groundwater   \n",
       "51398        enough         enough         river    river/lake      surface   \n",
       "\n",
       "          waterpoint_type waterpoint_type_group  \n",
       "14308  communal standpipe    communal standpipe  \n",
       "30537           hand pump             hand pump  \n",
       "51398  communal standpipe    communal standpipe  \n",
       "\n",
       "[3 rows x 26 columns]"
      ]
     },
     "execution_count": 104,
     "metadata": {},
     "output_type": "execute_result"
    }
   ],
   "source": [
    "df.loc[df.population > 10000]"
   ]
  },
  {
   "cell_type": "markdown",
   "metadata": {},
   "source": [
    "### Recorded by"
   ]
  },
  {
   "cell_type": "code",
   "execution_count": 105,
   "metadata": {},
   "outputs": [
    {
     "data": {
      "text/plain": [
       "GeoData Consultants Ltd    59400\n",
       "Name: recorded_by, dtype: int64"
      ]
     },
     "execution_count": 105,
     "metadata": {},
     "output_type": "execute_result"
    }
   ],
   "source": [
    "df.recorded_by.value_counts()"
   ]
  },
  {
   "cell_type": "markdown",
   "metadata": {},
   "source": [
    "#### Will drop the 'recorded_by' column from the dataset since all values are the same"
   ]
  },
  {
   "cell_type": "code",
   "execution_count": 106,
   "metadata": {},
   "outputs": [],
   "source": [
    "df.drop('recorded_by', axis=1, inplace=True)"
   ]
  },
  {
   "cell_type": "markdown",
   "metadata": {},
   "source": [
    "### Construction year"
   ]
  },
  {
   "cell_type": "code",
   "execution_count": 107,
   "metadata": {},
   "outputs": [
    {
     "data": {
      "image/png": "[encoded data removed]",
      "text/plain": [
       "<Figure size 432x288 with 1 Axes>"
      ]
     },
     "metadata": {
      "needs_background": "light"
     },
     "output_type": "display_data"
    }
   ],
   "source": [
    "plt.hist(df.construction_year, color='purple', range=(1900,2018));"
   ]
  },
  {
   "cell_type": "code",
   "execution_count": 108,
   "metadata": {},
   "outputs": [
    {
     "data": {
      "text/plain": [
       "0       20709\n",
       "2010     2645\n",
       "2008     2613\n",
       "2009     2533\n",
       "2000     2091\n",
       "2007     1587\n",
       "2006     1471\n",
       "2003     1286\n",
       "2011     1256\n",
       "2004     1123\n",
       "Name: construction_year, dtype: int64"
      ]
     },
     "execution_count": 108,
     "metadata": {},
     "output_type": "execute_result"
    }
   ],
   "source": [
    "df.construction_year.value_counts().nlargest(10)"
   ]
  },
  {
   "cell_type": "code",
   "execution_count": 109,
   "metadata": {},
   "outputs": [
    {
     "data": {
      "text/plain": [
       "1986.0"
      ]
     },
     "execution_count": 109,
     "metadata": {},
     "output_type": "execute_result"
    }
   ],
   "source": [
    "df.construction_year.median()"
   ]
  },
  {
   "cell_type": "code",
   "execution_count": 110,
   "metadata": {},
   "outputs": [
    {
     "data": {
      "text/plain": [
       "55"
      ]
     },
     "execution_count": 110,
     "metadata": {},
     "output_type": "execute_result"
    }
   ],
   "source": [
    "len(df.construction_year.value_counts())"
   ]
  },
  {
   "cell_type": "markdown",
   "metadata": {},
   "source": [
    "#### Check for shared properties between wells built in the same year as a possible way to populate missing values"
   ]
  },
  {
   "cell_type": "code",
   "execution_count": 111,
   "metadata": {},
   "outputs": [],
   "source": [
    "# df.loc[df.construction_year == 1986]"
   ]
  },
  {
   "cell_type": "code",
   "execution_count": 112,
   "metadata": {},
   "outputs": [],
   "source": [
    "# df.loc[df.construction_year == 2000]"
   ]
  },
  {
   "cell_type": "code",
   "execution_count": 113,
   "metadata": {},
   "outputs": [],
   "source": [
    "# df.loc[df.construction_year == 1970]"
   ]
  },
  {
   "cell_type": "markdown",
   "metadata": {},
   "source": [
    "#### There are no obvious shared properties between wells built in the same year, so populating the large number of missing values could negatively affect the model. Additionally, converting this column to a categorical variable would vastly increase dimensionality with so many dummy variables, so this column will be dropped from the dataset."
   ]
  },
  {
   "cell_type": "code",
   "execution_count": 114,
   "metadata": {},
   "outputs": [],
   "source": [
    "df.drop('construction_year', axis=1, inplace=True)"
   ]
  },
  {
   "cell_type": "markdown",
   "metadata": {},
   "source": [
    "### Extraction type"
   ]
  },
  {
   "cell_type": "code",
   "execution_count": 115,
   "metadata": {},
   "outputs": [
    {
     "data": {
      "text/plain": [
       "gravity                      26780\n",
       "nira/tanira                   8154\n",
       "other                         6430\n",
       "submersible                   4764\n",
       "swn 80                        3670\n",
       "mono                          2865\n",
       "india mark ii                 2400\n",
       "afridev                       1770\n",
       "ksb                           1415\n",
       "other - rope pump              451\n",
       "other - swn 81                 229\n",
       "windmill                       117\n",
       "india mark iii                  98\n",
       "cemo                            90\n",
       "other - play pump               85\n",
       "walimi                          48\n",
       "climax                          32\n",
       "other - mkulima/shinyanga        2\n",
       "Name: extraction_type, dtype: int64"
      ]
     },
     "execution_count": 115,
     "metadata": {},
     "output_type": "execute_result"
    }
   ],
   "source": [
    "df.extraction_type.value_counts()"
   ]
  },
  {
   "cell_type": "markdown",
   "metadata": {},
   "source": [
    "#### Drop 'extraction_type' column from the dataset due to containing brand names of pumps and duplicating information"
   ]
  },
  {
   "cell_type": "code",
   "execution_count": 116,
   "metadata": {},
   "outputs": [],
   "source": [
    "df.drop('extraction_type', axis=1, inplace=True)"
   ]
  },
  {
   "cell_type": "markdown",
   "metadata": {},
   "source": [
    "### Extraction type group"
   ]
  },
  {
   "cell_type": "code",
   "execution_count": 117,
   "metadata": {},
   "outputs": [
    {
     "data": {
      "text/plain": [
       "gravity            26780\n",
       "nira/tanira         8154\n",
       "other               6430\n",
       "submersible         6179\n",
       "swn 80              3670\n",
       "mono                2865\n",
       "india mark ii       2400\n",
       "afridev             1770\n",
       "rope pump            451\n",
       "other handpump       364\n",
       "other motorpump      122\n",
       "wind-powered         117\n",
       "india mark iii        98\n",
       "Name: extraction_type_group, dtype: int64"
      ]
     },
     "execution_count": 117,
     "metadata": {},
     "output_type": "execute_result"
    }
   ],
   "source": [
    "df.extraction_type_group.value_counts()"
   ]
  },
  {
   "cell_type": "markdown",
   "metadata": {},
   "source": [
    "#### Drop 'extraction_type_group' column from the dataset due to containing brand names of pumps and duplicating information"
   ]
  },
  {
   "cell_type": "code",
   "execution_count": 118,
   "metadata": {},
   "outputs": [],
   "source": [
    "df.drop('extraction_type_group', axis=1, inplace=True)"
   ]
  },
  {
   "cell_type": "markdown",
   "metadata": {},
   "source": [
    "### Extraction type class"
   ]
  },
  {
   "cell_type": "code",
   "execution_count": 119,
   "metadata": {},
   "outputs": [
    {
     "data": {
      "text/plain": [
       "gravity         26780\n",
       "handpump        16456\n",
       "other            6430\n",
       "submersible      6179\n",
       "motorpump        2987\n",
       "rope pump         451\n",
       "wind-powered      117\n",
       "Name: extraction_type_class, dtype: int64"
      ]
     },
     "execution_count": 119,
     "metadata": {},
     "output_type": "execute_result"
    }
   ],
   "source": [
    "df.extraction_type_class.value_counts()"
   ]
  },
  {
   "cell_type": "markdown",
   "metadata": {},
   "source": [
    "### Management"
   ]
  },
  {
   "cell_type": "code",
   "execution_count": 120,
   "metadata": {},
   "outputs": [
    {
     "data": {
      "text/plain": [
       "vwc                 40507\n",
       "wug                  6515\n",
       "water board          2933\n",
       "wua                  2535\n",
       "private operator     1971\n",
       "parastatal           1768\n",
       "water authority       904\n",
       "other                 844\n",
       "company               685\n",
       "unknown               561\n",
       "other - school         99\n",
       "trust                  78\n",
       "Name: management, dtype: int64"
      ]
     },
     "execution_count": 120,
     "metadata": {},
     "output_type": "execute_result"
    }
   ],
   "source": [
    "df.management.value_counts()"
   ]
  },
  {
   "cell_type": "markdown",
   "metadata": {},
   "source": [
    "#### Consolidate 'other' values with 'unknown' and change 'other - school' to 'school' for clarity"
   ]
  },
  {
   "cell_type": "code",
   "execution_count": 121,
   "metadata": {},
   "outputs": [],
   "source": [
    "df.management.replace({'other': 'unknown', 'other - school': 'school'}, inplace=True)"
   ]
  },
  {
   "cell_type": "code",
   "execution_count": 122,
   "metadata": {},
   "outputs": [
    {
     "data": {
      "text/plain": [
       "vwc                 40507\n",
       "wug                  6515\n",
       "water board          2933\n",
       "wua                  2535\n",
       "private operator     1971\n",
       "parastatal           1768\n",
       "unknown              1405\n",
       "water authority       904\n",
       "company               685\n",
       "school                 99\n",
       "trust                  78\n",
       "Name: management, dtype: int64"
      ]
     },
     "execution_count": 122,
     "metadata": {},
     "output_type": "execute_result"
    }
   ],
   "source": [
    "df.management.value_counts()"
   ]
  },
  {
   "cell_type": "markdown",
   "metadata": {},
   "source": [
    "#### Low feature important from future models indicate that this column should be dropped from the dataset."
   ]
  },
  {
   "cell_type": "code",
   "execution_count": 123,
   "metadata": {},
   "outputs": [],
   "source": [
    "df.drop('management', axis=1, inplace=True)"
   ]
  },
  {
   "cell_type": "markdown",
   "metadata": {},
   "source": [
    "### Management group"
   ]
  },
  {
   "cell_type": "code",
   "execution_count": 124,
   "metadata": {},
   "outputs": [
    {
     "data": {
      "text/plain": [
       "user-group    52490\n",
       "commercial     3638\n",
       "parastatal     1768\n",
       "other           943\n",
       "unknown         561\n",
       "Name: management_group, dtype: int64"
      ]
     },
     "execution_count": 124,
     "metadata": {},
     "output_type": "execute_result"
    }
   ],
   "source": [
    "df.management_group.value_counts()"
   ]
  },
  {
   "cell_type": "markdown",
   "metadata": {},
   "source": [
    "#### Drop 'management_group' column from the dataset due to containing duplicate but less informative values"
   ]
  },
  {
   "cell_type": "code",
   "execution_count": 125,
   "metadata": {},
   "outputs": [],
   "source": [
    "df.drop('management_group', axis=1, inplace=True)"
   ]
  },
  {
   "cell_type": "markdown",
   "metadata": {},
   "source": [
    "### Payment"
   ]
  },
  {
   "cell_type": "code",
   "execution_count": 126,
   "metadata": {},
   "outputs": [
    {
     "data": {
      "text/plain": [
       "never pay                25348\n",
       "pay per bucket            8985\n",
       "pay monthly               8300\n",
       "unknown                   8157\n",
       "pay when scheme fails     3914\n",
       "pay annually              3642\n",
       "other                     1054\n",
       "Name: payment, dtype: int64"
      ]
     },
     "execution_count": 126,
     "metadata": {},
     "output_type": "execute_result"
    }
   ],
   "source": [
    "df.payment.value_counts()"
   ]
  },
  {
   "cell_type": "markdown",
   "metadata": {},
   "source": [
    "#### Drop 'payment' column from the dataset due to containing duplicate information"
   ]
  },
  {
   "cell_type": "code",
   "execution_count": 127,
   "metadata": {},
   "outputs": [],
   "source": [
    "df.drop('payment', axis=1, inplace=True)"
   ]
  },
  {
   "cell_type": "markdown",
   "metadata": {},
   "source": [
    "### Payment type"
   ]
  },
  {
   "cell_type": "code",
   "execution_count": 128,
   "metadata": {},
   "outputs": [
    {
     "data": {
      "text/plain": [
       "never pay     25348\n",
       "per bucket     8985\n",
       "monthly        8300\n",
       "unknown        8157\n",
       "on failure     3914\n",
       "annually       3642\n",
       "other          1054\n",
       "Name: payment_type, dtype: int64"
      ]
     },
     "execution_count": 128,
     "metadata": {},
     "output_type": "execute_result"
    }
   ],
   "source": [
    "df.payment_type.value_counts()"
   ]
  },
  {
   "cell_type": "markdown",
   "metadata": {},
   "source": [
    "#### Consolidate 'other' with 'unknown' values"
   ]
  },
  {
   "cell_type": "code",
   "execution_count": 129,
   "metadata": {},
   "outputs": [],
   "source": [
    "df.payment_type.replace({'other': 'unknown'}, inplace=True)"
   ]
  },
  {
   "cell_type": "code",
   "execution_count": 130,
   "metadata": {},
   "outputs": [
    {
     "data": {
      "text/plain": [
       "never pay     25348\n",
       "unknown        9211\n",
       "per bucket     8985\n",
       "monthly        8300\n",
       "on failure     3914\n",
       "annually       3642\n",
       "Name: payment_type, dtype: int64"
      ]
     },
     "execution_count": 130,
     "metadata": {},
     "output_type": "execute_result"
    }
   ],
   "source": [
    "df.payment_type.value_counts()"
   ]
  },
  {
   "cell_type": "markdown",
   "metadata": {},
   "source": [
    "#### Payment type should not have an effect on well functionality, unless payment type is determined by some characteristic of the well. However, low feature importance for this variable from future models indicate that this column should be dropped from the dataset."
   ]
  },
  {
   "cell_type": "code",
   "execution_count": 131,
   "metadata": {},
   "outputs": [],
   "source": [
    "df.drop('payment_type', axis=1, inplace=True)"
   ]
  },
  {
   "cell_type": "markdown",
   "metadata": {},
   "source": [
    "### Water Quality"
   ]
  },
  {
   "cell_type": "code",
   "execution_count": 132,
   "metadata": {},
   "outputs": [
    {
     "data": {
      "text/plain": [
       "soft                  50818\n",
       "salty                  4856\n",
       "unknown                1876\n",
       "milky                   804\n",
       "coloured                490\n",
       "salty abandoned         339\n",
       "fluoride                200\n",
       "fluoride abandoned       17\n",
       "Name: water_quality, dtype: int64"
      ]
     },
     "execution_count": 132,
     "metadata": {},
     "output_type": "execute_result"
    }
   ],
   "source": [
    "df.water_quality.value_counts()"
   ]
  },
  {
   "cell_type": "markdown",
   "metadata": {},
   "source": [
    "#### Drop 'water_quality' column from the dataset due to containing duplicate, less-concise information than 'quality_group'"
   ]
  },
  {
   "cell_type": "code",
   "execution_count": 133,
   "metadata": {},
   "outputs": [],
   "source": [
    "df.drop('water_quality', axis=1, inplace=True)"
   ]
  },
  {
   "cell_type": "markdown",
   "metadata": {},
   "source": [
    "### Quality Group"
   ]
  },
  {
   "cell_type": "code",
   "execution_count": 134,
   "metadata": {},
   "outputs": [
    {
     "data": {
      "text/plain": [
       "good        50818\n",
       "salty        5195\n",
       "unknown      1876\n",
       "milky         804\n",
       "colored       490\n",
       "fluoride      217\n",
       "Name: quality_group, dtype: int64"
      ]
     },
     "execution_count": 134,
     "metadata": {},
     "output_type": "execute_result"
    }
   ],
   "source": [
    "df.quality_group.value_counts()"
   ]
  },
  {
   "cell_type": "markdown",
   "metadata": {},
   "source": [
    "#### Low feature importance from future models indicate that this column should be dropped from the dataset."
   ]
  },
  {
   "cell_type": "code",
   "execution_count": 135,
   "metadata": {},
   "outputs": [],
   "source": [
    "df.drop('quality_group', axis=1, inplace=True)"
   ]
  },
  {
   "cell_type": "markdown",
   "metadata": {},
   "source": [
    "### Quantity"
   ]
  },
  {
   "cell_type": "code",
   "execution_count": 136,
   "metadata": {},
   "outputs": [
    {
     "data": {
      "text/plain": [
       "enough          33186\n",
       "insufficient    15129\n",
       "dry              6246\n",
       "seasonal         4050\n",
       "unknown           789\n",
       "Name: quantity, dtype: int64"
      ]
     },
     "execution_count": 136,
     "metadata": {},
     "output_type": "execute_result"
    }
   ],
   "source": [
    "df.quantity.value_counts()"
   ]
  },
  {
   "cell_type": "markdown",
   "metadata": {},
   "source": [
    "### Quantity Group"
   ]
  },
  {
   "cell_type": "code",
   "execution_count": 137,
   "metadata": {},
   "outputs": [
    {
     "data": {
      "text/plain": [
       "enough          33186\n",
       "insufficient    15129\n",
       "dry              6246\n",
       "seasonal         4050\n",
       "unknown           789\n",
       "Name: quantity_group, dtype: int64"
      ]
     },
     "execution_count": 137,
     "metadata": {},
     "output_type": "execute_result"
    }
   ],
   "source": [
    "df.quantity_group.value_counts()"
   ]
  },
  {
   "cell_type": "markdown",
   "metadata": {},
   "source": [
    "#### Drop 'quantity_group' column from dataset due to containing duplicate information"
   ]
  },
  {
   "cell_type": "code",
   "execution_count": 138,
   "metadata": {},
   "outputs": [],
   "source": [
    "df.drop('quantity_group', axis=1, inplace=True)"
   ]
  },
  {
   "cell_type": "markdown",
   "metadata": {},
   "source": [
    "### Source"
   ]
  },
  {
   "cell_type": "code",
   "execution_count": 139,
   "metadata": {},
   "outputs": [
    {
     "data": {
      "text/plain": [
       "spring                  17021\n",
       "shallow well            16824\n",
       "machine dbh             11075\n",
       "river                    9612\n",
       "rainwater harvesting     2295\n",
       "hand dtw                  874\n",
       "lake                      765\n",
       "dam                       656\n",
       "other                     212\n",
       "unknown                    66\n",
       "Name: source, dtype: int64"
      ]
     },
     "execution_count": 139,
     "metadata": {},
     "output_type": "execute_result"
    }
   ],
   "source": [
    "df.source.value_counts()"
   ]
  },
  {
   "cell_type": "markdown",
   "metadata": {},
   "source": [
    "#### Drop 'source' column from the dataset due to containing duplicate information"
   ]
  },
  {
   "cell_type": "code",
   "execution_count": 140,
   "metadata": {},
   "outputs": [],
   "source": [
    "df.drop('source', axis=1, inplace=True)"
   ]
  },
  {
   "cell_type": "markdown",
   "metadata": {},
   "source": [
    "### Source Type"
   ]
  },
  {
   "cell_type": "code",
   "execution_count": 141,
   "metadata": {},
   "outputs": [
    {
     "data": {
      "text/plain": [
       "spring                  17021\n",
       "shallow well            16824\n",
       "borehole                11949\n",
       "river/lake              10377\n",
       "rainwater harvesting     2295\n",
       "dam                       656\n",
       "other                     278\n",
       "Name: source_type, dtype: int64"
      ]
     },
     "execution_count": 141,
     "metadata": {},
     "output_type": "execute_result"
    }
   ],
   "source": [
    "df.source_type.value_counts()"
   ]
  },
  {
   "cell_type": "markdown",
   "metadata": {},
   "source": [
    "#### Low feature importance from future models indicate that this column should be dropped from the dataset."
   ]
  },
  {
   "cell_type": "code",
   "execution_count": 142,
   "metadata": {},
   "outputs": [],
   "source": [
    "df.drop('source_type', axis=1, inplace=True)"
   ]
  },
  {
   "cell_type": "markdown",
   "metadata": {},
   "source": [
    "### Source Class"
   ]
  },
  {
   "cell_type": "code",
   "execution_count": 143,
   "metadata": {},
   "outputs": [
    {
     "data": {
      "text/plain": [
       "groundwater    45794\n",
       "surface        13328\n",
       "unknown          278\n",
       "Name: source_class, dtype: int64"
      ]
     },
     "execution_count": 143,
     "metadata": {},
     "output_type": "execute_result"
    }
   ],
   "source": [
    "df.source_class.value_counts()"
   ]
  },
  {
   "cell_type": "markdown",
   "metadata": {},
   "source": [
    "#### Drop 'source_class' column due to containing duplicate, less-informative values than the 'source_type' column"
   ]
  },
  {
   "cell_type": "code",
   "execution_count": 144,
   "metadata": {},
   "outputs": [],
   "source": [
    "df.drop('source_class', axis=1, inplace=True)"
   ]
  },
  {
   "cell_type": "markdown",
   "metadata": {},
   "source": [
    "### Waterpoint Type"
   ]
  },
  {
   "cell_type": "code",
   "execution_count": 145,
   "metadata": {},
   "outputs": [
    {
     "data": {
      "text/plain": [
       "communal standpipe             28522\n",
       "hand pump                      17488\n",
       "other                           6380\n",
       "communal standpipe multiple     6103\n",
       "improved spring                  784\n",
       "cattle trough                    116\n",
       "dam                                7\n",
       "Name: waterpoint_type, dtype: int64"
      ]
     },
     "execution_count": 145,
     "metadata": {},
     "output_type": "execute_result"
    }
   ],
   "source": [
    "df.waterpoint_type.value_counts()"
   ]
  },
  {
   "cell_type": "markdown",
   "metadata": {},
   "source": [
    "#### Drop 'waterpoint_type' column due to containing duplicate information"
   ]
  },
  {
   "cell_type": "code",
   "execution_count": 146,
   "metadata": {},
   "outputs": [],
   "source": [
    "df.drop('waterpoint_type', axis=1, inplace=True)"
   ]
  },
  {
   "cell_type": "markdown",
   "metadata": {},
   "source": [
    "### Waterpoint Type Group"
   ]
  },
  {
   "cell_type": "code",
   "execution_count": 147,
   "metadata": {},
   "outputs": [
    {
     "data": {
      "text/plain": [
       "communal standpipe    34625\n",
       "hand pump             17488\n",
       "other                  6380\n",
       "improved spring         784\n",
       "cattle trough           116\n",
       "dam                       7\n",
       "Name: waterpoint_type_group, dtype: int64"
      ]
     },
     "execution_count": 147,
     "metadata": {},
     "output_type": "execute_result"
    }
   ],
   "source": [
    "df.waterpoint_type_group.value_counts()"
   ]
  },
  {
   "cell_type": "markdown",
   "metadata": {},
   "source": [
    "## III. Preprocessing<a id='section_3'></a>\n",
    "<a href='#top'>Back to Top</a>"
   ]
  },
  {
   "cell_type": "code",
   "execution_count": 148,
   "metadata": {},
   "outputs": [
    {
     "data": {
      "text/html": [
       "<div>\n",
       "<style scoped>\n",
       "    .dataframe tbody tr th:only-of-type {\n",
       "        vertical-align: middle;\n",
       "    }\n",
       "\n",
       "    .dataframe tbody tr th {\n",
       "        vertical-align: top;\n",
       "    }\n",
       "\n",
       "    .dataframe thead th {\n",
       "        text-align: right;\n",
       "    }\n",
       "</style>\n",
       "<table border=\"1\" class=\"dataframe\">\n",
       "  <thead>\n",
       "    <tr style=\"text-align: right;\">\n",
       "      <th></th>\n",
       "      <th>status_group</th>\n",
       "      <th>amount_tsh</th>\n",
       "      <th>gps_height</th>\n",
       "      <th>longitude</th>\n",
       "      <th>latitude</th>\n",
       "      <th>basin</th>\n",
       "      <th>population</th>\n",
       "      <th>permit</th>\n",
       "      <th>extraction_type_class</th>\n",
       "      <th>quantity</th>\n",
       "      <th>waterpoint_type_group</th>\n",
       "    </tr>\n",
       "  </thead>\n",
       "  <tbody>\n",
       "    <tr>\n",
       "      <th>0</th>\n",
       "      <td>1</td>\n",
       "      <td>6000.0</td>\n",
       "      <td>1390</td>\n",
       "      <td>34.938093</td>\n",
       "      <td>-9.856322</td>\n",
       "      <td>Lake Nyasa</td>\n",
       "      <td>109</td>\n",
       "      <td>False</td>\n",
       "      <td>gravity</td>\n",
       "      <td>enough</td>\n",
       "      <td>communal standpipe</td>\n",
       "    </tr>\n",
       "    <tr>\n",
       "      <th>1</th>\n",
       "      <td>1</td>\n",
       "      <td>0.0</td>\n",
       "      <td>1399</td>\n",
       "      <td>34.698766</td>\n",
       "      <td>-2.147466</td>\n",
       "      <td>Lake Victoria</td>\n",
       "      <td>280</td>\n",
       "      <td>True</td>\n",
       "      <td>gravity</td>\n",
       "      <td>insufficient</td>\n",
       "      <td>communal standpipe</td>\n",
       "    </tr>\n",
       "    <tr>\n",
       "      <th>2</th>\n",
       "      <td>1</td>\n",
       "      <td>25.0</td>\n",
       "      <td>686</td>\n",
       "      <td>37.460664</td>\n",
       "      <td>-3.821329</td>\n",
       "      <td>Pangani</td>\n",
       "      <td>250</td>\n",
       "      <td>True</td>\n",
       "      <td>gravity</td>\n",
       "      <td>enough</td>\n",
       "      <td>communal standpipe</td>\n",
       "    </tr>\n",
       "    <tr>\n",
       "      <th>3</th>\n",
       "      <td>0</td>\n",
       "      <td>0.0</td>\n",
       "      <td>263</td>\n",
       "      <td>38.486161</td>\n",
       "      <td>-11.155298</td>\n",
       "      <td>Ruvuma / Southern Coast</td>\n",
       "      <td>58</td>\n",
       "      <td>True</td>\n",
       "      <td>submersible</td>\n",
       "      <td>dry</td>\n",
       "      <td>communal standpipe</td>\n",
       "    </tr>\n",
       "    <tr>\n",
       "      <th>4</th>\n",
       "      <td>1</td>\n",
       "      <td>0.0</td>\n",
       "      <td>1019</td>\n",
       "      <td>31.130847</td>\n",
       "      <td>-1.825359</td>\n",
       "      <td>Lake Victoria</td>\n",
       "      <td>281</td>\n",
       "      <td>True</td>\n",
       "      <td>gravity</td>\n",
       "      <td>seasonal</td>\n",
       "      <td>communal standpipe</td>\n",
       "    </tr>\n",
       "  </tbody>\n",
       "</table>\n",
       "</div>"
      ],
      "text/plain": [
       "   status_group  amount_tsh  gps_height  longitude   latitude  \\\n",
       "0             1      6000.0        1390  34.938093  -9.856322   \n",
       "1             1         0.0        1399  34.698766  -2.147466   \n",
       "2             1        25.0         686  37.460664  -3.821329   \n",
       "3             0         0.0         263  38.486161 -11.155298   \n",
       "4             1         0.0        1019  31.130847  -1.825359   \n",
       "\n",
       "                     basin  population permit extraction_type_class  \\\n",
       "0               Lake Nyasa         109  False               gravity   \n",
       "1            Lake Victoria         280   True               gravity   \n",
       "2                  Pangani         250   True               gravity   \n",
       "3  Ruvuma / Southern Coast          58   True           submersible   \n",
       "4            Lake Victoria         281   True               gravity   \n",
       "\n",
       "       quantity waterpoint_type_group  \n",
       "0        enough    communal standpipe  \n",
       "1  insufficient    communal standpipe  \n",
       "2        enough    communal standpipe  \n",
       "3           dry    communal standpipe  \n",
       "4      seasonal    communal standpipe  "
      ]
     },
     "execution_count": 148,
     "metadata": {},
     "output_type": "execute_result"
    }
   ],
   "source": [
    "df.head()"
   ]
  },
  {
   "cell_type": "code",
   "execution_count": 149,
   "metadata": {},
   "outputs": [
    {
     "data": {
      "text/plain": [
       "status_group               int64\n",
       "amount_tsh               float64\n",
       "gps_height                 int64\n",
       "longitude                float64\n",
       "latitude                 float64\n",
       "basin                     object\n",
       "population                 int64\n",
       "permit                    object\n",
       "extraction_type_class     object\n",
       "quantity                  object\n",
       "waterpoint_type_group     object\n",
       "dtype: object"
      ]
     },
     "execution_count": 149,
     "metadata": {},
     "output_type": "execute_result"
    }
   ],
   "source": [
    "df.dtypes"
   ]
  },
  {
   "cell_type": "markdown",
   "metadata": {},
   "source": [
    "#### Change permit column to boolean type"
   ]
  },
  {
   "cell_type": "code",
   "execution_count": 150,
   "metadata": {},
   "outputs": [],
   "source": [
    "df.permit = df.permit.astype('bool')"
   ]
  },
  {
   "cell_type": "code",
   "execution_count": 151,
   "metadata": {},
   "outputs": [
    {
     "data": {
      "text/plain": [
       "status_group               int64\n",
       "amount_tsh               float64\n",
       "gps_height                 int64\n",
       "longitude                float64\n",
       "latitude                 float64\n",
       "basin                     object\n",
       "population                 int64\n",
       "permit                      bool\n",
       "extraction_type_class     object\n",
       "quantity                  object\n",
       "waterpoint_type_group     object\n",
       "dtype: object"
      ]
     },
     "execution_count": 151,
     "metadata": {},
     "output_type": "execute_result"
    }
   ],
   "source": [
    "df.dtypes"
   ]
  },
  {
   "cell_type": "markdown",
   "metadata": {},
   "source": [
    "#### Split the dataframe into target and feature variables"
   ]
  },
  {
   "cell_type": "code",
   "execution_count": 152,
   "metadata": {},
   "outputs": [],
   "source": [
    "y = df.status_group"
   ]
  },
  {
   "cell_type": "code",
   "execution_count": 153,
   "metadata": {},
   "outputs": [
    {
     "data": {
      "text/plain": [
       "0    1\n",
       "1    1\n",
       "2    1\n",
       "3    0\n",
       "4    1\n",
       "Name: status_group, dtype: int64"
      ]
     },
     "execution_count": 153,
     "metadata": {},
     "output_type": "execute_result"
    }
   ],
   "source": [
    "y.head()"
   ]
  },
  {
   "cell_type": "code",
   "execution_count": 154,
   "metadata": {},
   "outputs": [
    {
     "data": {
      "text/plain": [
       "1    32259\n",
       "0    27141\n",
       "Name: status_group, dtype: int64"
      ]
     },
     "execution_count": 154,
     "metadata": {},
     "output_type": "execute_result"
    }
   ],
   "source": [
    "y.value_counts()"
   ]
  },
  {
   "cell_type": "code",
   "execution_count": 155,
   "metadata": {},
   "outputs": [
    {
     "data": {
      "text/plain": [
       "dtype('int64')"
      ]
     },
     "execution_count": 155,
     "metadata": {},
     "output_type": "execute_result"
    }
   ],
   "source": [
    "y.dtypes"
   ]
  },
  {
   "cell_type": "code",
   "execution_count": 156,
   "metadata": {},
   "outputs": [],
   "source": [
    "X = df.drop('status_group', axis=1)"
   ]
  },
  {
   "cell_type": "code",
   "execution_count": 157,
   "metadata": {},
   "outputs": [
    {
     "data": {
      "text/html": [
       "<div>\n",
       "<style scoped>\n",
       "    .dataframe tbody tr th:only-of-type {\n",
       "        vertical-align: middle;\n",
       "    }\n",
       "\n",
       "    .dataframe tbody tr th {\n",
       "        vertical-align: top;\n",
       "    }\n",
       "\n",
       "    .dataframe thead th {\n",
       "        text-align: right;\n",
       "    }\n",
       "</style>\n",
       "<table border=\"1\" class=\"dataframe\">\n",
       "  <thead>\n",
       "    <tr style=\"text-align: right;\">\n",
       "      <th></th>\n",
       "      <th>amount_tsh</th>\n",
       "      <th>gps_height</th>\n",
       "      <th>longitude</th>\n",
       "      <th>latitude</th>\n",
       "      <th>basin</th>\n",
       "      <th>population</th>\n",
       "      <th>permit</th>\n",
       "      <th>extraction_type_class</th>\n",
       "      <th>quantity</th>\n",
       "      <th>waterpoint_type_group</th>\n",
       "    </tr>\n",
       "  </thead>\n",
       "  <tbody>\n",
       "    <tr>\n",
       "      <th>0</th>\n",
       "      <td>6000.0</td>\n",
       "      <td>1390</td>\n",
       "      <td>34.938093</td>\n",
       "      <td>-9.856322</td>\n",
       "      <td>Lake Nyasa</td>\n",
       "      <td>109</td>\n",
       "      <td>False</td>\n",
       "      <td>gravity</td>\n",
       "      <td>enough</td>\n",
       "      <td>communal standpipe</td>\n",
       "    </tr>\n",
       "    <tr>\n",
       "      <th>1</th>\n",
       "      <td>0.0</td>\n",
       "      <td>1399</td>\n",
       "      <td>34.698766</td>\n",
       "      <td>-2.147466</td>\n",
       "      <td>Lake Victoria</td>\n",
       "      <td>280</td>\n",
       "      <td>True</td>\n",
       "      <td>gravity</td>\n",
       "      <td>insufficient</td>\n",
       "      <td>communal standpipe</td>\n",
       "    </tr>\n",
       "    <tr>\n",
       "      <th>2</th>\n",
       "      <td>25.0</td>\n",
       "      <td>686</td>\n",
       "      <td>37.460664</td>\n",
       "      <td>-3.821329</td>\n",
       "      <td>Pangani</td>\n",
       "      <td>250</td>\n",
       "      <td>True</td>\n",
       "      <td>gravity</td>\n",
       "      <td>enough</td>\n",
       "      <td>communal standpipe</td>\n",
       "    </tr>\n",
       "    <tr>\n",
       "      <th>3</th>\n",
       "      <td>0.0</td>\n",
       "      <td>263</td>\n",
       "      <td>38.486161</td>\n",
       "      <td>-11.155298</td>\n",
       "      <td>Ruvuma / Southern Coast</td>\n",
       "      <td>58</td>\n",
       "      <td>True</td>\n",
       "      <td>submersible</td>\n",
       "      <td>dry</td>\n",
       "      <td>communal standpipe</td>\n",
       "    </tr>\n",
       "    <tr>\n",
       "      <th>4</th>\n",
       "      <td>0.0</td>\n",
       "      <td>1019</td>\n",
       "      <td>31.130847</td>\n",
       "      <td>-1.825359</td>\n",
       "      <td>Lake Victoria</td>\n",
       "      <td>281</td>\n",
       "      <td>True</td>\n",
       "      <td>gravity</td>\n",
       "      <td>seasonal</td>\n",
       "      <td>communal standpipe</td>\n",
       "    </tr>\n",
       "  </tbody>\n",
       "</table>\n",
       "</div>"
      ],
      "text/plain": [
       "   amount_tsh  gps_height  longitude   latitude                    basin  \\\n",
       "0      6000.0        1390  34.938093  -9.856322               Lake Nyasa   \n",
       "1         0.0        1399  34.698766  -2.147466            Lake Victoria   \n",
       "2        25.0         686  37.460664  -3.821329                  Pangani   \n",
       "3         0.0         263  38.486161 -11.155298  Ruvuma / Southern Coast   \n",
       "4         0.0        1019  31.130847  -1.825359            Lake Victoria   \n",
       "\n",
       "   population  permit extraction_type_class      quantity  \\\n",
       "0         109   False               gravity        enough   \n",
       "1         280    True               gravity  insufficient   \n",
       "2         250    True               gravity        enough   \n",
       "3          58    True           submersible           dry   \n",
       "4         281    True               gravity      seasonal   \n",
       "\n",
       "  waterpoint_type_group  \n",
       "0    communal standpipe  \n",
       "1    communal standpipe  \n",
       "2    communal standpipe  \n",
       "3    communal standpipe  \n",
       "4    communal standpipe  "
      ]
     },
     "execution_count": 157,
     "metadata": {},
     "output_type": "execute_result"
    }
   ],
   "source": [
    "X.head()"
   ]
  },
  {
   "cell_type": "markdown",
   "metadata": {},
   "source": [
    "#### Convert categorical columns to dummy variables"
   ]
  },
  {
   "cell_type": "code",
   "execution_count": 158,
   "metadata": {},
   "outputs": [],
   "source": [
    "X = pd.get_dummies(X)"
   ]
  },
  {
   "cell_type": "code",
   "execution_count": 159,
   "metadata": {},
   "outputs": [
    {
     "data": {
      "text/html": [
       "<div>\n",
       "<style scoped>\n",
       "    .dataframe tbody tr th:only-of-type {\n",
       "        vertical-align: middle;\n",
       "    }\n",
       "\n",
       "    .dataframe tbody tr th {\n",
       "        vertical-align: top;\n",
       "    }\n",
       "\n",
       "    .dataframe thead th {\n",
       "        text-align: right;\n",
       "    }\n",
       "</style>\n",
       "<table border=\"1\" class=\"dataframe\">\n",
       "  <thead>\n",
       "    <tr style=\"text-align: right;\">\n",
       "      <th></th>\n",
       "      <th>amount_tsh</th>\n",
       "      <th>gps_height</th>\n",
       "      <th>longitude</th>\n",
       "      <th>latitude</th>\n",
       "      <th>population</th>\n",
       "      <th>permit</th>\n",
       "      <th>basin_Internal</th>\n",
       "      <th>basin_Lake Nyasa</th>\n",
       "      <th>basin_Lake Rukwa</th>\n",
       "      <th>basin_Lake Tanganyika</th>\n",
       "      <th>...</th>\n",
       "      <th>quantity_enough</th>\n",
       "      <th>quantity_insufficient</th>\n",
       "      <th>quantity_seasonal</th>\n",
       "      <th>quantity_unknown</th>\n",
       "      <th>waterpoint_type_group_cattle trough</th>\n",
       "      <th>waterpoint_type_group_communal standpipe</th>\n",
       "      <th>waterpoint_type_group_dam</th>\n",
       "      <th>waterpoint_type_group_hand pump</th>\n",
       "      <th>waterpoint_type_group_improved spring</th>\n",
       "      <th>waterpoint_type_group_other</th>\n",
       "    </tr>\n",
       "  </thead>\n",
       "  <tbody>\n",
       "    <tr>\n",
       "      <th>0</th>\n",
       "      <td>6000.0</td>\n",
       "      <td>1390</td>\n",
       "      <td>34.938093</td>\n",
       "      <td>-9.856322</td>\n",
       "      <td>109</td>\n",
       "      <td>False</td>\n",
       "      <td>0</td>\n",
       "      <td>1</td>\n",
       "      <td>0</td>\n",
       "      <td>0</td>\n",
       "      <td>...</td>\n",
       "      <td>1</td>\n",
       "      <td>0</td>\n",
       "      <td>0</td>\n",
       "      <td>0</td>\n",
       "      <td>0</td>\n",
       "      <td>1</td>\n",
       "      <td>0</td>\n",
       "      <td>0</td>\n",
       "      <td>0</td>\n",
       "      <td>0</td>\n",
       "    </tr>\n",
       "    <tr>\n",
       "      <th>1</th>\n",
       "      <td>0.0</td>\n",
       "      <td>1399</td>\n",
       "      <td>34.698766</td>\n",
       "      <td>-2.147466</td>\n",
       "      <td>280</td>\n",
       "      <td>True</td>\n",
       "      <td>0</td>\n",
       "      <td>0</td>\n",
       "      <td>0</td>\n",
       "      <td>0</td>\n",
       "      <td>...</td>\n",
       "      <td>0</td>\n",
       "      <td>1</td>\n",
       "      <td>0</td>\n",
       "      <td>0</td>\n",
       "      <td>0</td>\n",
       "      <td>1</td>\n",
       "      <td>0</td>\n",
       "      <td>0</td>\n",
       "      <td>0</td>\n",
       "      <td>0</td>\n",
       "    </tr>\n",
       "    <tr>\n",
       "      <th>2</th>\n",
       "      <td>25.0</td>\n",
       "      <td>686</td>\n",
       "      <td>37.460664</td>\n",
       "      <td>-3.821329</td>\n",
       "      <td>250</td>\n",
       "      <td>True</td>\n",
       "      <td>0</td>\n",
       "      <td>0</td>\n",
       "      <td>0</td>\n",
       "      <td>0</td>\n",
       "      <td>...</td>\n",
       "      <td>1</td>\n",
       "      <td>0</td>\n",
       "      <td>0</td>\n",
       "      <td>0</td>\n",
       "      <td>0</td>\n",
       "      <td>1</td>\n",
       "      <td>0</td>\n",
       "      <td>0</td>\n",
       "      <td>0</td>\n",
       "      <td>0</td>\n",
       "    </tr>\n",
       "    <tr>\n",
       "      <th>3</th>\n",
       "      <td>0.0</td>\n",
       "      <td>263</td>\n",
       "      <td>38.486161</td>\n",
       "      <td>-11.155298</td>\n",
       "      <td>58</td>\n",
       "      <td>True</td>\n",
       "      <td>0</td>\n",
       "      <td>0</td>\n",
       "      <td>0</td>\n",
       "      <td>0</td>\n",
       "      <td>...</td>\n",
       "      <td>0</td>\n",
       "      <td>0</td>\n",
       "      <td>0</td>\n",
       "      <td>0</td>\n",
       "      <td>0</td>\n",
       "      <td>1</td>\n",
       "      <td>0</td>\n",
       "      <td>0</td>\n",
       "      <td>0</td>\n",
       "      <td>0</td>\n",
       "    </tr>\n",
       "    <tr>\n",
       "      <th>4</th>\n",
       "      <td>0.0</td>\n",
       "      <td>1019</td>\n",
       "      <td>31.130847</td>\n",
       "      <td>-1.825359</td>\n",
       "      <td>281</td>\n",
       "      <td>True</td>\n",
       "      <td>0</td>\n",
       "      <td>0</td>\n",
       "      <td>0</td>\n",
       "      <td>0</td>\n",
       "      <td>...</td>\n",
       "      <td>0</td>\n",
       "      <td>0</td>\n",
       "      <td>1</td>\n",
       "      <td>0</td>\n",
       "      <td>0</td>\n",
       "      <td>1</td>\n",
       "      <td>0</td>\n",
       "      <td>0</td>\n",
       "      <td>0</td>\n",
       "      <td>0</td>\n",
       "    </tr>\n",
       "  </tbody>\n",
       "</table>\n",
       "<p>5 rows × 33 columns</p>\n",
       "</div>"
      ],
      "text/plain": [
       "   amount_tsh  gps_height  longitude   latitude  population  permit  \\\n",
       "0      6000.0        1390  34.938093  -9.856322         109   False   \n",
       "1         0.0        1399  34.698766  -2.147466         280    True   \n",
       "2        25.0         686  37.460664  -3.821329         250    True   \n",
       "3         0.0         263  38.486161 -11.155298          58    True   \n",
       "4         0.0        1019  31.130847  -1.825359         281    True   \n",
       "\n",
       "   basin_Internal  basin_Lake Nyasa  basin_Lake Rukwa  basin_Lake Tanganyika  \\\n",
       "0               0                 1                 0                      0   \n",
       "1               0                 0                 0                      0   \n",
       "2               0                 0                 0                      0   \n",
       "3               0                 0                 0                      0   \n",
       "4               0                 0                 0                      0   \n",
       "\n",
       "              ...               quantity_enough  quantity_insufficient  \\\n",
       "0             ...                             1                      0   \n",
       "1             ...                             0                      1   \n",
       "2             ...                             1                      0   \n",
       "3             ...                             0                      0   \n",
       "4             ...                             0                      0   \n",
       "\n",
       "   quantity_seasonal  quantity_unknown  waterpoint_type_group_cattle trough  \\\n",
       "0                  0                 0                                    0   \n",
       "1                  0                 0                                    0   \n",
       "2                  0                 0                                    0   \n",
       "3                  0                 0                                    0   \n",
       "4                  1                 0                                    0   \n",
       "\n",
       "   waterpoint_type_group_communal standpipe  waterpoint_type_group_dam  \\\n",
       "0                                         1                          0   \n",
       "1                                         1                          0   \n",
       "2                                         1                          0   \n",
       "3                                         1                          0   \n",
       "4                                         1                          0   \n",
       "\n",
       "   waterpoint_type_group_hand pump  waterpoint_type_group_improved spring  \\\n",
       "0                                0                                      0   \n",
       "1                                0                                      0   \n",
       "2                                0                                      0   \n",
       "3                                0                                      0   \n",
       "4                                0                                      0   \n",
       "\n",
       "   waterpoint_type_group_other  \n",
       "0                            0  \n",
       "1                            0  \n",
       "2                            0  \n",
       "3                            0  \n",
       "4                            0  \n",
       "\n",
       "[5 rows x 33 columns]"
      ]
     },
     "execution_count": 159,
     "metadata": {},
     "output_type": "execute_result"
    }
   ],
   "source": [
    "X.head()"
   ]
  },
  {
   "cell_type": "markdown",
   "metadata": {},
   "source": [
    "#### Scale using StandardScaler"
   ]
  },
  {
   "cell_type": "code",
   "execution_count": 160,
   "metadata": {},
   "outputs": [],
   "source": [
    "s_scaler = StandardScaler()\n",
    "standard_X = s_scaler.fit_transform(X)"
   ]
  },
  {
   "cell_type": "code",
   "execution_count": 161,
   "metadata": {},
   "outputs": [],
   "source": [
    "standard_df = pd.DataFrame(standard_X, index=X.index, columns=X.columns)"
   ]
  },
  {
   "cell_type": "code",
   "execution_count": 162,
   "metadata": {},
   "outputs": [
    {
     "data": {
      "text/html": [
       "<div>\n",
       "<style scoped>\n",
       "    .dataframe tbody tr th:only-of-type {\n",
       "        vertical-align: middle;\n",
       "    }\n",
       "\n",
       "    .dataframe tbody tr th {\n",
       "        vertical-align: top;\n",
       "    }\n",
       "\n",
       "    .dataframe thead th {\n",
       "        text-align: right;\n",
       "    }\n",
       "</style>\n",
       "<table border=\"1\" class=\"dataframe\">\n",
       "  <thead>\n",
       "    <tr style=\"text-align: right;\">\n",
       "      <th></th>\n",
       "      <th>amount_tsh</th>\n",
       "      <th>gps_height</th>\n",
       "      <th>longitude</th>\n",
       "      <th>latitude</th>\n",
       "      <th>population</th>\n",
       "      <th>permit</th>\n",
       "      <th>basin_Internal</th>\n",
       "      <th>basin_Lake Nyasa</th>\n",
       "      <th>basin_Lake Rukwa</th>\n",
       "      <th>basin_Lake Tanganyika</th>\n",
       "      <th>...</th>\n",
       "      <th>quantity_enough</th>\n",
       "      <th>quantity_insufficient</th>\n",
       "      <th>quantity_seasonal</th>\n",
       "      <th>quantity_unknown</th>\n",
       "      <th>waterpoint_type_group_cattle trough</th>\n",
       "      <th>waterpoint_type_group_communal standpipe</th>\n",
       "      <th>waterpoint_type_group_dam</th>\n",
       "      <th>waterpoint_type_group_hand pump</th>\n",
       "      <th>waterpoint_type_group_improved spring</th>\n",
       "      <th>waterpoint_type_group_other</th>\n",
       "    </tr>\n",
       "  </thead>\n",
       "  <tbody>\n",
       "    <tr>\n",
       "      <th>0</th>\n",
       "      <td>1.895665</td>\n",
       "      <td>0.748008</td>\n",
       "      <td>-0.069492</td>\n",
       "      <td>-1.408791</td>\n",
       "      <td>-0.380855</td>\n",
       "      <td>-1.547850</td>\n",
       "      <td>-0.388366</td>\n",
       "      <td>3.268244</td>\n",
       "      <td>-0.20759</td>\n",
       "      <td>-0.348471</td>\n",
       "      <td>...</td>\n",
       "      <td>0.888770</td>\n",
       "      <td>-0.584582</td>\n",
       "      <td>-0.270501</td>\n",
       "      <td>-0.116024</td>\n",
       "      <td>-0.044234</td>\n",
       "      <td>0.845886</td>\n",
       "      <td>-0.010856</td>\n",
       "      <td>-0.645953</td>\n",
       "      <td>-0.115651</td>\n",
       "      <td>-0.346889</td>\n",
       "    </tr>\n",
       "    <tr>\n",
       "      <th>1</th>\n",
       "      <td>-0.105970</td>\n",
       "      <td>0.766149</td>\n",
       "      <td>-0.162472</td>\n",
       "      <td>1.207934</td>\n",
       "      <td>-0.002337</td>\n",
       "      <td>0.646058</td>\n",
       "      <td>-0.388366</td>\n",
       "      <td>-0.305975</td>\n",
       "      <td>-0.20759</td>\n",
       "      <td>-0.348471</td>\n",
       "      <td>...</td>\n",
       "      <td>-1.125151</td>\n",
       "      <td>1.710624</td>\n",
       "      <td>-0.270501</td>\n",
       "      <td>-0.116024</td>\n",
       "      <td>-0.044234</td>\n",
       "      <td>0.845886</td>\n",
       "      <td>-0.010856</td>\n",
       "      <td>-0.645953</td>\n",
       "      <td>-0.115651</td>\n",
       "      <td>-0.346889</td>\n",
       "    </tr>\n",
       "    <tr>\n",
       "      <th>2</th>\n",
       "      <td>-0.097630</td>\n",
       "      <td>-0.671043</td>\n",
       "      <td>0.910551</td>\n",
       "      <td>0.639751</td>\n",
       "      <td>-0.068744</td>\n",
       "      <td>0.646058</td>\n",
       "      <td>-0.388366</td>\n",
       "      <td>-0.305975</td>\n",
       "      <td>-0.20759</td>\n",
       "      <td>-0.348471</td>\n",
       "      <td>...</td>\n",
       "      <td>0.888770</td>\n",
       "      <td>-0.584582</td>\n",
       "      <td>-0.270501</td>\n",
       "      <td>-0.116024</td>\n",
       "      <td>-0.044234</td>\n",
       "      <td>0.845886</td>\n",
       "      <td>-0.010856</td>\n",
       "      <td>-0.645953</td>\n",
       "      <td>-0.115651</td>\n",
       "      <td>-0.346889</td>\n",
       "    </tr>\n",
       "    <tr>\n",
       "      <th>3</th>\n",
       "      <td>-0.105970</td>\n",
       "      <td>-1.523683</td>\n",
       "      <td>1.308966</td>\n",
       "      <td>-1.849720</td>\n",
       "      <td>-0.493746</td>\n",
       "      <td>0.646058</td>\n",
       "      <td>-0.388366</td>\n",
       "      <td>-0.305975</td>\n",
       "      <td>-0.20759</td>\n",
       "      <td>-0.348471</td>\n",
       "      <td>...</td>\n",
       "      <td>-1.125151</td>\n",
       "      <td>-0.584582</td>\n",
       "      <td>-0.270501</td>\n",
       "      <td>-0.116024</td>\n",
       "      <td>-0.044234</td>\n",
       "      <td>0.845886</td>\n",
       "      <td>-0.010856</td>\n",
       "      <td>-0.645953</td>\n",
       "      <td>-0.115651</td>\n",
       "      <td>-0.346889</td>\n",
       "    </tr>\n",
       "    <tr>\n",
       "      <th>4</th>\n",
       "      <td>-0.105970</td>\n",
       "      <td>0.000184</td>\n",
       "      <td>-1.548642</td>\n",
       "      <td>1.317271</td>\n",
       "      <td>-0.000123</td>\n",
       "      <td>0.646058</td>\n",
       "      <td>-0.388366</td>\n",
       "      <td>-0.305975</td>\n",
       "      <td>-0.20759</td>\n",
       "      <td>-0.348471</td>\n",
       "      <td>...</td>\n",
       "      <td>-1.125151</td>\n",
       "      <td>-0.584582</td>\n",
       "      <td>3.696846</td>\n",
       "      <td>-0.116024</td>\n",
       "      <td>-0.044234</td>\n",
       "      <td>0.845886</td>\n",
       "      <td>-0.010856</td>\n",
       "      <td>-0.645953</td>\n",
       "      <td>-0.115651</td>\n",
       "      <td>-0.346889</td>\n",
       "    </tr>\n",
       "  </tbody>\n",
       "</table>\n",
       "<p>5 rows × 33 columns</p>\n",
       "</div>"
      ],
      "text/plain": [
       "   amount_tsh  gps_height  longitude  latitude  population    permit  \\\n",
       "0    1.895665    0.748008  -0.069492 -1.408791   -0.380855 -1.547850   \n",
       "1   -0.105970    0.766149  -0.162472  1.207934   -0.002337  0.646058   \n",
       "2   -0.097630   -0.671043   0.910551  0.639751   -0.068744  0.646058   \n",
       "3   -0.105970   -1.523683   1.308966 -1.849720   -0.493746  0.646058   \n",
       "4   -0.105970    0.000184  -1.548642  1.317271   -0.000123  0.646058   \n",
       "\n",
       "   basin_Internal  basin_Lake Nyasa  basin_Lake Rukwa  basin_Lake Tanganyika  \\\n",
       "0       -0.388366          3.268244          -0.20759              -0.348471   \n",
       "1       -0.388366         -0.305975          -0.20759              -0.348471   \n",
       "2       -0.388366         -0.305975          -0.20759              -0.348471   \n",
       "3       -0.388366         -0.305975          -0.20759              -0.348471   \n",
       "4       -0.388366         -0.305975          -0.20759              -0.348471   \n",
       "\n",
       "              ...               quantity_enough  quantity_insufficient  \\\n",
       "0             ...                      0.888770              -0.584582   \n",
       "1             ...                     -1.125151               1.710624   \n",
       "2             ...                      0.888770              -0.584582   \n",
       "3             ...                     -1.125151              -0.584582   \n",
       "4             ...                     -1.125151              -0.584582   \n",
       "\n",
       "   quantity_seasonal  quantity_unknown  waterpoint_type_group_cattle trough  \\\n",
       "0          -0.270501         -0.116024                            -0.044234   \n",
       "1          -0.270501         -0.116024                            -0.044234   \n",
       "2          -0.270501         -0.116024                            -0.044234   \n",
       "3          -0.270501         -0.116024                            -0.044234   \n",
       "4           3.696846         -0.116024                            -0.044234   \n",
       "\n",
       "   waterpoint_type_group_communal standpipe  waterpoint_type_group_dam  \\\n",
       "0                                  0.845886                  -0.010856   \n",
       "1                                  0.845886                  -0.010856   \n",
       "2                                  0.845886                  -0.010856   \n",
       "3                                  0.845886                  -0.010856   \n",
       "4                                  0.845886                  -0.010856   \n",
       "\n",
       "   waterpoint_type_group_hand pump  waterpoint_type_group_improved spring  \\\n",
       "0                        -0.645953                              -0.115651   \n",
       "1                        -0.645953                              -0.115651   \n",
       "2                        -0.645953                              -0.115651   \n",
       "3                        -0.645953                              -0.115651   \n",
       "4                        -0.645953                              -0.115651   \n",
       "\n",
       "   waterpoint_type_group_other  \n",
       "0                    -0.346889  \n",
       "1                    -0.346889  \n",
       "2                    -0.346889  \n",
       "3                    -0.346889  \n",
       "4                    -0.346889  \n",
       "\n",
       "[5 rows x 33 columns]"
      ]
     },
     "execution_count": 162,
     "metadata": {},
     "output_type": "execute_result"
    }
   ],
   "source": [
    "standard_df.head()"
   ]
  },
  {
   "cell_type": "code",
   "execution_count": 163,
   "metadata": {},
   "outputs": [
    {
     "data": {
      "image/png": "[encoded data removed]",
      "text/plain": [
       "<Figure size 432x288 with 1 Axes>"
      ]
     },
     "metadata": {
      "needs_background": "light"
     },
     "output_type": "display_data"
    }
   ],
   "source": [
    "plt.hist(standard_df.population, color='purple', range=(0,5.0), bins=25);"
   ]
  },
  {
   "cell_type": "markdown",
   "metadata": {},
   "source": [
    "## IV. Modeling<a id='section_4'></a>\n",
    "<a href='#top'>Back to Top</a>"
   ]
  },
  {
   "cell_type": "code",
   "execution_count": 164,
   "metadata": {},
   "outputs": [],
   "source": [
    "X_train, X_test, y_train, y_test = train_test_split(standard_df, y, random_state=19)"
   ]
  },
  {
   "cell_type": "markdown",
   "metadata": {},
   "source": [
    "#### Vanilla Decision Tree Classifier with standard scaled data"
   ]
  },
  {
   "cell_type": "code",
   "execution_count": 165,
   "metadata": {},
   "outputs": [
    {
     "data": {
      "text/plain": [
       "DecisionTreeClassifier(class_weight=None, criterion='gini', max_depth=None,\n",
       "            max_features=None, max_leaf_nodes=None,\n",
       "            min_impurity_decrease=0.0, min_impurity_split=None,\n",
       "            min_samples_leaf=1, min_samples_split=2,\n",
       "            min_weight_fraction_leaf=0.0, presort=False, random_state=19,\n",
       "            splitter='best')"
      ]
     },
     "execution_count": 165,
     "metadata": {},
     "output_type": "execute_result"
    }
   ],
   "source": [
    "dt = DecisionTreeClassifier(random_state=19)\n",
    "dt.fit(X_train, y_train)"
   ]
  },
  {
   "cell_type": "code",
   "execution_count": 166,
   "metadata": {},
   "outputs": [],
   "source": [
    "y_preds = dt.predict(X_test)"
   ]
  },
  {
   "cell_type": "code",
   "execution_count": 167,
   "metadata": {},
   "outputs": [
    {
     "data": {
      "text/plain": [
       "0.76996632996633"
      ]
     },
     "execution_count": 167,
     "metadata": {},
     "output_type": "execute_result"
    }
   ],
   "source": [
    "accuracy_score(y_test, y_preds)"
   ]
  },
  {
   "cell_type": "code",
   "execution_count": 168,
   "metadata": {},
   "outputs": [
    {
     "data": {
      "text/plain": [
       "0.7899655681259223"
      ]
     },
     "execution_count": 168,
     "metadata": {},
     "output_type": "execute_result"
    }
   ],
   "source": [
    "f1_score(y_test, y_preds)"
   ]
  },
  {
   "cell_type": "markdown",
   "metadata": {},
   "source": [
    "#### Vanilla Random Forest Classifier with standard scaled data"
   ]
  },
  {
   "cell_type": "code",
   "execution_count": 169,
   "metadata": {},
   "outputs": [
    {
     "data": {
      "text/plain": [
       "RandomForestClassifier(bootstrap=True, class_weight=None, criterion='gini',\n",
       "            max_depth=None, max_features='auto', max_leaf_nodes=None,\n",
       "            min_impurity_decrease=0.0, min_impurity_split=None,\n",
       "            min_samples_leaf=1, min_samples_split=2,\n",
       "            min_weight_fraction_leaf=0.0, n_estimators=10, n_jobs=None,\n",
       "            oob_score=False, random_state=19, verbose=0, warm_start=False)"
      ]
     },
     "execution_count": 169,
     "metadata": {},
     "output_type": "execute_result"
    }
   ],
   "source": [
    "rf = RandomForestClassifier(random_state=19)\n",
    "rf.fit(X_train, y_train)"
   ]
  },
  {
   "cell_type": "code",
   "execution_count": 170,
   "metadata": {},
   "outputs": [],
   "source": [
    "y_preds = rf.predict(X_test)"
   ]
  },
  {
   "cell_type": "code",
   "execution_count": 171,
   "metadata": {},
   "outputs": [
    {
     "data": {
      "text/plain": [
       "0.7984511784511784"
      ]
     },
     "execution_count": 171,
     "metadata": {},
     "output_type": "execute_result"
    }
   ],
   "source": [
    "accuracy_score(y_test, y_preds)"
   ]
  },
  {
   "cell_type": "code",
   "execution_count": 172,
   "metadata": {},
   "outputs": [
    {
     "name": "stdout",
     "output_type": "stream",
     "text": [
      "[[5245 1493]\n",
      " [1500 6612]]\n",
      "              precision    recall  f1-score   support\n",
      "\n",
      "           0       0.78      0.78      0.78      6738\n",
      "           1       0.82      0.82      0.82      8112\n",
      "\n",
      "   micro avg       0.80      0.80      0.80     14850\n",
      "   macro avg       0.80      0.80      0.80     14850\n",
      "weighted avg       0.80      0.80      0.80     14850\n",
      "\n"
     ]
    }
   ],
   "source": [
    "print(confusion_matrix(y_test, y_preds))\n",
    "print(classification_report(y_test, y_preds))"
   ]
  },
  {
   "cell_type": "markdown",
   "metadata": {},
   "source": [
    "#### Visualize Feature Importance <a id='feature_importance'></a>"
   ]
  },
  {
   "cell_type": "code",
   "execution_count": 173,
   "metadata": {},
   "outputs": [
    {
     "data": {
      "image/png": "[encoded data removed]",
      "text/plain": [
       "<Figure size 864x864 with 1 Axes>"
      ]
     },
     "metadata": {
      "needs_background": "light"
     },
     "output_type": "display_data"
    }
   ],
   "source": [
    "plot_feature_importances(rf)"
   ]
  },
  {
   "cell_type": "markdown",
   "metadata": {},
   "source": [
    "#### Visualize different hyperparameter values for a Random Forest Classifier and their effect on roc_auc"
   ]
  },
  {
   "cell_type": "code",
   "execution_count": 174,
   "metadata": {},
   "outputs": [
    {
     "data": {
      "image/png": "[encoded data removed]",
      "text/plain": [
       "<Figure size 720x576 with 1 Axes>"
      ]
     },
     "metadata": {
      "needs_background": "light"
     },
     "output_type": "display_data"
    }
   ],
   "source": [
    "# Visualize effect of different max_depths on AUC scores\n",
    "\n",
    "max_depths = np.linspace(1,32,32,endpoint=True)\n",
    "train_auc = []\n",
    "test_auc = []\n",
    "\n",
    "for depth in max_depths:\n",
    "    \n",
    "    rf = RandomForestClassifier(max_depth=depth)\n",
    "    rf.fit(X_train, y_train)\n",
    "    train_pred = rf.predict(X_train)\n",
    "    fpr, tpr, thresh = roc_curve(y_train, train_pred)\n",
    "    roc_auc = auc(fpr, tpr)\n",
    "    train_auc.append(roc_auc)\n",
    "    \n",
    "    test_pred = rf.predict(X_test)\n",
    "    fpr, tpr, thresh = roc_curve(y_test, test_pred)\n",
    "    roc_auc = auc(fpr, tpr)\n",
    "    test_auc.append(roc_auc)\n",
    "\n",
    "plt.figure(figsize=(10,8))\n",
    "plt.plot(max_depths, train_auc, color='purple', label='Train AUC')\n",
    "plt.plot(max_depths, test_auc, color='orange', label='Test AUC')\n",
    "plt.xlabel('Tree Depth')\n",
    "plt.ylabel('AUC Scores')\n",
    "plt.legend(loc='best')\n",
    "plt.show();"
   ]
  },
  {
   "cell_type": "code",
   "execution_count": 175,
   "metadata": {},
   "outputs": [
    {
     "data": {
      "image/png": "[encoded data removed]",
      "text/plain": [
       "<Figure size 720x576 with 1 Axes>"
      ]
     },
     "metadata": {
      "needs_background": "light"
     },
     "output_type": "display_data"
    }
   ],
   "source": [
    "# Visualize effect of different min_samples_leaf on AUC scores\n",
    "\n",
    "min_samples_leafs = np.linspace(0.1, 0.5, 5, endpoint=True)\n",
    "train_auc = []\n",
    "test_auc = []\n",
    "\n",
    "for leaf in min_samples_leafs:\n",
    "    \n",
    "    rf = RandomForestClassifier(min_samples_leaf=leaf)\n",
    "    rf.fit(X_train, y_train)\n",
    "    train_pred = rf.predict(X_train)\n",
    "    fpr, tpr, thresh = roc_curve(y_train, train_pred)\n",
    "    roc_auc = auc(fpr, tpr)\n",
    "    train_auc.append(roc_auc)\n",
    "    \n",
    "    test_pred = rf.predict(X_test)\n",
    "    fpr, tpr, thresh = roc_curve(y_test, test_pred)\n",
    "    roc_auc = auc(fpr, tpr)\n",
    "    test_auc.append(roc_auc)\n",
    "\n",
    "plt.figure(figsize=(10,8))\n",
    "plt.plot(min_samples_leafs, train_auc, color='purple', label='Train AUC')\n",
    "plt.plot(min_samples_leafs, test_auc, color='orange', label='Test AUC')\n",
    "plt.xlabel('Min Samples Leafs')\n",
    "plt.ylabel('AUC Scores')\n",
    "plt.legend(loc='best')\n",
    "plt.show();"
   ]
  },
  {
   "cell_type": "code",
   "execution_count": 176,
   "metadata": {},
   "outputs": [],
   "source": [
    "# Will use values around 0.1 for min_samples_leaf in GridSearch"
   ]
  },
  {
   "cell_type": "code",
   "execution_count": 177,
   "metadata": {},
   "outputs": [
    {
     "data": {
      "image/png": "[encoded data removed]",
      "text/plain": [
       "<Figure size 720x576 with 1 Axes>"
      ]
     },
     "metadata": {
      "needs_background": "light"
     },
     "output_type": "display_data"
    }
   ],
   "source": [
    "# Visualize AUC scores for different values of min_sample_splits\n",
    "\n",
    "min_sample_splits = np.linspace(0.1, 1, 10, endpoint=True)\n",
    "train_auc = []\n",
    "test_auc = []\n",
    "\n",
    "for split in min_sample_splits:\n",
    "    \n",
    "    rf = RandomForestClassifier(min_samples_split=split)\n",
    "    rf.fit(X_train, y_train)\n",
    "    train_pred = rf.predict(X_train)\n",
    "    fpr, tpr, thresh = roc_curve(y_train, train_pred)\n",
    "    roc_auc = auc(fpr, tpr)\n",
    "    train_auc.append(roc_auc)\n",
    "    \n",
    "    test_pred = rf.predict(X_test)\n",
    "    fpr, tpr, thresh = roc_curve(y_test, test_pred)\n",
    "    roc_auc = auc(fpr, tpr)\n",
    "    test_auc.append(roc_auc)\n",
    "\n",
    "plt.figure(figsize=(10,8))\n",
    "plt.plot(min_sample_splits, train_auc, color='purple', label='Train AUC')\n",
    "plt.plot(min_sample_splits, test_auc, color='orange', label='Test AUC')\n",
    "plt.xlabel('Min Sample Splits')\n",
    "plt.ylabel('AUC Scores')\n",
    "plt.legend(loc='best')\n",
    "plt.show();"
   ]
  },
  {
   "cell_type": "code",
   "execution_count": 178,
   "metadata": {},
   "outputs": [],
   "source": [
    "# Similar to min_samples_leaf, the smallest values lead to greater AUC scores"
   ]
  },
  {
   "cell_type": "markdown",
   "metadata": {},
   "source": [
    "### GridSearch <a id='grid_search'></a>\n",
    "#### Optimize for f1_score - it is preferable to find a well that has been classified as 'needs repair' to actually be functioning, than to overlook a well that needs repair and has been classified as 'functioning.' The f1_score finds the balance between recall and precision.\n",
    "<a href='#top'>Back to Top</a>"
   ]
  },
  {
   "cell_type": "markdown",
   "metadata": {},
   "source": [
    "#### Random Forest <a id='random_forest'></a>"
   ]
  },
  {
   "cell_type": "code",
   "execution_count": 179,
   "metadata": {},
   "outputs": [
    {
     "data": {
      "text/plain": [
       "RandomForestClassifier(bootstrap=True, class_weight=None, criterion='gini',\n",
       "            max_depth=None, max_features='auto', max_leaf_nodes=None,\n",
       "            min_impurity_decrease=0.0, min_impurity_split=None,\n",
       "            min_samples_leaf=0.1, min_samples_split=0.1,\n",
       "            min_weight_fraction_leaf=0.0, n_estimators=10, n_jobs=None,\n",
       "            oob_score=False, random_state=19, verbose=0, warm_start=False)"
      ]
     },
     "execution_count": 179,
     "metadata": {},
     "output_type": "execute_result"
    }
   ],
   "source": [
    "# New RandomForestClassifier using some of the values from above plots\n",
    "\n",
    "rf = RandomForestClassifier(min_samples_split=0.1, min_samples_leaf=0.1, random_state=19)\n",
    "rf.fit(X_train, y_train)"
   ]
  },
  {
   "cell_type": "code",
   "execution_count": 180,
   "metadata": {},
   "outputs": [
    {
     "name": "stdout",
     "output_type": "stream",
     "text": [
      "[[3290 3448]\n",
      " [1833 6279]]\n",
      "              precision    recall  f1-score   support\n",
      "\n",
      "           0       0.64      0.49      0.55      6738\n",
      "           1       0.65      0.77      0.70      8112\n",
      "\n",
      "   micro avg       0.64      0.64      0.64     14850\n",
      "   macro avg       0.64      0.63      0.63     14850\n",
      "weighted avg       0.64      0.64      0.64     14850\n",
      "\n",
      "0.7039632266382644\n"
     ]
    }
   ],
   "source": [
    "y_preds = rf.predict(X_test)\n",
    "print(confusion_matrix(y_test, y_preds))\n",
    "print(classification_report(y_test, y_preds))\n",
    "print(f1_score(y_test, y_preds))"
   ]
  },
  {
   "cell_type": "code",
   "execution_count": 181,
   "metadata": {},
   "outputs": [
    {
     "name": "stdout",
     "output_type": "stream",
     "text": [
      "GridSearch will search through 1050 different permutations.\n"
     ]
    }
   ],
   "source": [
    "rf_param_grid = {\n",
    "    'n_estimators': [5, 10, 15, 20, 35, 50, 100],\n",
    "    'criterion': ['gini', 'entropy'],\n",
    "    'max_depth': [None, 5, 10, 15],\n",
    "    'min_samples_split': [0.1, 0.2, 0.3, 0.4, 0.5],\n",
    "    'min_samples_leaf': [0.1, 0.2, 0.3, 0.4, 0.5]\n",
    "}\n",
    "\n",
    "score = {\n",
    "    'f1_score': make_scorer(f1_score)\n",
    "}\n",
    "\n",
    "num_perm = 7 * 2 * 3 * 5 * 5\n",
    "print(f'GridSearch will search through {num_perm} different permutations.')"
   ]
  },
  {
   "cell_type": "code",
   "execution_count": 182,
   "metadata": {},
   "outputs": [],
   "source": [
    "# start_time = time.time()\n",
    "\n",
    "# rf_grid_search = GridSearchCV(rf, rf_param_grid, scoring=score, cv=3, refit='f1_score')\n",
    "# rf_grid_search.fit(standard_df, y)\n",
    "\n",
    "# print(f'Best Score: {rf_grid_search.best_score_ * 100}%')\n",
    "# print(f'Total Runtime: {time.time() - start_time} seconds')\n",
    "# print('')\n",
    "# print(f'Optimal Parameters: {rf_grid_search.best_params_}')"
   ]
  },
  {
   "cell_type": "markdown",
   "metadata": {},
   "source": [
    "#### Results of Random Forest GridSearch\n",
    "* Best Score: 72.92120792320065%\n",
    "* Total Runtime: 989.1183979511261 seconds\n",
    "* Optimal Parameters: {'criterion': 'gini', 'max_depth': None, 'min_samples_leaf': 0.1, 'min_samples_split': 0.1, 'n_estimators': 100}\n",
    "* The parameters that are different from default: min_samples_leaf, min_samples_split, n_estimators"
   ]
  },
  {
   "cell_type": "code",
   "execution_count": 183,
   "metadata": {},
   "outputs": [
    {
     "data": {
      "text/plain": [
       "RandomForestClassifier(bootstrap=True, class_weight=None, criterion='gini',\n",
       "            max_depth=None, max_features='auto', max_leaf_nodes=None,\n",
       "            min_impurity_decrease=0.0, min_impurity_split=None,\n",
       "            min_samples_leaf=0.1, min_samples_split=0.1,\n",
       "            min_weight_fraction_leaf=0.0, n_estimators=100, n_jobs=None,\n",
       "            oob_score=False, random_state=19, verbose=0, warm_start=False)"
      ]
     },
     "execution_count": 183,
     "metadata": {},
     "output_type": "execute_result"
    }
   ],
   "source": [
    "optimal_rf = RandomForestClassifier(min_samples_leaf=0.1, min_samples_split=0.1, n_estimators=100, random_state=19)\n",
    "optimal_rf.fit(X_train, y_train)"
   ]
  },
  {
   "cell_type": "code",
   "execution_count": 184,
   "metadata": {},
   "outputs": [
    {
     "name": "stdout",
     "output_type": "stream",
     "text": [
      "[[2617 4121]\n",
      " [1062 7050]]\n",
      "              precision    recall  f1-score   support\n",
      "\n",
      "           0       0.71      0.39      0.50      6738\n",
      "           1       0.63      0.87      0.73      8112\n",
      "\n",
      "   micro avg       0.65      0.65      0.65     14850\n",
      "   macro avg       0.67      0.63      0.62     14850\n",
      "weighted avg       0.67      0.65      0.63     14850\n",
      "\n",
      "Overall F1 Score: 0.7312140227143079\n"
     ]
    }
   ],
   "source": [
    "rf_y_preds = optimal_rf.predict(X_test)\n",
    "print(confusion_matrix(y_test, rf_y_preds))\n",
    "print(classification_report(y_test, rf_y_preds))\n",
    "print(f'Overall F1 Score: {f1_score(y_test, rf_y_preds)}')"
   ]
  },
  {
   "cell_type": "markdown",
   "metadata": {},
   "source": [
    "#### Using GridSearch to optimize the Random Forest Classifier only midly improved its performance, so another model may work better with this data."
   ]
  },
  {
   "cell_type": "code",
   "execution_count": 185,
   "metadata": {},
   "outputs": [
    {
     "data": {
      "image/png": "[encoded data removed]",
      "text/plain": [
       "<Figure size 864x864 with 1 Axes>"
      ]
     },
     "metadata": {
      "needs_background": "light"
     },
     "output_type": "display_data"
    }
   ],
   "source": [
    "plot_feature_importances(optimal_rf)"
   ]
  },
  {
   "cell_type": "markdown",
   "metadata": {},
   "source": [
    "#### AdaBoost Classifier <a id='ada_boost'></a>"
   ]
  },
  {
   "cell_type": "code",
   "execution_count": 186,
   "metadata": {},
   "outputs": [
    {
     "data": {
      "text/plain": [
       "AdaBoostClassifier(algorithm='SAMME.R', base_estimator=None,\n",
       "          learning_rate=1.0, n_estimators=50, random_state=19)"
      ]
     },
     "execution_count": 186,
     "metadata": {},
     "output_type": "execute_result"
    }
   ],
   "source": [
    "# evaluate vanilla model first to compare to other models\n",
    "ada_clf = AdaBoostClassifier(random_state=19)\n",
    "ada_clf.fit(X_train, y_train)"
   ]
  },
  {
   "cell_type": "code",
   "execution_count": 187,
   "metadata": {},
   "outputs": [
    {
     "name": "stdout",
     "output_type": "stream",
     "text": [
      "[[3808 2930]\n",
      " [1024 7088]]\n",
      "              precision    recall  f1-score   support\n",
      "\n",
      "           0       0.79      0.57      0.66      6738\n",
      "           1       0.71      0.87      0.78      8112\n",
      "\n",
      "   micro avg       0.73      0.73      0.73     14850\n",
      "   macro avg       0.75      0.72      0.72     14850\n",
      "weighted avg       0.74      0.73      0.73     14850\n",
      "\n",
      "F1 Score: 0.7819084390512963\n"
     ]
    }
   ],
   "source": [
    "y_preds = ada_clf.predict(X_test)\n",
    "print(confusion_matrix(y_test, y_preds))\n",
    "print(classification_report(y_test, y_preds))\n",
    "print(f'F1 Score: {f1_score(y_test, y_preds)}')"
   ]
  },
  {
   "cell_type": "code",
   "execution_count": 188,
   "metadata": {},
   "outputs": [],
   "source": [
    "# the f1 score is already better than the tuned Random Forest Classifier"
   ]
  },
  {
   "cell_type": "markdown",
   "metadata": {},
   "source": [
    "#### GridSearch with AdaBoost"
   ]
  },
  {
   "cell_type": "code",
   "execution_count": 189,
   "metadata": {},
   "outputs": [
    {
     "name": "stdout",
     "output_type": "stream",
     "text": [
      "GridSearch will search through 16 permutations.\n"
     ]
    }
   ],
   "source": [
    "adaboost_param_grid = {\n",
    "    'n_estimators': [50, 75, 100, 200],\n",
    "    'learning_rate': [1.0, 0.5, 0.1, 0.3]\n",
    "}\n",
    "\n",
    "score = {\n",
    "    'f1_score': make_scorer(f1_score)\n",
    "}\n",
    "\n",
    "num_perm = 4 * 4\n",
    "print(f'GridSearch will search through {num_perm} permutations.')"
   ]
  },
  {
   "cell_type": "code",
   "execution_count": 190,
   "metadata": {},
   "outputs": [],
   "source": [
    "# ada_grid = GridSearchCV(ada_clf, adaboost_param_grid, scoring=score, cv=3, refit='f1_score')\n",
    "# ada_grid.fit(standard_df, y)\n",
    "\n",
    "# print(f'Best Score: {ada_grid.best_score_ * 100}%')\n",
    "# print(f'Optimal Parameters: {ada_grid.best_params_}')"
   ]
  },
  {
   "cell_type": "markdown",
   "metadata": {},
   "source": [
    "#### Results of AdaBoost GridSearch\n",
    "* Best Score: 77.96357929166862%\n",
    "* Optimal Parameters: {'learning_rate': 1.0, 'n_estimators': 200}\n",
    "* The parameters that are different from default: n_estimators"
   ]
  },
  {
   "cell_type": "code",
   "execution_count": 191,
   "metadata": {},
   "outputs": [
    {
     "data": {
      "text/plain": [
       "AdaBoostClassifier(algorithm='SAMME.R', base_estimator=None,\n",
       "          learning_rate=1.0, n_estimators=200, random_state=19)"
      ]
     },
     "execution_count": 191,
     "metadata": {},
     "output_type": "execute_result"
    }
   ],
   "source": [
    "optimal_ada = AdaBoostClassifier(n_estimators=200, random_state=19)\n",
    "optimal_ada.fit(X_train, y_train)"
   ]
  },
  {
   "cell_type": "code",
   "execution_count": 192,
   "metadata": {},
   "outputs": [
    {
     "name": "stdout",
     "output_type": "stream",
     "text": [
      "[[3987 2751]\n",
      " [1144 6968]]\n",
      "              precision    recall  f1-score   support\n",
      "\n",
      "           0       0.78      0.59      0.67      6738\n",
      "           1       0.72      0.86      0.78      8112\n",
      "\n",
      "   micro avg       0.74      0.74      0.74     14850\n",
      "   macro avg       0.75      0.73      0.73     14850\n",
      "weighted avg       0.74      0.74      0.73     14850\n",
      "\n",
      "F1 Score: 0.7819084390512963\n"
     ]
    }
   ],
   "source": [
    "ada_y_preds = optimal_ada.predict(X_test)\n",
    "print(confusion_matrix(y_test, ada_y_preds))\n",
    "print(classification_report(y_test, ada_y_preds))\n",
    "print(f'F1 Score: {f1_score(y_test, y_preds)}')"
   ]
  },
  {
   "cell_type": "code",
   "execution_count": 193,
   "metadata": {},
   "outputs": [
    {
     "data": {
      "text/plain": [
       "AdaBoostClassifier(algorithm='SAMME.R', base_estimator=None,\n",
       "          learning_rate=0.1, n_estimators=75, random_state=19)"
      ]
     },
     "execution_count": 193,
     "metadata": {},
     "output_type": "execute_result"
    }
   ],
   "source": [
    "# The scores do not seem much improved, so will try adjusting some parameters manually\n",
    "ada2 = AdaBoostClassifier(n_estimators=75, learning_rate=0.1, random_state=19)\n",
    "ada2.fit(X_train, y_train)"
   ]
  },
  {
   "cell_type": "code",
   "execution_count": 194,
   "metadata": {},
   "outputs": [
    {
     "name": "stdout",
     "output_type": "stream",
     "text": [
      "[[2773 3965]\n",
      " [ 371 7741]]\n",
      "              precision    recall  f1-score   support\n",
      "\n",
      "           0       0.88      0.41      0.56      6738\n",
      "           1       0.66      0.95      0.78      8112\n",
      "\n",
      "   micro avg       0.71      0.71      0.71     14850\n",
      "   macro avg       0.77      0.68      0.67     14850\n",
      "weighted avg       0.76      0.71      0.68     14850\n",
      "\n",
      "F1 Score: 0.7812090019174488\n"
     ]
    }
   ],
   "source": [
    "ada2_y_preds = ada2.predict(X_test)\n",
    "print(confusion_matrix(y_test, ada2_y_preds))\n",
    "print(classification_report(y_test, ada2_y_preds))\n",
    "print(f'F1 Score: {f1_score(y_test, ada2_y_preds)}')"
   ]
  },
  {
   "cell_type": "markdown",
   "metadata": {},
   "source": [
    "#### Decision Tree <a id='decision_tree'></a>"
   ]
  },
  {
   "cell_type": "code",
   "execution_count": 195,
   "metadata": {},
   "outputs": [
    {
     "data": {
      "text/plain": [
       "DecisionTreeClassifier(class_weight=None, criterion='gini', max_depth=None,\n",
       "            max_features=None, max_leaf_nodes=None,\n",
       "            min_impurity_decrease=0.0, min_impurity_split=None,\n",
       "            min_samples_leaf=1, min_samples_split=2,\n",
       "            min_weight_fraction_leaf=0.0, presort=False, random_state=19,\n",
       "            splitter='best')"
      ]
     },
     "execution_count": 195,
     "metadata": {},
     "output_type": "execute_result"
    }
   ],
   "source": [
    "dt = DecisionTreeClassifier(random_state=19)\n",
    "dt.fit(X_train, y_train)"
   ]
  },
  {
   "cell_type": "code",
   "execution_count": 196,
   "metadata": {},
   "outputs": [
    {
     "name": "stdout",
     "output_type": "stream",
     "text": [
      "[[5010 1728]\n",
      " [1688 6424]]\n",
      "              precision    recall  f1-score   support\n",
      "\n",
      "           0       0.75      0.74      0.75      6738\n",
      "           1       0.79      0.79      0.79      8112\n",
      "\n",
      "   micro avg       0.77      0.77      0.77     14850\n",
      "   macro avg       0.77      0.77      0.77     14850\n",
      "weighted avg       0.77      0.77      0.77     14850\n",
      "\n"
     ]
    }
   ],
   "source": [
    "y_preds = dt.predict(X_test)\n",
    "print(confusion_matrix(y_test, y_preds))\n",
    "print(classification_report(y_test, y_preds))"
   ]
  },
  {
   "cell_type": "markdown",
   "metadata": {},
   "source": [
    "#### Decision Tree GridSearch"
   ]
  },
  {
   "cell_type": "code",
   "execution_count": 197,
   "metadata": {},
   "outputs": [
    {
     "name": "stdout",
     "output_type": "stream",
     "text": [
      "GridSearch will search through 120 permutations.\n"
     ]
    }
   ],
   "source": [
    "dt_param_grid = {\n",
    "    'criterion': ['gini', 'entropy'],\n",
    "    'max_depth': [None, 2, 4, 6],\n",
    "    'min_samples_leaf': [1, 2, 3, 4, 5],\n",
    "    'min_samples_split': [2, 5, 10]\n",
    "}\n",
    "\n",
    "score = {\n",
    "    'f1_score': make_scorer(f1_score)\n",
    "}\n",
    "\n",
    "num_perm = 2 * 4 * 5 * 3\n",
    "print(f'GridSearch will search through {num_perm} permutations.')"
   ]
  },
  {
   "cell_type": "code",
   "execution_count": 198,
   "metadata": {},
   "outputs": [],
   "source": [
    "# dt_grid = GridSearchCV(dt, dt_param_grid, scoring=score, cv=3, refit='f1_score')\n",
    "# dt_grid.fit(standard_df, y)\n",
    "\n",
    "# print(f'Best Score: {dt_grid.best_score_ * 100}%')\n",
    "# print(f'Optimal Parameters: {dt_grid.best_params_}')"
   ]
  },
  {
   "cell_type": "markdown",
   "metadata": {},
   "source": [
    "#### Results of Decision Tree GridSearch\n",
    "* Best Score: 78.58394864274221%\n",
    "* Optimal Parameters: {'criterion': 'entropy', 'max_depth': None, 'min_samples_leaf': 5, 'min_samples_split': 2}\n",
    "* The parameters that are different from default: criterion, min_samples_leaf, min_samples_split"
   ]
  },
  {
   "cell_type": "code",
   "execution_count": 199,
   "metadata": {},
   "outputs": [
    {
     "data": {
      "text/plain": [
       "DecisionTreeClassifier(class_weight=None, criterion='entropy', max_depth=None,\n",
       "            max_features=None, max_leaf_nodes=None,\n",
       "            min_impurity_decrease=0.0, min_impurity_split=None,\n",
       "            min_samples_leaf=5, min_samples_split=2,\n",
       "            min_weight_fraction_leaf=0.0, presort=False, random_state=19,\n",
       "            splitter='best')"
      ]
     },
     "execution_count": 199,
     "metadata": {},
     "output_type": "execute_result"
    }
   ],
   "source": [
    "optimal_dt = DecisionTreeClassifier(random_state=19, criterion='entropy', min_samples_leaf=5, min_samples_split=2)\n",
    "optimal_dt.fit(X_train, y_train)"
   ]
  },
  {
   "cell_type": "code",
   "execution_count": 200,
   "metadata": {},
   "outputs": [
    {
     "name": "stdout",
     "output_type": "stream",
     "text": [
      "[[5048 1690]\n",
      " [1708 6404]]\n",
      "              precision    recall  f1-score   support\n",
      "\n",
      "           0       0.75      0.75      0.75      6738\n",
      "           1       0.79      0.79      0.79      8112\n",
      "\n",
      "   micro avg       0.77      0.77      0.77     14850\n",
      "   macro avg       0.77      0.77      0.77     14850\n",
      "weighted avg       0.77      0.77      0.77     14850\n",
      "\n",
      "F1 Score: 0.790324571146489\n"
     ]
    }
   ],
   "source": [
    "dt_y_preds = optimal_dt.predict(X_test)\n",
    "print(confusion_matrix(y_test, dt_y_preds))\n",
    "print(classification_report(y_test, dt_y_preds))\n",
    "print(f'F1 Score: {f1_score(y_test, dt_y_preds)}')"
   ]
  },
  {
   "cell_type": "code",
   "execution_count": 201,
   "metadata": {},
   "outputs": [
    {
     "data": {
      "text/plain": [
       "DecisionTreeClassifier(class_weight=None, criterion='entropy', max_depth=None,\n",
       "            max_features=None, max_leaf_nodes=None,\n",
       "            min_impurity_decrease=0.0, min_impurity_split=None,\n",
       "            min_samples_leaf=1, min_samples_split=2,\n",
       "            min_weight_fraction_leaf=0.0, presort=False, random_state=19,\n",
       "            splitter='best')"
      ]
     },
     "execution_count": 201,
     "metadata": {},
     "output_type": "execute_result"
    }
   ],
   "source": [
    "dt2 = DecisionTreeClassifier(criterion='entropy', random_state=19)\n",
    "dt2.fit(X_train, y_train)"
   ]
  },
  {
   "cell_type": "code",
   "execution_count": 202,
   "metadata": {},
   "outputs": [
    {
     "name": "stdout",
     "output_type": "stream",
     "text": [
      "[[5045 1693]\n",
      " [1695 6417]]\n",
      "              precision    recall  f1-score   support\n",
      "\n",
      "           0       0.75      0.75      0.75      6738\n",
      "           1       0.79      0.79      0.79      8112\n",
      "\n",
      "   micro avg       0.77      0.77      0.77     14850\n",
      "   macro avg       0.77      0.77      0.77     14850\n",
      "weighted avg       0.77      0.77      0.77     14850\n",
      "\n",
      "F1 Score: 0.7911478239427937\n"
     ]
    }
   ],
   "source": [
    "dt2_y_preds = dt2.predict(X_test)\n",
    "print(confusion_matrix(y_test, dt2_y_preds))\n",
    "print(classification_report(y_test, dt2_y_preds))\n",
    "print(f'F1 Score: {f1_score(y_test, dt2_y_preds)}')"
   ]
  },
  {
   "cell_type": "markdown",
   "metadata": {},
   "source": [
    "#### Compare all Models <a id='compare_models'></a>"
   ]
  },
  {
   "cell_type": "code",
   "execution_count": 203,
   "metadata": {},
   "outputs": [],
   "source": [
    "rf_train_preds = optimal_rf.predict(X_train)\n",
    "ada_train_preds = optimal_ada.predict(X_train)\n",
    "dt_train_preds = optimal_dt.predict(X_train)"
   ]
  },
  {
   "cell_type": "code",
   "execution_count": 204,
   "metadata": {},
   "outputs": [
    {
     "name": "stdout",
     "output_type": "stream",
     "text": [
      "Confusion Matrix for Random Forest Classifier\n",
      "[[2617 4121]\n",
      " [1062 7050]]\n",
      "Scores for Random Forest Classifier\n",
      "              precision    recall  f1-score   support\n",
      "\n",
      "           0       0.71      0.39      0.50      6738\n",
      "           1       0.63      0.87      0.73      8112\n",
      "\n",
      "   micro avg       0.65      0.65      0.65     14850\n",
      "   macro avg       0.67      0.63      0.62     14850\n",
      "weighted avg       0.67      0.65      0.63     14850\n",
      "\n",
      "Random Forest F1 Score: 0.7312140227143079\n",
      "*******************************************************\n",
      "Confusion Matrix for AdaBoost Classifier\n",
      "[[3987 2751]\n",
      " [1144 6968]]\n",
      "Scores for AdaBoost Classifier\n",
      "              precision    recall  f1-score   support\n",
      "\n",
      "           0       0.78      0.59      0.67      6738\n",
      "           1       0.72      0.86      0.78      8112\n",
      "\n",
      "   micro avg       0.74      0.74      0.74     14850\n",
      "   macro avg       0.75      0.73      0.73     14850\n",
      "weighted avg       0.74      0.74      0.73     14850\n",
      "\n",
      "AdaBoost F1 Score: 0.7815602041388593\n",
      "*******************************************************\n",
      "Confusion Matrix for Decision Tree Classifier\n",
      "[[5048 1690]\n",
      " [1708 6404]]\n",
      "Scores for Decision Tree Classifier\n",
      "              precision    recall  f1-score   support\n",
      "\n",
      "           0       0.75      0.75      0.75      6738\n",
      "           1       0.79      0.79      0.79      8112\n",
      "\n",
      "   micro avg       0.77      0.77      0.77     14850\n",
      "   macro avg       0.77      0.77      0.77     14850\n",
      "weighted avg       0.77      0.77      0.77     14850\n",
      "\n",
      "Decision Tree F1 Score: 0.790324571146489\n"
     ]
    }
   ],
   "source": [
    "print('Confusion Matrix for Random Forest Classifier')\n",
    "print(confusion_matrix(y_test, rf_y_preds))\n",
    "print('Scores for Random Forest Classifier')\n",
    "print(classification_report(y_test, rf_y_preds))\n",
    "print(f'Random Forest F1 Score: {f1_score(y_test, rf_y_preds)}')\n",
    "print('*'*55)\n",
    "print('Confusion Matrix for AdaBoost Classifier')\n",
    "print(confusion_matrix(y_test, ada_y_preds))\n",
    "print('Scores for AdaBoost Classifier')\n",
    "print(classification_report(y_test, ada_y_preds))\n",
    "print(f'AdaBoost F1 Score: {f1_score(y_test, ada_y_preds)}')\n",
    "print('*'*55)\n",
    "print('Confusion Matrix for Decision Tree Classifier')\n",
    "print(confusion_matrix(y_test, dt_y_preds))\n",
    "print('Scores for Decision Tree Classifier')\n",
    "print(classification_report(y_test, dt_y_preds))\n",
    "print(f'Decision Tree F1 Score: {f1_score(y_test, dt_y_preds)}')"
   ]
  },
  {
   "cell_type": "code",
   "execution_count": 205,
   "metadata": {},
   "outputs": [
    {
     "name": "stdout",
     "output_type": "stream",
     "text": [
      "DT Training F1 Score: 0.9015739074683046\n",
      "Ada Training F1 Score: 0.7774464014405491\n",
      "RF Training F1 Score: 0.727913109861892\n"
     ]
    }
   ],
   "source": [
    "print(f'DT Training F1 Score: {f1_score(y_train, dt_train_preds)}')\n",
    "print(f'Ada Training F1 Score: {f1_score(y_train, ada_train_preds)}')\n",
    "print(f'RF Training F1 Score: {f1_score(y_train, rf_train_preds)}')"
   ]
  },
  {
   "cell_type": "code",
   "execution_count": 206,
   "metadata": {},
   "outputs": [
    {
     "name": "stdout",
     "output_type": "stream",
     "text": [
      "DT Training Accuracy Score: 0.8931762065095399\n",
      "DT Testing Accuracy Score: 0.7711784511784512\n",
      "\n",
      "RF Training Accuracy Score: 0.6479910213243547\n",
      "RF Testing Accuracy Score: 0.650976430976431\n",
      "\n",
      "Ada Training Accuracy Score: 0.7336700336700337\n",
      "Ada Testing Accuracy Score: 0.7377104377104378\n"
     ]
    }
   ],
   "source": [
    "print(f'DT Training Accuracy Score: {accuracy_score(y_train, dt_train_preds)}')\n",
    "print(f'DT Testing Accuracy Score: {accuracy_score(y_test, dt_y_preds)}')\n",
    "print('')\n",
    "print(f'RF Training Accuracy Score: {accuracy_score(y_train, rf_train_preds)}')\n",
    "print(f'RF Testing Accuracy Score: {accuracy_score(y_test, rf_y_preds)}')\n",
    "print('')\n",
    "print(f'Ada Training Accuracy Score: {accuracy_score(y_train, ada_train_preds)}')\n",
    "print(f'Ada Testing Accuracy Score: {accuracy_score(y_test, ada_y_preds)}')"
   ]
  },
  {
   "cell_type": "markdown",
   "metadata": {},
   "source": [
    "#### Refit Decision Tree Classifier <a id='refit_dt'></a>\n",
    "Much higher training scores for the Decision Tree Model indicate overfitting"
   ]
  },
  {
   "cell_type": "code",
   "execution_count": 207,
   "metadata": {},
   "outputs": [
    {
     "data": {
      "text/plain": [
       "DecisionTreeClassifier(class_weight=None, criterion='gini', max_depth=None,\n",
       "            max_features=None, max_leaf_nodes=None,\n",
       "            min_impurity_decrease=0.0, min_impurity_split=None,\n",
       "            min_samples_leaf=1, min_samples_split=2,\n",
       "            min_weight_fraction_leaf=0.0, presort=False, random_state=42,\n",
       "            splitter='best')"
      ]
     },
     "execution_count": 207,
     "metadata": {},
     "output_type": "execute_result"
    }
   ],
   "source": [
    "dt_refit = DecisionTreeClassifier(random_state=42)\n",
    "dt_refit.fit(X_train, y_train)"
   ]
  },
  {
   "cell_type": "code",
   "execution_count": 208,
   "metadata": {},
   "outputs": [
    {
     "name": "stdout",
     "output_type": "stream",
     "text": [
      "GridSearch will search through 18 permutations.\n"
     ]
    }
   ],
   "source": [
    "dt_refit_param_grid = {\n",
    "    'criterion': ['gini', 'entropy'],\n",
    "    'min_samples_leaf': [1, 2, 3],\n",
    "    'min_samples_split': [2, 3, 4]\n",
    "}\n",
    "\n",
    "score = {\n",
    "    'f1_score': make_scorer(f1_score)\n",
    "}\n",
    "\n",
    "num_perm = 2 * 3 * 3\n",
    "print(f'GridSearch will search through {num_perm} permutations.')"
   ]
  },
  {
   "cell_type": "code",
   "execution_count": 209,
   "metadata": {},
   "outputs": [],
   "source": [
    "# dt_refit_grid = GridSearchCV(dt_refit, dt_refit_param_grid, cv=5, scoring=score, refit='f1_score')\n",
    "# dt_refit_grid.fit(standard_df, y)\n",
    "\n",
    "# print(f'Best Score: {dt_refit_grid.best_score_ * 100}%')\n",
    "# print(f'Optimal Parameters: {dt_refit_grid.best_params_}')"
   ]
  },
  {
   "cell_type": "markdown",
   "metadata": {},
   "source": [
    "#### Results of GridSearch\n",
    "* Best Score: 78.79607346512421%\n",
    "* Optimal Parameters: {'criterion': 'entropy', 'min_samples_leaf': 1, 'min_samples_split': 2}"
   ]
  },
  {
   "cell_type": "code",
   "execution_count": 210,
   "metadata": {},
   "outputs": [
    {
     "data": {
      "text/plain": [
       "DecisionTreeClassifier(class_weight=None, criterion='entropy', max_depth=None,\n",
       "            max_features=None, max_leaf_nodes=None,\n",
       "            min_impurity_decrease=0.0, min_impurity_split=None,\n",
       "            min_samples_leaf=1, min_samples_split=2,\n",
       "            min_weight_fraction_leaf=0.0, presort=False, random_state=42,\n",
       "            splitter='best')"
      ]
     },
     "execution_count": 210,
     "metadata": {},
     "output_type": "execute_result"
    }
   ],
   "source": [
    "dt_refit = DecisionTreeClassifier(criterion='entropy', min_samples_leaf=1, min_samples_split=2, random_state=42)\n",
    "dt_refit.fit(X_train, y_train)"
   ]
  },
  {
   "cell_type": "code",
   "execution_count": 211,
   "metadata": {},
   "outputs": [],
   "source": [
    "dt_refit_train_preds = dt_refit.predict(X_train)\n",
    "dt_refit_test_preds = dt_refit.predict(X_test)"
   ]
  },
  {
   "cell_type": "code",
   "execution_count": 212,
   "metadata": {},
   "outputs": [
    {
     "name": "stdout",
     "output_type": "stream",
     "text": [
      "Train Accuracy Score: 0.9922783389450056\n",
      "Test Accuracy Score: 0.7731986531986532\n"
     ]
    }
   ],
   "source": [
    "print(f'Train Accuracy Score: {accuracy_score(y_train, dt_refit_train_preds)}')\n",
    "print(f'Test Accuracy Score: {accuracy_score(y_test, dt_refit_test_preds)}')"
   ]
  },
  {
   "cell_type": "code",
   "execution_count": 213,
   "metadata": {},
   "outputs": [
    {
     "name": "stdout",
     "output_type": "stream",
     "text": [
      "Train F1 Score: 0.9929118931838787\n",
      "Test F1 Score: 0.7922013820335637\n"
     ]
    }
   ],
   "source": [
    "print(f'Train F1 Score: {f1_score(y_train, dt_refit_train_preds)}')\n",
    "print(f'Test F1 Score: {f1_score(y_test, dt_refit_test_preds)}')"
   ]
  },
  {
   "cell_type": "code",
   "execution_count": 214,
   "metadata": {},
   "outputs": [
    {
     "name": "stdout",
     "output_type": "stream",
     "text": [
      "              precision    recall  f1-score   support\n",
      "\n",
      "           0       1.00      0.99      0.99     20403\n",
      "           1       0.99      1.00      0.99     24147\n",
      "\n",
      "   micro avg       0.99      0.99      0.99     44550\n",
      "   macro avg       0.99      0.99      0.99     44550\n",
      "weighted avg       0.99      0.99      0.99     44550\n",
      "\n"
     ]
    }
   ],
   "source": [
    "print(classification_report(y_train, dt_refit_train_preds))"
   ]
  },
  {
   "cell_type": "markdown",
   "metadata": {},
   "source": [
    "#### With almost-perfect training scores, this poor Decision Tree suffers from overfitting and requires some pruning. Try pruning with focus on min_impurity_decrease."
   ]
  },
  {
   "cell_type": "code",
   "execution_count": 237,
   "metadata": {},
   "outputs": [
    {
     "data": {
      "text/plain": [
       "DecisionTreeClassifier(class_weight=None, criterion='gini', max_depth=None,\n",
       "            max_features=None, max_leaf_nodes=None,\n",
       "            min_impurity_decrease=5e-05, min_impurity_split=None,\n",
       "            min_samples_leaf=1, min_samples_split=2,\n",
       "            min_weight_fraction_leaf=0.0, presort=False, random_state=42,\n",
       "            splitter='best')"
      ]
     },
     "execution_count": 237,
     "metadata": {},
     "output_type": "execute_result"
    }
   ],
   "source": [
    "dt_refit2 = DecisionTreeClassifier(random_state=42, min_impurity_decrease=0.00005)\n",
    "dt_refit2.fit(X_train, y_train)"
   ]
  },
  {
   "cell_type": "code",
   "execution_count": 238,
   "metadata": {},
   "outputs": [],
   "source": [
    "dt2_train_preds = dt_refit2.predict(X_train)\n",
    "dt2_test_preds = dt_refit2.predict(X_test)"
   ]
  },
  {
   "cell_type": "code",
   "execution_count": 239,
   "metadata": {},
   "outputs": [
    {
     "name": "stdout",
     "output_type": "stream",
     "text": [
      "DT2 train accuracy: 0.8463524130190797\n",
      "DT2 test accuracy: 0.7882828282828283\n"
     ]
    }
   ],
   "source": [
    "print(f'DT2 train accuracy: {accuracy_score(y_train, dt2_train_preds)}')\n",
    "print(f'DT2 test accuracy: {accuracy_score(y_test, dt2_test_preds)}')"
   ]
  },
  {
   "cell_type": "code",
   "execution_count": 240,
   "metadata": {},
   "outputs": [
    {
     "name": "stdout",
     "output_type": "stream",
     "text": [
      "DT2 train F1: 0.8632504245330137\n",
      "DT2 test F1: 0.8130574384587941\n"
     ]
    }
   ],
   "source": [
    "print(f'DT2 train F1: {f1_score(y_train, dt2_train_preds)}')\n",
    "print(f'DT2 test F1: {f1_score(y_test, dt2_test_preds)}')"
   ]
  },
  {
   "cell_type": "code",
   "execution_count": 241,
   "metadata": {},
   "outputs": [
    {
     "name": "stdout",
     "output_type": "stream",
     "text": [
      "DT2 train classification report:               precision    recall  f1-score   support\n",
      "\n",
      "           0       0.86      0.79      0.82     20403\n",
      "           1       0.83      0.89      0.86     24147\n",
      "\n",
      "   micro avg       0.85      0.85      0.85     44550\n",
      "   macro avg       0.85      0.84      0.84     44550\n",
      "weighted avg       0.85      0.85      0.85     44550\n",
      "\n",
      "DT2 test classification_report:               precision    recall  f1-score   support\n",
      "\n",
      "           0       0.79      0.72      0.76      6738\n",
      "           1       0.79      0.84      0.81      8112\n",
      "\n",
      "   micro avg       0.79      0.79      0.79     14850\n",
      "   macro avg       0.79      0.78      0.78     14850\n",
      "weighted avg       0.79      0.79      0.79     14850\n",
      "\n"
     ]
    }
   ],
   "source": [
    "print(f'DT2 train classification report: {classification_report(y_train, dt2_train_preds)}')\n",
    "print(f'DT2 test classification_report: {classification_report(y_test, dt2_test_preds)}')"
   ]
  },
  {
   "cell_type": "code",
   "execution_count": 243,
   "metadata": {},
   "outputs": [],
   "source": [
    "# dot_data = StringIO()\n",
    "# export_graphviz(dt_refit2, out_file=dot_data, filled=True, rounded=True, special_characters=True)\n",
    "# graph = pydotplus.graph_from_dot_data(dot_data.getvalue())\n",
    "# Image(graph.create_png())"
   ]
  },
  {
   "cell_type": "markdown",
   "metadata": {},
   "source": [
    "#### The difficulty in fitting a Decision Tree without overfitting is shown as scores increase, the disparity between training and testing scores also increases. Try fitting a Random Forest model with similar min_impurity_decrease values."
   ]
  },
  {
   "cell_type": "code",
   "execution_count": 305,
   "metadata": {},
   "outputs": [
    {
     "data": {
      "text/plain": [
       "RandomForestClassifier(bootstrap=True, class_weight=None, criterion='gini',\n",
       "            max_depth=None, max_features='auto', max_leaf_nodes=None,\n",
       "            min_impurity_decrease=9e-06, min_impurity_split=None,\n",
       "            min_samples_leaf=1, min_samples_split=2,\n",
       "            min_weight_fraction_leaf=0.0, n_estimators=10, n_jobs=None,\n",
       "            oob_score=False, random_state=42, verbose=0, warm_start=False)"
      ]
     },
     "execution_count": 305,
     "metadata": {},
     "output_type": "execute_result"
    }
   ],
   "source": [
    "rf2 = RandomForestClassifier(random_state=42, min_impurity_decrease=0.000009)\n",
    "rf2.fit(X_train, y_train)"
   ]
  },
  {
   "cell_type": "code",
   "execution_count": 306,
   "metadata": {},
   "outputs": [],
   "source": [
    "rf2_train_preds = rf2.predict(X_train)\n",
    "rf2_test_preds = rf2.predict(X_test)"
   ]
  },
  {
   "cell_type": "code",
   "execution_count": 307,
   "metadata": {},
   "outputs": [
    {
     "name": "stdout",
     "output_type": "stream",
     "text": [
      "RF2 train accuracy: 0.8830527497194164\n",
      "RF2 test accuracy: 0.7999326599326599\n"
     ]
    }
   ],
   "source": [
    "print(f'RF2 train accuracy: {accuracy_score(y_train, rf2_train_preds)}')\n",
    "print(f'RF2 test accuracy: {accuracy_score(y_test, rf2_test_preds)}')"
   ]
  },
  {
   "cell_type": "code",
   "execution_count": 308,
   "metadata": {},
   "outputs": [
    {
     "name": "stdout",
     "output_type": "stream",
     "text": [
      "RF2 train F1: 0.8975095408584806\n",
      "RF2 test F1: 0.8263080970476467\n"
     ]
    }
   ],
   "source": [
    "print(f'RF2 train F1: {f1_score(y_train, rf2_train_preds)}')\n",
    "print(f'RF2 test F1: {f1_score(y_test, rf2_test_preds)}')"
   ]
  },
  {
   "cell_type": "code",
   "execution_count": 309,
   "metadata": {},
   "outputs": [
    {
     "name": "stdout",
     "output_type": "stream",
     "text": [
      "RF2 train classification:               precision    recall  f1-score   support\n",
      "\n",
      "           0       0.93      0.81      0.86     20403\n",
      "           1       0.85      0.94      0.90     24147\n",
      "\n",
      "   micro avg       0.88      0.88      0.88     44550\n",
      "   macro avg       0.89      0.88      0.88     44550\n",
      "weighted avg       0.89      0.88      0.88     44550\n",
      "\n",
      "RF2 test classification_report:               precision    recall  f1-score   support\n",
      "\n",
      "           0       0.82      0.71      0.76      6738\n",
      "           1       0.79      0.87      0.83      8112\n",
      "\n",
      "   micro avg       0.80      0.80      0.80     14850\n",
      "   macro avg       0.80      0.79      0.80     14850\n",
      "weighted avg       0.80      0.80      0.80     14850\n",
      "\n"
     ]
    }
   ],
   "source": [
    "print(f'RF2 train classification: {classification_report(y_train, rf2_train_preds)}')\n",
    "print(f'RF2 test classification_report: {classification_report(y_test, rf2_test_preds)}')"
   ]
  },
  {
   "cell_type": "markdown",
   "metadata": {},
   "source": [
    "## V. Verify Models with Random Sampling <a id='section_5'></a>\n",
    "<a href='#top'>Back to Top</a>"
   ]
  },
  {
   "cell_type": "markdown",
   "metadata": {},
   "source": [
    "## VI. Conclusions & Further Questions<a id='section_6'></a>\n",
    "<a href='#top'>Back to Top</a>"
   ]
  },
  {
   "cell_type": "markdown",
   "metadata": {},
   "source": [
    "### Questions for the Experts\n",
    "* Does the height of the well affect its performance or longevity?\n",
    "* Does the type of well (for example: hand pump vs. motor pump) affect its performance or longevity? Could a certain type have more 'wear and tear' based on how it is used?"
   ]
  },
  {
   "cell_type": "code",
   "execution_count": null,
   "metadata": {},
   "outputs": [],
   "source": []
  },
  {
   "cell_type": "code",
   "execution_count": null,
   "metadata": {},
   "outputs": [],
   "source": []
  },
  {
   "cell_type": "code",
   "execution_count": null,
   "metadata": {},
   "outputs": [],
   "source": []
  },
  {
   "cell_type": "code",
   "execution_count": null,
   "metadata": {},
   "outputs": [],
   "source": []
  },
  {
   "cell_type": "code",
   "execution_count": null,
   "metadata": {},
   "outputs": [],
   "source": []
  },
  {
   "cell_type": "code",
   "execution_count": null,
   "metadata": {},
   "outputs": [],
   "source": []
  },
  {
   "cell_type": "markdown",
   "metadata": {},
   "source": [
    "### Stuff I didn't use but may want the code for later. . . just in case"
   ]
  },
  {
   "cell_type": "code",
   "execution_count": 217,
   "metadata": {},
   "outputs": [
    {
     "data": {
      "image/png": "[encoded data removed]",
      "text/plain": [
       "<Figure size 720x576 with 1 Axes>"
      ]
     },
     "metadata": {
      "needs_background": "light"
     },
     "output_type": "display_data"
    }
   ],
   "source": [
    "# Compare AUC scores from 1 feature to all features\n",
    "\n",
    "max_features = list(range(1,X_train.shape[1]))\n",
    "train_auc = []\n",
    "test_auc = []\n",
    "\n",
    "for feature in max_features:\n",
    "    \n",
    "    rf = RandomForestClassifier(max_features=feature)\n",
    "    rf.fit(X_train, y_train)\n",
    "    train_pred = rf.predict(X_train)\n",
    "    fpr, tpr, thresh = roc_curve(y_train, train_pred)\n",
    "    roc_auc = auc(fpr, tpr)\n",
    "    train_auc.append(roc_auc)\n",
    "    \n",
    "    test_pred = rf.predict(X_test)\n",
    "    fpr, tpr, thresh = roc_curve(y_test, test_pred)\n",
    "    roc_auc = auc(fpr, tpr)\n",
    "    test_auc.append(roc_auc)\n",
    "\n",
    "plt.figure(figsize=(10,8))\n",
    "plt.plot(max_features, train_auc, color='purple', label='Train AUC')\n",
    "plt.plot(max_features, test_auc, color='orange', label='Test AUC')\n",
    "plt.xlabel('Max Features')\n",
    "plt.ylabel('AUC Scores')\n",
    "plt.legend(loc='best')\n",
    "plt.show();"
   ]
  },
  {
   "cell_type": "code",
   "execution_count": 218,
   "metadata": {},
   "outputs": [
    {
     "data": {
      "image/png": "[encoded data removed]",
      "text/plain": [
       "<Figure size 720x576 with 1 Axes>"
      ]
     },
     "metadata": {
      "needs_background": "light"
     },
     "output_type": "display_data"
    }
   ],
   "source": [
    "# Visualize effect of number of trees on AUC scores\n",
    "\n",
    "n_estimators = [10, 20, 50, 75, 100, 120, 150, 200]\n",
    "train_auc = []\n",
    "test_auc = []\n",
    "\n",
    "for estimator in n_estimators:\n",
    "    \n",
    "    rf = RandomForestClassifier(n_estimators=estimator)\n",
    "    rf.fit(X_train, y_train)\n",
    "    train_pred = rf.predict(X_train)\n",
    "    fpr, tpr, thresh = roc_curve(y_train, train_pred)\n",
    "    roc_auc = auc(fpr, tpr)\n",
    "    train_auc.append(roc_auc)\n",
    "    \n",
    "    test_pred = rf.predict(X_test)\n",
    "    fpr, tpr, thresh = roc_curve(y_test, test_pred)\n",
    "    roc_auc = auc(fpr, tpr)\n",
    "    test_auc.append(roc_auc)\n",
    "\n",
    "plt.figure(figsize=(10,8))\n",
    "plt.plot(n_estimators, train_auc, color='purple', label='Train AUC')\n",
    "plt.plot(n_estimators, test_auc, color='orange', label='Test AUC')\n",
    "plt.xlabel('Number of Trees')\n",
    "plt.ylabel('AUC Scores')\n",
    "plt.legend(loc='best')\n",
    "plt.show();"
   ]
  },
  {
   "cell_type": "code",
   "execution_count": 219,
   "metadata": {},
   "outputs": [],
   "source": [
    "# rf_bad_features = pd.Series(rf4.feature_importances_, index=standard_df.columns)"
   ]
  },
  {
   "cell_type": "code",
   "execution_count": 220,
   "metadata": {},
   "outputs": [],
   "source": [
    "# rf_bad_features.sort_values(inplace=True)"
   ]
  },
  {
   "cell_type": "code",
   "execution_count": 221,
   "metadata": {},
   "outputs": [],
   "source": [
    "# rf_bad_features"
   ]
  },
  {
   "cell_type": "code",
   "execution_count": 222,
   "metadata": {},
   "outputs": [],
   "source": [
    "# AdaBoost Classifier feature importance"
   ]
  },
  {
   "cell_type": "code",
   "execution_count": 223,
   "metadata": {},
   "outputs": [],
   "source": [
    "# ada_features = pd.Series(ada_clf3.feature_importances_, index=standard_df.columns)\n",
    "# ada_features.sort_values(ascending=True, inplace=True)"
   ]
  },
  {
   "cell_type": "code",
   "execution_count": 224,
   "metadata": {},
   "outputs": [],
   "source": [
    "# ada_features"
   ]
  }
 ],
 "metadata": {
  "kernelspec": {
   "display_name": "Python [default]",
   "language": "python",
   "name": "python3"
  },
  "language_info": {
   "codemirror_mode": {
    "name": "ipython",
    "version": 3
   },
   "file_extension": ".py",
   "mimetype": "text/x-python",
   "name": "python",
   "nbconvert_exporter": "python",
   "pygments_lexer": "ipython3",
   "version": "3.6.6"
  }
 },
 "nbformat": 4,
 "nbformat_minor": 2
}
